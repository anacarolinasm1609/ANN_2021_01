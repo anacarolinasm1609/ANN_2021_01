{
  "nbformat": 4,
  "nbformat_minor": 0,
  "metadata": {
    "colab": {
      "name": "ANN_open_dataset_abril_30_2021.ipynb",
      "provenance": [],
      "authorship_tag": "ABX9TyP5sxaVRKkHV8J+vURbD3vy",
      "include_colab_link": true
    },
    "kernelspec": {
      "name": "python3",
      "display_name": "Python 3"
    },
    "language_info": {
      "name": "python"
    }
  },
  "cells": [
    {
      "cell_type": "markdown",
      "metadata": {
        "id": "view-in-github",
        "colab_type": "text"
      },
      "source": [
        "<a href=\"https://colab.research.google.com/github/ucfilho/ANN_2021_01/blob/main/ANN_open_dataset_abril_30_2021.ipynb\" target=\"_parent\"><img src=\"https://colab.research.google.com/assets/colab-badge.svg\" alt=\"Open In Colab\"/></a>"
      ]
    },
    {
      "cell_type": "code",
      "metadata": {
        "id": "umKludxFZabC"
      },
      "source": [
        "import pandas as pd\n",
        "import numpy as np"
      ],
      "execution_count": 1,
      "outputs": []
    },
    {
      "cell_type": "code",
      "metadata": {
        "colab": {
          "base_uri": "https://localhost:8080/"
        },
        "id": "nX5AOp5RZbsu",
        "outputId": "767d2e09-a0d0-43f6-b4c9-a77f17b8da64"
      },
      "source": [
        "!git clone https://github.com/ucfilho/ANN_routnines\n",
        "%cd ANN_routnines"
      ],
      "execution_count": 2,
      "outputs": [
        {
          "output_type": "stream",
          "text": [
            "fatal: destination path 'ANN_routnines' already exists and is not an empty directory.\n",
            "/content/ANN_routnines\n"
          ],
          "name": "stdout"
        }
      ]
    },
    {
      "cell_type": "code",
      "metadata": {
        "id": "yDljPjXCZspP"
      },
      "source": [
        "# leitura dos dados\n",
        "df_sheet1=pd.read_excel(\"crossflow_microfiltration_particulate.xlsx\", 'Sheet1')"
      ],
      "execution_count": 3,
      "outputs": []
    },
    {
      "cell_type": "code",
      "metadata": {
        "colab": {
          "base_uri": "https://localhost:8080/",
          "height": 136
        },
        "id": "Vc7I2ro3ae5j",
        "outputId": "cadcd9d9-5958-4d59-8725-4933682c9481"
      },
      "source": [
        "df_sheet1.head(3)"
      ],
      "execution_count": 4,
      "outputs": [
        {
          "output_type": "execute_result",
          "data": {
            "text/html": [
              "<div>\n",
              "<style scoped>\n",
              "    .dataframe tbody tr th:only-of-type {\n",
              "        vertical-align: middle;\n",
              "    }\n",
              "\n",
              "    .dataframe tbody tr th {\n",
              "        vertical-align: top;\n",
              "    }\n",
              "\n",
              "    .dataframe thead th {\n",
              "        text-align: right;\n",
              "    }\n",
              "</style>\n",
              "<table border=\"1\" class=\"dataframe\">\n",
              "  <thead>\n",
              "    <tr style=\"text-align: right;\">\n",
              "      <th></th>\n",
              "      <th>Inlet velocity (m/s)</th>\n",
              "      <th>Concentration (g/L)</th>\n",
              "      <th>TMP (kPa)</th>\n",
              "      <th>FIE (%)</th>\n",
              "    </tr>\n",
              "  </thead>\n",
              "  <tbody>\n",
              "    <tr>\n",
              "      <th>0</th>\n",
              "      <td>0.25</td>\n",
              "      <td>1</td>\n",
              "      <td>20</td>\n",
              "      <td>15.71</td>\n",
              "    </tr>\n",
              "    <tr>\n",
              "      <th>1</th>\n",
              "      <td>0.25</td>\n",
              "      <td>1</td>\n",
              "      <td>50</td>\n",
              "      <td>20.00</td>\n",
              "    </tr>\n",
              "    <tr>\n",
              "      <th>2</th>\n",
              "      <td>0.25</td>\n",
              "      <td>2</td>\n",
              "      <td>40</td>\n",
              "      <td>33.33</td>\n",
              "    </tr>\n",
              "  </tbody>\n",
              "</table>\n",
              "</div>"
            ],
            "text/plain": [
              "   Inlet velocity (m/s)  Concentration (g/L)  TMP (kPa)  FIE (%)\n",
              "0                  0.25                    1         20    15.71\n",
              "1                  0.25                    1         50    20.00\n",
              "2                  0.25                    2         40    33.33"
            ]
          },
          "metadata": {
            "tags": []
          },
          "execution_count": 4
        }
      ]
    },
    {
      "cell_type": "code",
      "metadata": {
        "id": "kqnVQmnQcbDS"
      },
      "source": [
        "df_sheet2=pd.read_excel(\"crossflow_microfiltration_particulate.xlsx\", 'Sheet2')"
      ],
      "execution_count": 5,
      "outputs": []
    },
    {
      "cell_type": "code",
      "metadata": {
        "colab": {
          "base_uri": "https://localhost:8080/",
          "height": 136
        },
        "id": "LVp5OpxicgiE",
        "outputId": "273c5021-c4d9-4a4d-d6bc-17cf61b076b0"
      },
      "source": [
        "df_sheet2.head(3)"
      ],
      "execution_count": 6,
      "outputs": [
        {
          "output_type": "execute_result",
          "data": {
            "text/html": [
              "<div>\n",
              "<style scoped>\n",
              "    .dataframe tbody tr th:only-of-type {\n",
              "        vertical-align: middle;\n",
              "    }\n",
              "\n",
              "    .dataframe tbody tr th {\n",
              "        vertical-align: top;\n",
              "    }\n",
              "\n",
              "    .dataframe thead th {\n",
              "        text-align: right;\n",
              "    }\n",
              "</style>\n",
              "<table border=\"1\" class=\"dataframe\">\n",
              "  <thead>\n",
              "    <tr style=\"text-align: right;\">\n",
              "      <th></th>\n",
              "      <th>Inlet velocity (m/s)</th>\n",
              "      <th>Concentration (g/L)</th>\n",
              "      <th>TMP (kPa)</th>\n",
              "      <th>FIE (%)</th>\n",
              "    </tr>\n",
              "  </thead>\n",
              "  <tbody>\n",
              "    <tr>\n",
              "      <th>0</th>\n",
              "      <td>0.38</td>\n",
              "      <td>5</td>\n",
              "      <td>30</td>\n",
              "      <td>92.68</td>\n",
              "    </tr>\n",
              "    <tr>\n",
              "      <th>1</th>\n",
              "      <td>0.50</td>\n",
              "      <td>1</td>\n",
              "      <td>30</td>\n",
              "      <td>27.07</td>\n",
              "    </tr>\n",
              "    <tr>\n",
              "      <th>2</th>\n",
              "      <td>0.50</td>\n",
              "      <td>1</td>\n",
              "      <td>40</td>\n",
              "      <td>29.33</td>\n",
              "    </tr>\n",
              "  </tbody>\n",
              "</table>\n",
              "</div>"
            ],
            "text/plain": [
              "   Inlet velocity (m/s)  Concentration (g/L)  TMP (kPa)  FIE (%)\n",
              "0                  0.38                    5         30    92.68\n",
              "1                  0.50                    1         30    27.07\n",
              "2                  0.50                    1         40    29.33"
            ]
          },
          "metadata": {
            "tags": []
          },
          "execution_count": 6
        }
      ]
    },
    {
      "cell_type": "code",
      "metadata": {
        "id": "WuYf-S8PcpGm"
      },
      "source": [
        "df_sheet3=pd.read_excel(\"crossflow_microfiltration_particulate.xlsx\", 'Sheet3')"
      ],
      "execution_count": 7,
      "outputs": []
    },
    {
      "cell_type": "code",
      "metadata": {
        "colab": {
          "base_uri": "https://localhost:8080/",
          "height": 136
        },
        "id": "JbvYBbgDcru8",
        "outputId": "935e99e5-9da0-43b1-b1c7-839becd6c3b5"
      },
      "source": [
        "df_sheet3.head(3)"
      ],
      "execution_count": 8,
      "outputs": [
        {
          "output_type": "execute_result",
          "data": {
            "text/html": [
              "<div>\n",
              "<style scoped>\n",
              "    .dataframe tbody tr th:only-of-type {\n",
              "        vertical-align: middle;\n",
              "    }\n",
              "\n",
              "    .dataframe tbody tr th {\n",
              "        vertical-align: top;\n",
              "    }\n",
              "\n",
              "    .dataframe thead th {\n",
              "        text-align: right;\n",
              "    }\n",
              "</style>\n",
              "<table border=\"1\" class=\"dataframe\">\n",
              "  <thead>\n",
              "    <tr style=\"text-align: right;\">\n",
              "      <th></th>\n",
              "      <th>Inlet velocity (m/s)</th>\n",
              "      <th>Concentration (g/L)</th>\n",
              "      <th>TMP (kPa)</th>\n",
              "      <th>FIE (%)</th>\n",
              "      <th>Type</th>\n",
              "    </tr>\n",
              "  </thead>\n",
              "  <tbody>\n",
              "    <tr>\n",
              "      <th>0</th>\n",
              "      <td>0.25</td>\n",
              "      <td>1</td>\n",
              "      <td>20</td>\n",
              "      <td>15.71</td>\n",
              "      <td>train</td>\n",
              "    </tr>\n",
              "    <tr>\n",
              "      <th>1</th>\n",
              "      <td>0.25</td>\n",
              "      <td>1</td>\n",
              "      <td>50</td>\n",
              "      <td>20.00</td>\n",
              "      <td>train</td>\n",
              "    </tr>\n",
              "    <tr>\n",
              "      <th>2</th>\n",
              "      <td>0.25</td>\n",
              "      <td>2</td>\n",
              "      <td>40</td>\n",
              "      <td>33.33</td>\n",
              "      <td>train</td>\n",
              "    </tr>\n",
              "  </tbody>\n",
              "</table>\n",
              "</div>"
            ],
            "text/plain": [
              "   Inlet velocity (m/s)  Concentration (g/L)  TMP (kPa)  FIE (%)   Type\n",
              "0                  0.25                    1         20    15.71  train\n",
              "1                  0.25                    1         50    20.00  train\n",
              "2                  0.25                    2         40    33.33  train"
            ]
          },
          "metadata": {
            "tags": []
          },
          "execution_count": 8
        }
      ]
    },
    {
      "cell_type": "code",
      "metadata": {
        "id": "hqwWLQlygR8p"
      },
      "source": [
        "X_train = df_sheet1.iloc[[0,1,2]]\n",
        "y_train = df_sheet1.iloc[:,3]\n",
        "X_test = df_sheet2.iloc[[0,1,2]]\n",
        "y_test = df_sheet2.iloc[:,3]"
      ],
      "execution_count": 9,
      "outputs": []
    },
    {
      "cell_type": "code",
      "metadata": {
        "colab": {
          "base_uri": "https://localhost:8080/"
        },
        "id": "3_jTR367gi7n",
        "outputId": "6e5ad792-3db5-48f3-807b-4d8f509eee8e"
      },
      "source": [
        "y_test"
      ],
      "execution_count": 10,
      "outputs": [
        {
          "output_type": "execute_result",
          "data": {
            "text/plain": [
              "0     92.68\n",
              "1     27.07\n",
              "2     29.33\n",
              "3     28.05\n",
              "4     59.83\n",
              "5    102.38\n",
              "6    131.75\n",
              "Name: FIE (%), dtype: float64"
            ]
          },
          "metadata": {
            "tags": []
          },
          "execution_count": 10
        }
      ]
    },
    {
      "cell_type": "code",
      "metadata": {
        "colab": {
          "base_uri": "https://localhost:8080/"
        },
        "id": "myDxFh5wglpd",
        "outputId": "cd948891-4e5c-4a3d-fef1-3909d8806ca8"
      },
      "source": [
        "y_train.head(3)"
      ],
      "execution_count": 11,
      "outputs": [
        {
          "output_type": "execute_result",
          "data": {
            "text/plain": [
              "0    15.71\n",
              "1    20.00\n",
              "2    33.33\n",
              "Name: FIE (%), dtype: float64"
            ]
          },
          "metadata": {
            "tags": []
          },
          "execution_count": 11
        }
      ]
    },
    {
      "cell_type": "code",
      "metadata": {
        "id": "0MeWy4IzhrlB"
      },
      "source": [
        ""
      ],
      "execution_count": null,
      "outputs": []
    }
  ]
}
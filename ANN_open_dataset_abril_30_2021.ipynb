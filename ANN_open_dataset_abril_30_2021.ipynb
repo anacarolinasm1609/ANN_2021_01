{
  "nbformat": 4,
  "nbformat_minor": 0,
  "metadata": {
    "colab": {
      "name": "ANN_open_dataset_abril_30_2021.ipynb",
      "provenance": [],
      "authorship_tag": "ABX9TyOvy7R3YNcZMxpOp/w6Zijd",
      "include_colab_link": true
    },
    "kernelspec": {
      "name": "python3",
      "display_name": "Python 3"
    },
    "language_info": {
      "name": "python"
    }
  },
  "cells": [
    {
      "cell_type": "markdown",
      "metadata": {
        "id": "view-in-github",
        "colab_type": "text"
      },
      "source": [
        "<a href=\"https://colab.research.google.com/github/ucfilho/ANN_2021_01/blob/main/ANN_open_dataset_abril_30_2021.ipynb\" target=\"_parent\"><img src=\"https://colab.research.google.com/assets/colab-badge.svg\" alt=\"Open In Colab\"/></a>"
      ]
    },
    {
      "cell_type": "code",
      "metadata": {
        "id": "umKludxFZabC"
      },
      "source": [
        "import pandas as pd\n",
        "import numpy as np"
      ],
      "execution_count": 1,
      "outputs": []
    },
    {
      "cell_type": "code",
      "metadata": {
        "colab": {
          "base_uri": "https://localhost:8080/"
        },
        "id": "nX5AOp5RZbsu",
        "outputId": "77ab3e1c-d6c6-4aff-af06-1292746a5261"
      },
      "source": [
        "!git clone https://github.com/ucfilho/ANN_routnines\n",
        "%cd ANN_routnines"
      ],
      "execution_count": 2,
      "outputs": [
        {
          "output_type": "stream",
          "text": [
            "fatal: destination path 'ANN_routnines' already exists and is not an empty directory.\n",
            "/content/ANN_routnines\n"
          ],
          "name": "stdout"
        }
      ]
    },
    {
      "cell_type": "code",
      "metadata": {
        "id": "yDljPjXCZspP"
      },
      "source": [
        "# leitura dos dados\n",
        "df_sheet1=pd.read_excel(\"crossflow_microfiltration_particulate.xlsx\", 'Sheet1')"
      ],
      "execution_count": 3,
      "outputs": []
    },
    {
      "cell_type": "code",
      "metadata": {
        "colab": {
          "base_uri": "https://localhost:8080/",
          "height": 136
        },
        "id": "Vc7I2ro3ae5j",
        "outputId": "fd04f684-87e4-498f-99ae-10411f896ba2"
      },
      "source": [
        "df_sheet1.head(3)"
      ],
      "execution_count": 4,
      "outputs": [
        {
          "output_type": "execute_result",
          "data": {
            "text/html": [
              "<div>\n",
              "<style scoped>\n",
              "    .dataframe tbody tr th:only-of-type {\n",
              "        vertical-align: middle;\n",
              "    }\n",
              "\n",
              "    .dataframe tbody tr th {\n",
              "        vertical-align: top;\n",
              "    }\n",
              "\n",
              "    .dataframe thead th {\n",
              "        text-align: right;\n",
              "    }\n",
              "</style>\n",
              "<table border=\"1\" class=\"dataframe\">\n",
              "  <thead>\n",
              "    <tr style=\"text-align: right;\">\n",
              "      <th></th>\n",
              "      <th>Inlet velocity (m/s)</th>\n",
              "      <th>Concentration (g/L)</th>\n",
              "      <th>TMP (kPa)</th>\n",
              "      <th>FIE (%)</th>\n",
              "    </tr>\n",
              "  </thead>\n",
              "  <tbody>\n",
              "    <tr>\n",
              "      <th>0</th>\n",
              "      <td>0.25</td>\n",
              "      <td>1</td>\n",
              "      <td>20</td>\n",
              "      <td>15.71</td>\n",
              "    </tr>\n",
              "    <tr>\n",
              "      <th>1</th>\n",
              "      <td>0.25</td>\n",
              "      <td>1</td>\n",
              "      <td>50</td>\n",
              "      <td>20.00</td>\n",
              "    </tr>\n",
              "    <tr>\n",
              "      <th>2</th>\n",
              "      <td>0.25</td>\n",
              "      <td>2</td>\n",
              "      <td>40</td>\n",
              "      <td>33.33</td>\n",
              "    </tr>\n",
              "  </tbody>\n",
              "</table>\n",
              "</div>"
            ],
            "text/plain": [
              "   Inlet velocity (m/s)  Concentration (g/L)  TMP (kPa)  FIE (%)\n",
              "0                  0.25                    1         20    15.71\n",
              "1                  0.25                    1         50    20.00\n",
              "2                  0.25                    2         40    33.33"
            ]
          },
          "metadata": {
            "tags": []
          },
          "execution_count": 4
        }
      ]
    },
    {
      "cell_type": "code",
      "metadata": {
        "id": "kqnVQmnQcbDS"
      },
      "source": [
        "df_sheet2=pd.read_excel(\"crossflow_microfiltration_particulate.xlsx\", 'Sheet2')"
      ],
      "execution_count": 5,
      "outputs": []
    },
    {
      "cell_type": "code",
      "metadata": {
        "colab": {
          "base_uri": "https://localhost:8080/",
          "height": 136
        },
        "id": "LVp5OpxicgiE",
        "outputId": "555256a0-5e36-407c-f58b-b82f74fe7d12"
      },
      "source": [
        "df_sheet2.head(3)"
      ],
      "execution_count": 6,
      "outputs": [
        {
          "output_type": "execute_result",
          "data": {
            "text/html": [
              "<div>\n",
              "<style scoped>\n",
              "    .dataframe tbody tr th:only-of-type {\n",
              "        vertical-align: middle;\n",
              "    }\n",
              "\n",
              "    .dataframe tbody tr th {\n",
              "        vertical-align: top;\n",
              "    }\n",
              "\n",
              "    .dataframe thead th {\n",
              "        text-align: right;\n",
              "    }\n",
              "</style>\n",
              "<table border=\"1\" class=\"dataframe\">\n",
              "  <thead>\n",
              "    <tr style=\"text-align: right;\">\n",
              "      <th></th>\n",
              "      <th>Inlet velocity (m/s)</th>\n",
              "      <th>Concentration (g/L)</th>\n",
              "      <th>TMP (kPa)</th>\n",
              "      <th>FIE (%)</th>\n",
              "    </tr>\n",
              "  </thead>\n",
              "  <tbody>\n",
              "    <tr>\n",
              "      <th>0</th>\n",
              "      <td>0.38</td>\n",
              "      <td>5</td>\n",
              "      <td>30</td>\n",
              "      <td>92.68</td>\n",
              "    </tr>\n",
              "    <tr>\n",
              "      <th>1</th>\n",
              "      <td>0.50</td>\n",
              "      <td>1</td>\n",
              "      <td>30</td>\n",
              "      <td>27.07</td>\n",
              "    </tr>\n",
              "    <tr>\n",
              "      <th>2</th>\n",
              "      <td>0.50</td>\n",
              "      <td>1</td>\n",
              "      <td>40</td>\n",
              "      <td>29.33</td>\n",
              "    </tr>\n",
              "  </tbody>\n",
              "</table>\n",
              "</div>"
            ],
            "text/plain": [
              "   Inlet velocity (m/s)  Concentration (g/L)  TMP (kPa)  FIE (%)\n",
              "0                  0.38                    5         30    92.68\n",
              "1                  0.50                    1         30    27.07\n",
              "2                  0.50                    1         40    29.33"
            ]
          },
          "metadata": {
            "tags": []
          },
          "execution_count": 6
        }
      ]
    },
    {
      "cell_type": "code",
      "metadata": {
        "id": "WuYf-S8PcpGm"
      },
      "source": [
        "df_sheet3=pd.read_excel(\"crossflow_microfiltration_particulate.xlsx\", 'Sheet2')"
      ],
      "execution_count": 7,
      "outputs": []
    },
    {
      "cell_type": "code",
      "metadata": {
        "colab": {
          "base_uri": "https://localhost:8080/"
        },
        "id": "JbvYBbgDcru8",
        "outputId": "c9abf87a-bb64-4e8e-d0aa-27cae9d7ce9c"
      },
      "source": [
        "df_sheet3.columns"
      ],
      "execution_count": 9,
      "outputs": [
        {
          "output_type": "execute_result",
          "data": {
            "text/plain": [
              "Index(['Inlet velocity (m/s)', 'Concentration (g/L)', 'TMP (kPa)', 'FIE (%)'], dtype='object')"
            ]
          },
          "metadata": {
            "tags": []
          },
          "execution_count": 9
        }
      ]
    }
  ]
}
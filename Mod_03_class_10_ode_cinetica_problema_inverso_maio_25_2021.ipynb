{
  "nbformat": 4,
  "nbformat_minor": 0,
  "metadata": {
    "colab": {
      "name": "Mod_03_class_10_ode_cinetica_problema_inverso_maio_25_2021.ipynb",
      "provenance": [],
      "collapsed_sections": [],
      "authorship_tag": "ABX9TyO7F26QpTiNshGXkxIa64hO",
      "include_colab_link": true
    },
    "kernelspec": {
      "name": "python3",
      "display_name": "Python 3"
    }
  },
  "cells": [
    {
      "cell_type": "markdown",
      "metadata": {
        "id": "view-in-github",
        "colab_type": "text"
      },
      "source": [
        "<a href=\"https://colab.research.google.com/github/ucfilho/ANN_2021_01/blob/main/Mod_03_class_10_ode_cinetica_problema_inverso_maio_25_2021.ipynb\" target=\"_parent\"><img src=\"https://colab.research.google.com/assets/colab-badge.svg\" alt=\"Open In Colab\"/></a>"
      ]
    },
    {
      "cell_type": "code",
      "metadata": {
        "id": "1FqdWwVtCeSu"
      },
      "source": [
        "import numpy as np\n",
        "import matplotlib.pyplot as plt\n",
        "from sklearn.metrics import r2_score\n",
        "from scipy.optimize import differential_evolution\n",
        "from scipy.integrate import odeint"
      ],
      "execution_count": 1,
      "outputs": []
    },
    {
      "cell_type": "code",
      "metadata": {
        "id": "jAaQ9UiAJGUS"
      },
      "source": [
        ""
      ],
      "execution_count": 1,
      "outputs": []
    },
    {
      "cell_type": "code",
      "metadata": {
        "id": "YudhrIw9YxWR"
      },
      "source": [
        "x0 = 10.0\n",
        "t0=0\n",
        "time_values = [15.0, 30.0,40.0, 50.0]\n",
        "x_true = [9.25,8.60,8.22,7.87]"
      ],
      "execution_count": 2,
      "outputs": []
    },
    {
      "cell_type": "code",
      "metadata": {
        "id": "nhuMa4k1a2kS"
      },
      "source": [
        "tf = time_values[-1]\n",
        "t = np.linspace( 0, tf, 101 )\n",
        "Time = t.tolist();\n",
        "n = len(time_values)\n",
        "Id = np.zeros(n,dtype=int)\n",
        "for i in range(n):\n",
        "  Id[i] =Time.index( time_values[i] )"
      ],
      "execution_count": 3,
      "outputs": []
    },
    {
      "cell_type": "code",
      "metadata": {
        "id": "6ln1rA4oCXkI"
      },
      "source": [
        "def fobj(x_calc,x_true):\n",
        "  k=0\n",
        "  soma = 0.0\n",
        "  for x in x_calc:\n",
        "    soma = soma + (x - x_true[k])**2\n",
        "    k = k+1\n",
        "  return soma\n",
        "\n",
        "def edo( x, t,k, alpha):\n",
        "  dA_dt = -k*x**alpha\n",
        "  return dA_dt\n",
        "\n",
        "def model( param):\n",
        "  #global x0,x_true, n, t, Id\n",
        "  k, alpha = param\n",
        "  x_calc =np.zeros(n,dtype=float)\n",
        "  Time = t.tolist();\n",
        "  x_edo = odeint( edo, x0, t, args=(k, alpha)) # \n",
        "  x_calc = x_edo[Id]\n",
        "  MIN = fobj(x_calc,x_true)\n",
        "  return MIN\n"
      ],
      "execution_count": 4,
      "outputs": []
    },
    {
      "cell_type": "code",
      "metadata": {
        "id": "hocsh-vTxdrE"
      },
      "source": [
        "bounds = [(0,1e-2), (0, 3)]\n",
        "result = differential_evolution(model, bounds, maxiter = 200, popsize = 100)\n",
        "k, alpha =  result.x\n",
        "MELHOR = result.fun\n",
        "x_best = odeint( edo, x0, t, args=(k, alpha))\n",
        "x_best = x_best[Id]"
      ],
      "execution_count": 6,
      "outputs": []
    },
    {
      "cell_type": "code",
      "metadata": {
        "id": "5oQmDri4FDZ8",
        "colab": {
          "base_uri": "https://localhost:8080/"
        },
        "outputId": "7605cea6-c9f5-4150-c25c-79e79b36a0e7"
      },
      "source": [
        "r_squared = r2_score(x_true,x_best)\n",
        "print('k =',k,'alpha =', alpha,'fobj =', MELHOR,'R^2=',r_squared)"
      ],
      "execution_count": 7,
      "outputs": [
        {
          "output_type": "stream",
          "text": [
            "k = 0.0005290759063801683 alpha = 2.0105826966165243 fobj = [7.87766473e-06] R^2= 0.9999924752462208\n"
          ],
          "name": "stdout"
        }
      ]
    },
    {
      "cell_type": "code",
      "metadata": {
        "colab": {
          "base_uri": "https://localhost:8080/"
        },
        "id": "TIt907p7RQs-",
        "outputId": "d2c6ca1e-2d1e-49f2-c07d-3e73f90737d5"
      },
      "source": [
        "x_best"
      ],
      "execution_count": 8,
      "outputs": [
        {
          "output_type": "execute_result",
          "data": {
            "text/plain": [
              "array([[9.24825626],\n",
              "       [8.60211237],\n",
              "       [8.21950443],\n",
              "       [7.86964038]])"
            ]
          },
          "metadata": {
            "tags": []
          },
          "execution_count": 8
        }
      ]
    }
  ]
}
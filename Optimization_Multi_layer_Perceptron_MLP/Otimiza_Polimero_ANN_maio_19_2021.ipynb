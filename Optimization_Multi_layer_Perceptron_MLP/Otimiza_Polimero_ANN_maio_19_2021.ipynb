{
  "nbformat": 4,
  "nbformat_minor": 0,
  "metadata": {
    "kernelspec": {
      "display_name": "Python 3",
      "language": "python",
      "name": "python3"
    },
    "language_info": {
      "codemirror_mode": {
        "name": "ipython",
        "version": 3
      },
      "file_extension": ".py",
      "mimetype": "text/x-python",
      "name": "python",
      "nbconvert_exporter": "python",
      "pygments_lexer": "ipython3",
      "version": "3.5.4"
    },
    "colab": {
      "name": "Otimiza_Polimero_ANN_maio_19_2021.ipynb",
      "provenance": [],
      "include_colab_link": true
    }
  },
  "cells": [
    {
      "cell_type": "markdown",
      "metadata": {
        "id": "view-in-github",
        "colab_type": "text"
      },
      "source": [
        "<a href=\"https://colab.research.google.com/github/ucfilho/ANN_2021_01/blob/main/Optimization_Multi_layer_Perceptron_MLP/Otimiza_Polimero_ANN_maio_19_2021.ipynb\" target=\"_parent\"><img src=\"https://colab.research.google.com/assets/colab-badge.svg\" alt=\"Open In Colab\"/></a>"
      ]
    },
    {
      "cell_type": "code",
      "metadata": {
        "id": "6wMZRhlmtawW"
      },
      "source": [
        "# bibliotecas usadas\n",
        "import numpy as np\n",
        "import pandas as pd\n",
        "import matplotlib.pyplot as plt\n",
        "from scipy import optimize\n",
        "from sklearn.neural_network import MLPRegressor\n",
        "from sklearn.metrics import mean_squared_error\n",
        "from sklearn.metrics import r2_score \n",
        "from mpl_toolkits.mplot3d import Axes3D, axes3d\n",
        "%matplotlib inline"
      ],
      "execution_count": 1,
      "outputs": []
    },
    {
      "cell_type": "code",
      "metadata": {
        "id": "x1GpuBRztawh"
      },
      "source": [
        "# funcao normatiza dados\n",
        "def Normatiza(x):\n",
        "    strings=list(x)\n",
        "    for i in strings:\n",
        "        max_x=x[i].max()\n",
        "        min_x=x[i].min()\n",
        "        a=(max_x+min_x)/2\n",
        "        b=(max_x-min_x)/2\n",
        "        x[i]=(x[i]-a)/b\n",
        "    return x"
      ],
      "execution_count": 2,
      "outputs": []
    },
    {
      "cell_type": "code",
      "metadata": {
        "id": "SUdp8Eiatawj"
      },
      "source": [
        "# funcao retorna os dados a forma original\n",
        "def Original(x,x_old):\n",
        "    strings=list(x)\n",
        "    for i in strings:\n",
        "        max_x=x_old[i].max()\n",
        "        min_x=x_old[i].min()\n",
        "        a=(max_x+min_x)/2\n",
        "        b=(max_x-min_x)/2\n",
        "        x[i]=x[i]*b+a\n",
        "    return x"
      ],
      "execution_count": 3,
      "outputs": []
    },
    {
      "cell_type": "code",
      "metadata": {
        "id": "oZUvgm11tawk",
        "colab": {
          "base_uri": "https://localhost:8080/"
        },
        "outputId": "9c285b03-5a72-466e-ea4c-74fcce5e82ec"
      },
      "source": [
        "!git clone https://github.com/ucfilho/ANN_2021_01\n",
        "%cd ANN_2021_01"
      ],
      "execution_count": 4,
      "outputs": [
        {
          "output_type": "stream",
          "text": [
            "fatal: destination path 'ANN_2021_01' already exists and is not an empty directory.\n",
            "/content/ANN_2021_01\n"
          ],
          "name": "stdout"
        }
      ]
    },
    {
      "cell_type": "code",
      "metadata": {
        "id": "AcT2bs-gtawl",
        "colab": {
          "base_uri": "https://localhost:8080/"
        },
        "outputId": "f6643724-8942-4f75-a331-8ba75b6f6996"
      },
      "source": [
        "DAT=pd.read_csv(\"Polimero_maio_21_2015.txt\",sep='\\t')\n",
        "print(DAT.head())"
      ],
      "execution_count": 5,
      "outputs": [
        {
          "output_type": "stream",
          "text": [
            "   Time     TC     Y  MI    MW\n",
            "0  80.0  170.0  76.5  62  2940\n",
            "1  80.0  180.0  77.0  60  3470\n",
            "2  90.0  170.0  78.0  66  3680\n",
            "3  90.0  180.0  79.5  59  3890\n",
            "4  85.0  175.0  79.9  72  3480\n"
          ],
          "name": "stdout"
        }
      ]
    },
    {
      "cell_type": "code",
      "metadata": {
        "id": "K-QEp7PRtawn"
      },
      "source": [
        "# separa as colunas de interesse\n",
        "Index=range(5)\n",
        "Dat_Select=[]\n",
        "Dat_Select=DAT.iloc[:,Index].copy()"
      ],
      "execution_count": 6,
      "outputs": []
    },
    {
      "cell_type": "code",
      "metadata": {
        "id": "jGR0XHo5tawn"
      },
      "source": [
        "# separa os dados em normatizados e originais\n",
        "DAT_OLD=[]\n",
        "DAT_OLD=Dat_Select.copy()\n",
        "DAT=Normatiza(Dat_Select)"
      ],
      "execution_count": 7,
      "outputs": []
    },
    {
      "cell_type": "code",
      "metadata": {
        "id": "dHS3mknntawo"
      },
      "source": [
        "# separa os dados em treino e teste\n",
        "train=DAT.sample(frac=1.0,random_state=None) # poderia ser frac=0.5? sim ou nao?\n",
        "test=DAT.drop(train.index)"
      ],
      "execution_count": 8,
      "outputs": []
    },
    {
      "cell_type": "code",
      "metadata": {
        "id": "-H64G9pptawo"
      },
      "source": [
        "# obtem as variaveis independentes (treino e teste)\n",
        "x_train=train.iloc[:,[0,1]]\n",
        "x_test=test.iloc[:,[0,1]]\n",
        "X_OLD=DAT_OLD.iloc[:,[0,1]]"
      ],
      "execution_count": 9,
      "outputs": []
    },
    {
      "cell_type": "code",
      "metadata": {
        "id": "IGE7XGyKtawp",
        "colab": {
          "base_uri": "https://localhost:8080/"
        },
        "outputId": "91fa52cc-7c1d-4e80-e2bf-c11560d4b650"
      },
      "source": [
        "# obtem as variaveis dependentes (treino e teste)\n",
        "Index=[2,3,4]\n",
        "y_train=train.iloc[:,Index]\n",
        "y_test=test.iloc[:,Index]\n",
        "Y_OLD=DAT_OLD.iloc[:,Index]\n",
        "print(Y_OLD)\n",
        "print(x_train)"
      ],
      "execution_count": 10,
      "outputs": [
        {
          "output_type": "stream",
          "text": [
            "       Y  MI    MW\n",
            "0   76.5  62  2940\n",
            "1   77.0  60  3470\n",
            "2   78.0  66  3680\n",
            "3   79.5  59  3890\n",
            "4   79.9  72  3480\n",
            "5   80.3  69  3200\n",
            "6   80.0  68  3410\n",
            "7   79.7  70  3290\n",
            "8   79.8  71  3500\n",
            "9   78.4  68  3360\n",
            "10  75.6  71  3020\n",
            "11  78.5  58  3630\n",
            "12  77.0  57  3150\n",
            "        Time        TC\n",
            "3   0.707214  0.707214\n",
            "1  -0.707214  0.707214\n",
            "8   0.000000  0.000000\n",
            "10 -1.000000  0.000000\n",
            "4   0.000000  0.000000\n",
            "6   0.000000  0.000000\n",
            "0  -0.707214 -0.707214\n",
            "9   1.000000  0.000000\n",
            "5   0.000000  0.000000\n",
            "2   0.707214 -0.707214\n",
            "11  0.000000  1.000000\n",
            "7   0.000000  0.000000\n",
            "12  0.000000 -1.000000\n"
          ],
          "name": "stdout"
        }
      ]
    },
    {
      "cell_type": "code",
      "metadata": {
        "id": "roB-JgqBtawp"
      },
      "source": [
        "# define a rede neural \n",
        "clf = MLPRegressor(solver='lbfgs',activation='tanh',alpha=1e-5,hidden_layer_sizes=(6), \n",
        "                    random_state=1)"
      ],
      "execution_count": 11,
      "outputs": []
    },
    {
      "cell_type": "code",
      "metadata": {
        "id": "VmwcY9rEtawp",
        "colab": {
          "base_uri": "https://localhost:8080/"
        },
        "outputId": "55043397-30b1-4370-f4f2-6484973c1912"
      },
      "source": [
        "# treina a rede neural\n",
        "clf.fit(x_train, y_train)"
      ],
      "execution_count": 12,
      "outputs": [
        {
          "output_type": "stream",
          "text": [
            "/usr/local/lib/python3.7/dist-packages/sklearn/neural_network/_multilayer_perceptron.py:470: ConvergenceWarning: lbfgs failed to converge (status=1):\n",
            "STOP: TOTAL NO. of ITERATIONS REACHED LIMIT.\n",
            "\n",
            "Increase the number of iterations (max_iter) or scale the data as shown in:\n",
            "    https://scikit-learn.org/stable/modules/preprocessing.html\n",
            "  self.n_iter_ = _check_optimize_result(\"lbfgs\", opt_res, self.max_iter)\n"
          ],
          "name": "stderr"
        },
        {
          "output_type": "execute_result",
          "data": {
            "text/plain": [
              "MLPRegressor(activation='tanh', alpha=1e-05, batch_size='auto', beta_1=0.9,\n",
              "             beta_2=0.999, early_stopping=False, epsilon=1e-08,\n",
              "             hidden_layer_sizes=6, learning_rate='constant',\n",
              "             learning_rate_init=0.001, max_fun=15000, max_iter=200,\n",
              "             momentum=0.9, n_iter_no_change=10, nesterovs_momentum=True,\n",
              "             power_t=0.5, random_state=1, shuffle=True, solver='lbfgs',\n",
              "             tol=0.0001, validation_fraction=0.1, verbose=False,\n",
              "             warm_start=False)"
            ]
          },
          "metadata": {
            "tags": []
          },
          "execution_count": 12
        }
      ]
    },
    {
      "cell_type": "code",
      "metadata": {
        "id": "A4pQI1P2taws",
        "colab": {
          "base_uri": "https://localhost:8080/"
        },
        "outputId": "42180ab8-acdd-4ac2-a5ff-8c38c9876764"
      },
      "source": [
        "# usa a rede neural treina em calculos para treino e teste\n",
        "y_calc_train=clf.predict(x_train)\n",
        "x_test=x_train\n",
        "y_calc_test=clf.predict(x_test)\n",
        "print(y_calc_train)\n",
        "print(Y_OLD)"
      ],
      "execution_count": 13,
      "outputs": [
        {
          "output_type": "stream",
          "text": [
            "[[ 0.66161495 -0.73563706  0.9978445 ]\n",
            " [-0.40232803 -0.61551034  0.10438591]\n",
            " [ 0.84672034  0.7325246  -0.08307591]\n",
            " [-1.00018847  0.87224183 -0.82614598]\n",
            " [ 0.84672034  0.7325246  -0.08307591]\n",
            " [ 0.84672034  0.7325246  -0.08307591]\n",
            " [-0.61694881 -0.33433195 -1.00254881]\n",
            " [ 0.19186956  0.46796603 -0.11332535]\n",
            " [ 0.84672034  0.7325246  -0.08307591]\n",
            " [ 0.02148383  0.20079161  0.55636168]\n",
            " [ 0.2310253  -0.85125417  0.46323866]\n",
            " [ 0.84672034  0.7325246  -0.08307591]\n",
            " [-0.40305563 -1.00077048 -0.55530477]]\n",
            "       Y  MI    MW\n",
            "0   76.5  62  2940\n",
            "1   77.0  60  3470\n",
            "2   78.0  66  3680\n",
            "3   79.5  59  3890\n",
            "4   79.9  72  3480\n",
            "5   80.3  69  3200\n",
            "6   80.0  68  3410\n",
            "7   79.7  70  3290\n",
            "8   79.8  71  3500\n",
            "9   78.4  68  3360\n",
            "10  75.6  71  3020\n",
            "11  78.5  58  3630\n",
            "12  77.0  57  3150\n"
          ],
          "name": "stdout"
        }
      ]
    },
    {
      "cell_type": "code",
      "metadata": {
        "id": "gRieuhpXtawt"
      },
      "source": [
        "# transforma a saida da rede em dataframe \n",
        "y_calc_train=pd.DataFrame(y_calc_train)\n",
        "y_calc_test=pd.DataFrame(y_calc_test)\n",
        "col_names=list(y_train)\n",
        "y_calc_train.columns = col_names\n",
        "y_calc_test.columns = col_names"
      ],
      "execution_count": 14,
      "outputs": []
    },
    {
      "cell_type": "code",
      "metadata": {
        "id": "9G1jnFFqtawu",
        "colab": {
          "base_uri": "https://localhost:8080/"
        },
        "outputId": "f890af02-cf82-4538-8cf7-bef7066cb00e"
      },
      "source": [
        "# transforma dos dados calculados na forma original (nao normatizado)\n",
        "y_calc_train=Original(y_calc_train,Y_OLD)\n",
        "y_calc_test=Original(y_calc_test,Y_OLD)\n",
        "print(y_calc_train)\n",
        "print(Y_OLD)"
      ],
      "execution_count": 15,
      "outputs": [
        {
          "output_type": "stream",
          "text": [
            "            Y         MI           MW\n",
            "0   79.504795  58.982722  3888.976135\n",
            "1   77.004529  59.883672  3464.583307\n",
            "2   79.939793  69.993935  3375.538943\n",
            "3   75.599557  71.041814  3022.580660\n",
            "4   79.939793  69.993935  3375.538943\n",
            "5   79.939793  69.993935  3375.538943\n",
            "6   76.500170  61.992510  2938.789315\n",
            "7   78.400893  68.009745  3361.170458\n",
            "8   79.939793  69.993935  3375.538943\n",
            "9   78.000487  66.005937  3679.271796\n",
            "10  78.492909  58.115594  3635.038363\n",
            "11  79.939793  69.993935  3375.538943\n",
            "12  77.002819  56.994221  3151.230235\n",
            "       Y  MI    MW\n",
            "0   76.5  62  2940\n",
            "1   77.0  60  3470\n",
            "2   78.0  66  3680\n",
            "3   79.5  59  3890\n",
            "4   79.9  72  3480\n",
            "5   80.3  69  3200\n",
            "6   80.0  68  3410\n",
            "7   79.7  70  3290\n",
            "8   79.8  71  3500\n",
            "9   78.4  68  3360\n",
            "10  75.6  71  3020\n",
            "11  78.5  58  3630\n",
            "12  77.0  57  3150\n"
          ],
          "name": "stdout"
        }
      ]
    },
    {
      "cell_type": "code",
      "metadata": {
        "id": "5TZnRaVStawv"
      },
      "source": [
        "def MW_calc(x_test):\n",
        "    global Y_OLD,clf\n",
        "    y_calc_test=clf.predict(x_test)\n",
        "    y_calc_test=Original(y_calc_test,Y_OLD)\n",
        "    return y_calc_test['MW']\n",
        "def MI_calc(x_test):\n",
        "    global Y_OLD,clf\n",
        "    y_calc_test=clf.predict(x_test)\n",
        "    y_calc_test=Original(y_calc_test,Y_OLD)\n",
        "    return y_calc_test['MI']\n",
        "def Y_calc(x_test):\n",
        "    global Y_OLD,clf\n",
        "    y_calc_test=clf.predict(x_test)\n",
        "    y_calc_test=Original(y_calc_test,Y_OLD)\n",
        "    return y_calc_test['Y']\n",
        "\n",
        "def Desirability(y,U,T,L):\n",
        "    if y<L:\n",
        "        d=0\n",
        "    if (y>=L)&(y<=T):\n",
        "        d=(y-L)/(T-L)\n",
        "    if (y>=T)&(y<+U):\n",
        "        d=(U-y)/(U-T)\n",
        "    if (y>U):\n",
        "        d=0\n",
        "    return d"
      ],
      "execution_count": 16,
      "outputs": []
    },
    {
      "cell_type": "code",
      "metadata": {
        "id": "HNiM9bYwtaww"
      },
      "source": [
        "def function(x):\n",
        "    Time=x[0]\n",
        "    TC=x[1]\n",
        "    MW=MW_calc(x)\n",
        "    MI=MI_calc(x)\n",
        "    Y=Y_calc(x)\n",
        "    U=3890\n",
        "    T=3400\n",
        "    L=2940\n",
        "    d1=Desirability(MW,U,T,L)\n",
        "    U=68\n",
        "    T=65\n",
        "    L=62\n",
        "    d2=Desirability(MI,U,T,L)\n",
        "    U=80\n",
        "    T=77.5\n",
        "    L=75.6\n",
        "    d3=Desirability(Y,U,T,L)\n",
        "    fun = (-1)*(d1*d2*d3)**(1/3)\n",
        "    return fun"
      ],
      "execution_count": 17,
      "outputs": []
    },
    {
      "cell_type": "code",
      "metadata": {
        "id": "eZIMKvqMtawx",
        "colab": {
          "base_uri": "https://localhost:8080/",
          "height": 485
        },
        "outputId": "26c7c66f-d533-4ff6-9ee3-7c935954b0ec"
      },
      "source": [
        "bounds = [(-1, 1),(-1, 1)]\n",
        "\n",
        "Condicoes = optimize.differential_evolution(function,bounds,\n",
        "                                      init=\"latinhypercube\", # obs: init=\"random\"\n",
        "                                      maxiter=100, popsize=50,recombination=0.5)\n",
        "\n",
        "print(Condicoes)"
      ],
      "execution_count": 19,
      "outputs": [
        {
          "output_type": "error",
          "ename": "RuntimeError",
          "evalue": "ignored",
          "traceback": [
            "\u001b[0;31m---------------------------------------------------------------------------\u001b[0m",
            "\u001b[0;31mValueError\u001b[0m                                Traceback (most recent call last)",
            "\u001b[0;32m/usr/local/lib/python3.7/dist-packages/scipy/optimize/_differentialevolution.py\u001b[0m in \u001b[0;36m_calculate_population_energies\u001b[0;34m(self, population)\u001b[0m\n\u001b[1;32m    877\u001b[0m             calc_energies = list(self._mapwrapper(self.func,\n\u001b[0;32m--> 878\u001b[0;31m                                                   parameters_pop[0:nfevs]))\n\u001b[0m\u001b[1;32m    879\u001b[0m             \u001b[0menergies\u001b[0m\u001b[0;34m[\u001b[0m\u001b[0;36m0\u001b[0m\u001b[0;34m:\u001b[0m\u001b[0mnfevs\u001b[0m\u001b[0;34m]\u001b[0m \u001b[0;34m=\u001b[0m \u001b[0mcalc_energies\u001b[0m\u001b[0;34m\u001b[0m\u001b[0;34m\u001b[0m\u001b[0m\n",
            "\u001b[0;32m/usr/local/lib/python3.7/dist-packages/scipy/optimize/_differentialevolution.py\u001b[0m in \u001b[0;36m__call__\u001b[0;34m(self, x)\u001b[0m\n\u001b[1;32m   1264\u001b[0m     \u001b[0;32mdef\u001b[0m \u001b[0m__call__\u001b[0m\u001b[0;34m(\u001b[0m\u001b[0mself\u001b[0m\u001b[0;34m,\u001b[0m \u001b[0mx\u001b[0m\u001b[0;34m)\u001b[0m\u001b[0;34m:\u001b[0m\u001b[0;34m\u001b[0m\u001b[0;34m\u001b[0m\u001b[0m\n\u001b[0;32m-> 1265\u001b[0;31m         \u001b[0;32mreturn\u001b[0m \u001b[0mself\u001b[0m\u001b[0;34m.\u001b[0m\u001b[0mf\u001b[0m\u001b[0;34m(\u001b[0m\u001b[0mx\u001b[0m\u001b[0;34m,\u001b[0m \u001b[0;34m*\u001b[0m\u001b[0mself\u001b[0m\u001b[0;34m.\u001b[0m\u001b[0margs\u001b[0m\u001b[0;34m)\u001b[0m\u001b[0;34m\u001b[0m\u001b[0;34m\u001b[0m\u001b[0m\n\u001b[0m\u001b[1;32m   1266\u001b[0m \u001b[0;34m\u001b[0m\u001b[0m\n",
            "\u001b[0;32m<ipython-input-17-9cc2d5338d88>\u001b[0m in \u001b[0;36mfunction\u001b[0;34m(x)\u001b[0m\n\u001b[1;32m      3\u001b[0m     \u001b[0mTC\u001b[0m\u001b[0;34m=\u001b[0m\u001b[0mx\u001b[0m\u001b[0;34m[\u001b[0m\u001b[0;36m1\u001b[0m\u001b[0;34m]\u001b[0m\u001b[0;34m\u001b[0m\u001b[0;34m\u001b[0m\u001b[0m\n\u001b[0;32m----> 4\u001b[0;31m     \u001b[0mMW\u001b[0m\u001b[0;34m=\u001b[0m\u001b[0mMW_calc\u001b[0m\u001b[0;34m(\u001b[0m\u001b[0mx\u001b[0m\u001b[0;34m)\u001b[0m\u001b[0;34m\u001b[0m\u001b[0;34m\u001b[0m\u001b[0m\n\u001b[0m\u001b[1;32m      5\u001b[0m     \u001b[0mMI\u001b[0m\u001b[0;34m=\u001b[0m\u001b[0mMI_calc\u001b[0m\u001b[0;34m(\u001b[0m\u001b[0mx\u001b[0m\u001b[0;34m)\u001b[0m\u001b[0;34m\u001b[0m\u001b[0;34m\u001b[0m\u001b[0m\n",
            "\u001b[0;32m<ipython-input-16-abdda775352e>\u001b[0m in \u001b[0;36mMW_calc\u001b[0;34m(x_test)\u001b[0m\n\u001b[1;32m      2\u001b[0m     \u001b[0;32mglobal\u001b[0m \u001b[0mY_OLD\u001b[0m\u001b[0;34m,\u001b[0m\u001b[0mclf\u001b[0m\u001b[0;34m\u001b[0m\u001b[0;34m\u001b[0m\u001b[0m\n\u001b[0;32m----> 3\u001b[0;31m     \u001b[0my_calc_test\u001b[0m\u001b[0;34m=\u001b[0m\u001b[0mclf\u001b[0m\u001b[0;34m.\u001b[0m\u001b[0mpredict\u001b[0m\u001b[0;34m(\u001b[0m\u001b[0mx_test\u001b[0m\u001b[0;34m)\u001b[0m\u001b[0;34m\u001b[0m\u001b[0;34m\u001b[0m\u001b[0m\n\u001b[0m\u001b[1;32m      4\u001b[0m     \u001b[0my_calc_test\u001b[0m\u001b[0;34m=\u001b[0m\u001b[0mOriginal\u001b[0m\u001b[0;34m(\u001b[0m\u001b[0my_calc_test\u001b[0m\u001b[0;34m,\u001b[0m\u001b[0mY_OLD\u001b[0m\u001b[0;34m)\u001b[0m\u001b[0;34m\u001b[0m\u001b[0;34m\u001b[0m\u001b[0m\n",
            "\u001b[0;32m/usr/local/lib/python3.7/dist-packages/sklearn/neural_network/_multilayer_perceptron.py\u001b[0m in \u001b[0;36mpredict\u001b[0;34m(self, X)\u001b[0m\n\u001b[1;32m   1332\u001b[0m         \u001b[0mcheck_is_fitted\u001b[0m\u001b[0;34m(\u001b[0m\u001b[0mself\u001b[0m\u001b[0;34m)\u001b[0m\u001b[0;34m\u001b[0m\u001b[0;34m\u001b[0m\u001b[0m\n\u001b[0;32m-> 1333\u001b[0;31m         \u001b[0my_pred\u001b[0m \u001b[0;34m=\u001b[0m \u001b[0mself\u001b[0m\u001b[0;34m.\u001b[0m\u001b[0m_predict\u001b[0m\u001b[0;34m(\u001b[0m\u001b[0mX\u001b[0m\u001b[0;34m)\u001b[0m\u001b[0;34m\u001b[0m\u001b[0;34m\u001b[0m\u001b[0m\n\u001b[0m\u001b[1;32m   1334\u001b[0m         \u001b[0;32mif\u001b[0m \u001b[0my_pred\u001b[0m\u001b[0;34m.\u001b[0m\u001b[0mshape\u001b[0m\u001b[0;34m[\u001b[0m\u001b[0;36m1\u001b[0m\u001b[0;34m]\u001b[0m \u001b[0;34m==\u001b[0m \u001b[0;36m1\u001b[0m\u001b[0;34m:\u001b[0m\u001b[0;34m\u001b[0m\u001b[0;34m\u001b[0m\u001b[0m\n",
            "\u001b[0;32m/usr/local/lib/python3.7/dist-packages/sklearn/neural_network/_multilayer_perceptron.py\u001b[0m in \u001b[0;36m_predict\u001b[0;34m(self, X)\u001b[0m\n\u001b[1;32m    666\u001b[0m         \"\"\"\n\u001b[0;32m--> 667\u001b[0;31m         \u001b[0mX\u001b[0m \u001b[0;34m=\u001b[0m \u001b[0mcheck_array\u001b[0m\u001b[0;34m(\u001b[0m\u001b[0mX\u001b[0m\u001b[0;34m,\u001b[0m \u001b[0maccept_sparse\u001b[0m\u001b[0;34m=\u001b[0m\u001b[0;34m[\u001b[0m\u001b[0;34m'csr'\u001b[0m\u001b[0;34m,\u001b[0m \u001b[0;34m'csc'\u001b[0m\u001b[0;34m,\u001b[0m \u001b[0;34m'coo'\u001b[0m\u001b[0;34m]\u001b[0m\u001b[0;34m)\u001b[0m\u001b[0;34m\u001b[0m\u001b[0;34m\u001b[0m\u001b[0m\n\u001b[0m\u001b[1;32m    668\u001b[0m \u001b[0;34m\u001b[0m\u001b[0m\n",
            "\u001b[0;32m/usr/local/lib/python3.7/dist-packages/sklearn/utils/validation.py\u001b[0m in \u001b[0;36mcheck_array\u001b[0;34m(array, accept_sparse, accept_large_sparse, dtype, order, copy, force_all_finite, ensure_2d, allow_nd, ensure_min_samples, ensure_min_features, warn_on_dtype, estimator)\u001b[0m\n\u001b[1;32m    555\u001b[0m                     \u001b[0;34m\"your data has a single feature or array.reshape(1, -1) \"\u001b[0m\u001b[0;34m\u001b[0m\u001b[0;34m\u001b[0m\u001b[0m\n\u001b[0;32m--> 556\u001b[0;31m                     \"if it contains a single sample.\".format(array))\n\u001b[0m\u001b[1;32m    557\u001b[0m \u001b[0;34m\u001b[0m\u001b[0m\n",
            "\u001b[0;31mValueError\u001b[0m: Expected 2D array, got 1D array instead:\narray=[-0.05410692 -0.96724709].\nReshape your data either using array.reshape(-1, 1) if your data has a single feature or array.reshape(1, -1) if it contains a single sample.",
            "\nDuring handling of the above exception, another exception occurred:\n",
            "\u001b[0;31mRuntimeError\u001b[0m                              Traceback (most recent call last)",
            "\u001b[0;32m<ipython-input-19-a095b0f8a662>\u001b[0m in \u001b[0;36m<module>\u001b[0;34m()\u001b[0m\n\u001b[1;32m      3\u001b[0m Condicoes = optimize.differential_evolution(function,bounds,\n\u001b[1;32m      4\u001b[0m                                       \u001b[0minit\u001b[0m\u001b[0;34m=\u001b[0m\u001b[0;34m\"latinhypercube\"\u001b[0m\u001b[0;34m,\u001b[0m \u001b[0;31m# obs: init=\"random\"\u001b[0m\u001b[0;34m\u001b[0m\u001b[0;34m\u001b[0m\u001b[0m\n\u001b[0;32m----> 5\u001b[0;31m                                       maxiter=100, popsize=50,recombination=0.5)\n\u001b[0m\u001b[1;32m      6\u001b[0m \u001b[0;34m\u001b[0m\u001b[0m\n\u001b[1;32m      7\u001b[0m \u001b[0mprint\u001b[0m\u001b[0;34m(\u001b[0m\u001b[0mCondicoes\u001b[0m\u001b[0;34m)\u001b[0m\u001b[0;34m\u001b[0m\u001b[0;34m\u001b[0m\u001b[0m\n",
            "\u001b[0;32m/usr/local/lib/python3.7/dist-packages/scipy/optimize/_differentialevolution.py\u001b[0m in \u001b[0;36mdifferential_evolution\u001b[0;34m(func, bounds, args, strategy, maxiter, popsize, tol, mutation, recombination, seed, callback, disp, polish, init, atol, updating, workers, constraints)\u001b[0m\n\u001b[1;32m    304\u001b[0m                                      \u001b[0mworkers\u001b[0m\u001b[0;34m=\u001b[0m\u001b[0mworkers\u001b[0m\u001b[0;34m,\u001b[0m\u001b[0;34m\u001b[0m\u001b[0;34m\u001b[0m\u001b[0m\n\u001b[1;32m    305\u001b[0m                                      constraints=constraints) as solver:\n\u001b[0;32m--> 306\u001b[0;31m         \u001b[0mret\u001b[0m \u001b[0;34m=\u001b[0m \u001b[0msolver\u001b[0m\u001b[0;34m.\u001b[0m\u001b[0msolve\u001b[0m\u001b[0;34m(\u001b[0m\u001b[0;34m)\u001b[0m\u001b[0;34m\u001b[0m\u001b[0;34m\u001b[0m\u001b[0m\n\u001b[0m\u001b[1;32m    307\u001b[0m \u001b[0;34m\u001b[0m\u001b[0m\n\u001b[1;32m    308\u001b[0m     \u001b[0;32mreturn\u001b[0m \u001b[0mret\u001b[0m\u001b[0;34m\u001b[0m\u001b[0;34m\u001b[0m\u001b[0m\n",
            "\u001b[0;32m/usr/local/lib/python3.7/dist-packages/scipy/optimize/_differentialevolution.py\u001b[0m in \u001b[0;36msolve\u001b[0;34m(self)\u001b[0m\n\u001b[1;32m    743\u001b[0m             self.population_energies[self.feasible] = (\n\u001b[1;32m    744\u001b[0m                 self._calculate_population_energies(\n\u001b[0;32m--> 745\u001b[0;31m                     self.population[self.feasible]))\n\u001b[0m\u001b[1;32m    746\u001b[0m \u001b[0;34m\u001b[0m\u001b[0m\n\u001b[1;32m    747\u001b[0m             \u001b[0mself\u001b[0m\u001b[0;34m.\u001b[0m\u001b[0m_promote_lowest_energy\u001b[0m\u001b[0;34m(\u001b[0m\u001b[0;34m)\u001b[0m\u001b[0;34m\u001b[0m\u001b[0;34m\u001b[0m\u001b[0m\n",
            "\u001b[0;32m/usr/local/lib/python3.7/dist-packages/scipy/optimize/_differentialevolution.py\u001b[0m in \u001b[0;36m_calculate_population_energies\u001b[0;34m(self, population)\u001b[0m\n\u001b[1;32m    881\u001b[0m             \u001b[0;31m# wrong number of arguments for _mapwrapper\u001b[0m\u001b[0;34m\u001b[0m\u001b[0;34m\u001b[0m\u001b[0;34m\u001b[0m\u001b[0m\n\u001b[1;32m    882\u001b[0m             \u001b[0;31m# or wrong length returned from the mapper\u001b[0m\u001b[0;34m\u001b[0m\u001b[0;34m\u001b[0m\u001b[0;34m\u001b[0m\u001b[0m\n\u001b[0;32m--> 883\u001b[0;31m             raise RuntimeError(\"The map-like callable must be of the\"\n\u001b[0m\u001b[1;32m    884\u001b[0m                                \u001b[0;34m\" form f(func, iterable), returning a sequence\"\u001b[0m\u001b[0;34m\u001b[0m\u001b[0;34m\u001b[0m\u001b[0m\n\u001b[1;32m    885\u001b[0m                                \" of numbers the same length as 'iterable'\")\n",
            "\u001b[0;31mRuntimeError\u001b[0m: The map-like callable must be of the form f(func, iterable), returning a sequence of numbers the same length as 'iterable'"
          ]
        }
      ]
    },
    {
      "cell_type": "code",
      "metadata": {
        "id": "J1LDUDUatawy"
      },
      "source": [
        "print(\"hello world,I am evolving!!!\")"
      ],
      "execution_count": null,
      "outputs": []
    },
    {
      "cell_type": "markdown",
      "metadata": {
        "id": "sVBOl4gitawz"
      },
      "source": [
        "PS: no planejamento de experimentos utilizando o Statistica -e-papers\n",
        "Y=80\n",
        "MI=65,044\n",
        "MW=3586,1"
      ]
    },
    {
      "cell_type": "markdown",
      "metadata": {
        "id": "BQGLuOLwtaw0"
      },
      "source": [
        "tempo=86,65 e Temperatura=178,77"
      ]
    }
  ]
}
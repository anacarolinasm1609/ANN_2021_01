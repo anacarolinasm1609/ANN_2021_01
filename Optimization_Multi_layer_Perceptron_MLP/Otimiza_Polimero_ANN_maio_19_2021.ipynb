{
  "nbformat": 4,
  "nbformat_minor": 0,
  "metadata": {
    "kernelspec": {
      "display_name": "Python 3",
      "language": "python",
      "name": "python3"
    },
    "language_info": {
      "codemirror_mode": {
        "name": "ipython",
        "version": 3
      },
      "file_extension": ".py",
      "mimetype": "text/x-python",
      "name": "python",
      "nbconvert_exporter": "python",
      "pygments_lexer": "ipython3",
      "version": "3.5.4"
    },
    "colab": {
      "name": "Otimiza_Polimero_ANN_maio_19_2021.ipynb",
      "provenance": [],
      "include_colab_link": true
    }
  },
  "cells": [
    {
      "cell_type": "markdown",
      "metadata": {
        "id": "view-in-github",
        "colab_type": "text"
      },
      "source": [
        "<a href=\"https://colab.research.google.com/github/ucfilho/ANN_2021_01/blob/main/Optimization_Multi_layer_Perceptron_MLP/Otimiza_Polimero_ANN_maio_19_2021.ipynb\" target=\"_parent\"><img src=\"https://colab.research.google.com/assets/colab-badge.svg\" alt=\"Open In Colab\"/></a>"
      ]
    },
    {
      "cell_type": "code",
      "metadata": {
        "id": "6wMZRhlmtawW"
      },
      "source": [
        "# bibliotecas usadas\n",
        "import os\n",
        "import numpy as np\n",
        "import pandas as pd\n",
        "import matplotlib.pyplot as plt\n",
        "from sklearn.neural_network import MLPRegressor\n",
        "from sklearn.metrics import mean_squared_error\n",
        "from sklearn.metrics import r2_score \n",
        "from mpl_toolkits.mplot3d import Axes3D, axes3d\n",
        "%matplotlib inline"
      ],
      "execution_count": null,
      "outputs": []
    },
    {
      "cell_type": "code",
      "metadata": {
        "id": "x1GpuBRztawh"
      },
      "source": [
        "# funcao normatiza dados\n",
        "def Normatiza(x):\n",
        "    strings=list(x)\n",
        "    for i in strings:\n",
        "        max_x=x[i].max()\n",
        "        min_x=x[i].min()\n",
        "        a=(max_x+min_x)/2\n",
        "        b=(max_x-min_x)/2\n",
        "        x[i]=(x[i]-a)/b\n",
        "    return x"
      ],
      "execution_count": null,
      "outputs": []
    },
    {
      "cell_type": "code",
      "metadata": {
        "id": "SUdp8Eiatawj"
      },
      "source": [
        "# funcao retorna os dados a forma original\n",
        "def Original(x,x_old):\n",
        "    strings=list(x)\n",
        "    for i in strings:\n",
        "        max_x=x_old[i].max()\n",
        "        min_x=x_old[i].min()\n",
        "        a=(max_x+min_x)/2\n",
        "        b=(max_x-min_x)/2\n",
        "        x[i]=x[i]*b+a\n",
        "    return x"
      ],
      "execution_count": null,
      "outputs": []
    },
    {
      "cell_type": "code",
      "metadata": {
        "id": "oZUvgm11tawk"
      },
      "source": [
        "path=\"/home/ucfilho/Documents/Aulas/ANN_2018/Out_10_2018\"\n",
        "os.chdir(path)"
      ],
      "execution_count": null,
      "outputs": []
    },
    {
      "cell_type": "code",
      "metadata": {
        "id": "AcT2bs-gtawl",
        "outputId": "45f6ef6c-e66e-4412-857c-f529bb6fd630"
      },
      "source": [
        "DAT=pd.read_csv(\"Polimero_maio_21_2015.txt\",sep='\\t')\n",
        "print(DAT.head())"
      ],
      "execution_count": null,
      "outputs": [
        {
          "output_type": "stream",
          "text": [
            "   Time     TC     Y  MI    MW\n",
            "0  80.0  170.0  76.5  62  2940\n",
            "1  80.0  180.0  77.0  60  3470\n",
            "2  90.0  170.0  78.0  66  3680\n",
            "3  90.0  180.0  79.5  59  3890\n",
            "4  85.0  175.0  79.9  72  3480\n"
          ],
          "name": "stdout"
        }
      ]
    },
    {
      "cell_type": "code",
      "metadata": {
        "id": "K-QEp7PRtawn"
      },
      "source": [
        "# separa as colunas de interesse\n",
        "Index=range(5)\n",
        "Dat_Select=[]\n",
        "Dat_Select=DAT.iloc[:,Index].copy()"
      ],
      "execution_count": null,
      "outputs": []
    },
    {
      "cell_type": "code",
      "metadata": {
        "id": "jGR0XHo5tawn"
      },
      "source": [
        "# separa os dados em normatizados e originais\n",
        "DAT_OLD=[]\n",
        "DAT_OLD=Dat_Select.copy()\n",
        "DAT=Normatiza(Dat_Select)"
      ],
      "execution_count": null,
      "outputs": []
    },
    {
      "cell_type": "code",
      "metadata": {
        "id": "dHS3mknntawo"
      },
      "source": [
        "# separa os dados em treino e teste\n",
        "train=DAT.sample(frac=1.0,random_state=None) # poderia ser frac=0.5? sim ou nao?\n",
        "test=DAT.drop(train.index)"
      ],
      "execution_count": null,
      "outputs": []
    },
    {
      "cell_type": "code",
      "metadata": {
        "id": "-H64G9pptawo"
      },
      "source": [
        "# obtem as variaveis independentes (treino e teste)\n",
        "x_train=train.iloc[:,[0,1]]\n",
        "x_test=test.iloc[:,[0,1]]\n",
        "X_OLD=DAT_OLD.iloc[:,[0,1]]"
      ],
      "execution_count": null,
      "outputs": []
    },
    {
      "cell_type": "code",
      "metadata": {
        "id": "IGE7XGyKtawp",
        "outputId": "466affa7-abe8-4b8f-b2ba-c1437654618d"
      },
      "source": [
        "# obtem as variaveis dependentes (treino e teste)\n",
        "Index=[2,3,4]\n",
        "y_train=train.iloc[:,Index]\n",
        "y_test=test.iloc[:,Index]\n",
        "Y_OLD=DAT_OLD.iloc[:,Index]\n",
        "print(Y_OLD)\n",
        "print(x_train)"
      ],
      "execution_count": null,
      "outputs": [
        {
          "output_type": "stream",
          "text": [
            "       Y  MI    MW\n",
            "0   76.5  62  2940\n",
            "1   77.0  60  3470\n",
            "2   78.0  66  3680\n",
            "3   79.5  59  3890\n",
            "4   79.9  72  3480\n",
            "5   80.3  69  3200\n",
            "6   80.0  68  3410\n",
            "7   79.7  70  3290\n",
            "8   79.8  71  3500\n",
            "9   78.4  68  3360\n",
            "10  75.6  71  3020\n",
            "11  78.5  58  3630\n",
            "12  77.0  57  3150\n",
            "        Time        TC\n",
            "6   0.000000  0.000000\n",
            "3   0.707214  0.707214\n",
            "2   0.707214 -0.707214\n",
            "8   0.000000  0.000000\n",
            "1  -0.707214  0.707214\n",
            "9   1.000000  0.000000\n",
            "5   0.000000  0.000000\n",
            "0  -0.707214 -0.707214\n",
            "10 -1.000000  0.000000\n",
            "4   0.000000  0.000000\n",
            "7   0.000000  0.000000\n",
            "11  0.000000  1.000000\n",
            "12  0.000000 -1.000000\n"
          ],
          "name": "stdout"
        }
      ]
    },
    {
      "cell_type": "code",
      "metadata": {
        "id": "roB-JgqBtawp"
      },
      "source": [
        "# define a rede neural \n",
        "clf = MLPRegressor(solver='lbfgs',activation='tanh',alpha=1e-5,hidden_layer_sizes=(6), \n",
        "                    random_state=1)"
      ],
      "execution_count": null,
      "outputs": []
    },
    {
      "cell_type": "code",
      "metadata": {
        "id": "VmwcY9rEtawp",
        "outputId": "cee8fd71-254b-437f-d60f-1dd13ff90c81"
      },
      "source": [
        "# treina a rede neural\n",
        "clf.fit(x_train, y_train)"
      ],
      "execution_count": null,
      "outputs": [
        {
          "output_type": "execute_result",
          "data": {
            "text/plain": [
              "MLPRegressor(activation='tanh', alpha=1e-05, batch_size='auto', beta_1=0.9,\n",
              "       beta_2=0.999, early_stopping=False, epsilon=1e-08,\n",
              "       hidden_layer_sizes=6, learning_rate='constant',\n",
              "       learning_rate_init=0.001, max_iter=200, momentum=0.9,\n",
              "       nesterovs_momentum=True, power_t=0.5, random_state=1, shuffle=True,\n",
              "       solver='lbfgs', tol=0.0001, validation_fraction=0.1, verbose=False,\n",
              "       warm_start=False)"
            ]
          },
          "metadata": {
            "tags": []
          },
          "execution_count": 12
        }
      ]
    },
    {
      "cell_type": "code",
      "metadata": {
        "id": "A4pQI1P2taws",
        "outputId": "451a744a-a2f1-4af2-f3dd-89d52a8043a4"
      },
      "source": [
        "# usa a rede neural treina em calculos para treino e teste\n",
        "y_calc_train=clf.predict(x_train)\n",
        "x_test=x_train\n",
        "y_calc_test=clf.predict(x_test)\n",
        "print(y_calc_train)\n",
        "print(Y_OLD)"
      ],
      "execution_count": null,
      "outputs": [
        {
          "output_type": "stream",
          "text": [
            "[[ 0.8475048   0.73143674 -0.08272757]\n",
            " [ 0.66080451 -0.73478589  0.99810392]\n",
            " [ 0.02334168  0.19987969  0.55741396]\n",
            " [ 0.8475048   0.73143674 -0.08272757]\n",
            " [-0.3999421  -0.61454025  0.10441758]\n",
            " [ 0.19005043  0.46902518 -0.11512356]\n",
            " [ 0.8475048   0.73143674 -0.08272757]\n",
            " [-0.61652874 -0.33401304 -1.00301002]\n",
            " [-0.99882037  0.87261699 -0.82788403]\n",
            " [ 0.8475048   0.73143674 -0.08272757]\n",
            " [ 0.8475048   0.73143674 -0.08272757]\n",
            " [ 0.23027157 -0.84968596  0.46428714]\n",
            " [-0.40422099 -0.99727988 -0.55640961]]\n",
            "       Y  MI    MW\n",
            "0   76.5  62  2940\n",
            "1   77.0  60  3470\n",
            "2   78.0  66  3680\n",
            "3   79.5  59  3890\n",
            "4   79.9  72  3480\n",
            "5   80.3  69  3200\n",
            "6   80.0  68  3410\n",
            "7   79.7  70  3290\n",
            "8   79.8  71  3500\n",
            "9   78.4  68  3360\n",
            "10  75.6  71  3020\n",
            "11  78.5  58  3630\n",
            "12  77.0  57  3150\n"
          ],
          "name": "stdout"
        }
      ]
    },
    {
      "cell_type": "code",
      "metadata": {
        "id": "gRieuhpXtawt"
      },
      "source": [
        "# transforma a saida da rede em dataframe \n",
        "y_calc_train=pd.DataFrame(y_calc_train)\n",
        "y_calc_test=pd.DataFrame(y_calc_test)\n",
        "col_names=list(y_train)\n",
        "y_calc_train.columns = col_names\n",
        "y_calc_test.columns = col_names"
      ],
      "execution_count": null,
      "outputs": []
    },
    {
      "cell_type": "code",
      "metadata": {
        "id": "9G1jnFFqtawu",
        "outputId": "e725e7df-efdd-4436-885b-1f4912200903"
      },
      "source": [
        "# transforma dos dados calculados na forma original (nao normatizado)\n",
        "y_calc_train=Original(y_calc_train,Y_OLD)\n",
        "y_calc_test=Original(y_calc_test,Y_OLD)\n",
        "print(y_calc_train)\n",
        "print(Y_OLD)"
      ],
      "execution_count": null,
      "outputs": [
        {
          "output_type": "stream",
          "text": [
            "            Y         MI           MW\n",
            "0   79.941636  69.985776  3375.704402\n",
            "1   79.502891  58.989106  3889.099363\n",
            "2   78.004853  65.999098  3679.771632\n",
            "3   79.941636  69.985776  3375.704402\n",
            "4   77.010136  59.890948  3464.598351\n",
            "5   78.396619  68.017689  3360.316307\n",
            "6   79.941636  69.985776  3375.704402\n",
            "7   76.501157  61.994902  2938.570239\n",
            "8   75.602772  71.044627  3021.755086\n",
            "9   79.941636  69.985776  3375.704402\n",
            "10  79.941636  69.985776  3375.704402\n",
            "11  78.491138  58.127355  3635.536393\n",
            "12  77.000081  57.020401  3150.705434\n",
            "       Y  MI    MW\n",
            "0   76.5  62  2940\n",
            "1   77.0  60  3470\n",
            "2   78.0  66  3680\n",
            "3   79.5  59  3890\n",
            "4   79.9  72  3480\n",
            "5   80.3  69  3200\n",
            "6   80.0  68  3410\n",
            "7   79.7  70  3290\n",
            "8   79.8  71  3500\n",
            "9   78.4  68  3360\n",
            "10  75.6  71  3020\n",
            "11  78.5  58  3630\n",
            "12  77.0  57  3150\n"
          ],
          "name": "stdout"
        }
      ]
    },
    {
      "cell_type": "code",
      "metadata": {
        "id": "5TZnRaVStawv"
      },
      "source": [
        "def MW_calc(x_test,Y_OLD,clf):\n",
        "    y_calc_test=clf.predict(x_test)\n",
        "    y_calc_test=Original(y_calc_test,Y_OLD)\n",
        "    return y_calc_test['MW']\n",
        "def MI_calc(x_test,Y_OLD,clf):\n",
        "    y_calc_test=clf.predict(x_test)\n",
        "    y_calc_test=Original(y_calc_test,Y_OLD)\n",
        "    return y_calc_test['MI']\n",
        "def Y_calc(x_test,Y_OLD,clf):\n",
        "    y_calc_test=clf.predict(x_test)\n",
        "    y_calc_test=Original(y_calc_test,Y_OLD)\n",
        "    return y_calc_test['Y']\n",
        "\n",
        "def Desirability(y,U,T,L):\n",
        "    if y<L:\n",
        "        d=0\n",
        "    if (y>=L)&(y<=T):\n",
        "        d=(y-L)/(T-L)\n",
        "    if (y>=T)&(y<+U):\n",
        "        d=(U-y)/(U-T)\n",
        "    if (y>U):\n",
        "        d=0\n",
        "    return d"
      ],
      "execution_count": null,
      "outputs": []
    },
    {
      "cell_type": "code",
      "metadata": {
        "id": "HNiM9bYwtaww"
      },
      "source": [
        "def function(x):\n",
        "    Time=x[0]\n",
        "    TC=x[1]\n",
        "    MW=MW_calc(Time, TC)\n",
        "    MI=MI_calc(Time, TC)\n",
        "    Y=Y_calc(Time, TC)\n",
        "    U=3890\n",
        "    T=3400\n",
        "    L=2940\n",
        "    d1=Desirability(MW,U,T,L)\n",
        "    U=68\n",
        "    T=65\n",
        "    L=62\n",
        "    d2=Desirability(MI,U,T,L)\n",
        "    U=80\n",
        "    T=77.5\n",
        "    L=75.6\n",
        "    d3=Desirability(Y,U,T,L)\n",
        "    fun = (-1)*(d1*d2*d3)**(1/3)\n",
        "    return fun"
      ],
      "execution_count": null,
      "outputs": []
    },
    {
      "cell_type": "code",
      "metadata": {
        "id": "eZIMKvqMtawx",
        "outputId": "6975db36-c207-4523-b094-1f456d1ac8c2"
      },
      "source": [
        "x = np.linspace(-6, 6, 5)\n",
        "y = np.linspace(-6, 6, 5)\n",
        "\n",
        "X, Y = np.meshgrid(x, y)\n",
        "print(X)\n",
        "print(Y)"
      ],
      "execution_count": null,
      "outputs": [
        {
          "output_type": "stream",
          "text": [
            "[[-6. -3.  0.  3.  6.]\n",
            " [-6. -3.  0.  3.  6.]\n",
            " [-6. -3.  0.  3.  6.]\n",
            " [-6. -3.  0.  3.  6.]\n",
            " [-6. -3.  0.  3.  6.]]\n",
            "[[-6. -6. -6. -6. -6.]\n",
            " [-3. -3. -3. -3. -3.]\n",
            " [ 0.  0.  0.  0.  0.]\n",
            " [ 3.  3.  3.  3.  3.]\n",
            " [ 6.  6.  6.  6.  6.]]\n"
          ],
          "name": "stdout"
        }
      ]
    },
    {
      "cell_type": "code",
      "metadata": {
        "id": "J1LDUDUatawy",
        "outputId": "c6b6ba89-ef3b-469d-b361-3b4ac37ecd04"
      },
      "source": [
        "print(\"hello world,I am evolving!!!\")"
      ],
      "execution_count": null,
      "outputs": [
        {
          "output_type": "stream",
          "text": [
            "hello world,I am evolving!!!\n"
          ],
          "name": "stdout"
        }
      ]
    },
    {
      "cell_type": "markdown",
      "metadata": {
        "id": "sVBOl4gitawz"
      },
      "source": [
        "PS: no planejamento de experimentos utilizando o Statistica -e-papers\n",
        "Y=80\n",
        "MI=65,044\n",
        "MW=3586,1"
      ]
    },
    {
      "cell_type": "markdown",
      "metadata": {
        "id": "BQGLuOLwtaw0"
      },
      "source": [
        "tempo=86,65 e Temperatura=178,77"
      ]
    }
  ]
}
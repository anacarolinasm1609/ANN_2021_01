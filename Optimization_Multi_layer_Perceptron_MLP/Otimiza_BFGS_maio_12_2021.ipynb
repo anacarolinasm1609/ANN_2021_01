{
  "nbformat": 4,
  "nbformat_minor": 0,
  "metadata": {
    "colab": {
      "name": "Otimiza_BFGS_maio_12_2021.ipynb",
      "provenance": [],
      "authorship_tag": "ABX9TyMFVhNJk+ZvADPF5ZrtA86n",
      "include_colab_link": true
    },
    "kernelspec": {
      "name": "python3",
      "display_name": "Python 3"
    },
    "language_info": {
      "name": "python"
    }
  },
  "cells": [
    {
      "cell_type": "markdown",
      "metadata": {
        "id": "view-in-github",
        "colab_type": "text"
      },
      "source": [
        "<a href=\"https://colab.research.google.com/github/ucfilho/ANN_2021_01/blob/main/Optimization_Multi_layer_Perceptron_MLP/Otimiza_BFGS_maio_12_2021.ipynb\" target=\"_parent\"><img src=\"https://colab.research.google.com/assets/colab-badge.svg\" alt=\"Open In Colab\"/></a>"
      ]
    },
    {
      "cell_type": "code",
      "metadata": {
        "id": "C_2m6MQck36e"
      },
      "source": [
        "from scipy.optimize import minimize"
      ],
      "execution_count": null,
      "outputs": []
    },
    {
      "cell_type": "code",
      "metadata": {
        "id": "EPkIs-W-lHVL"
      },
      "source": [
        "def fobj(x):\n",
        "  fobj = x[0]**2+ x[1]**2\n",
        "  return fobj"
      ],
      "execution_count": null,
      "outputs": []
    },
    {
      "cell_type": "code",
      "metadata": {
        "id": "kI_hwjqdlbk2"
      },
      "source": [
        "x0 = [5,-2]\n",
        "Resolver = minimize(fobj, x0, method='BFGS')"
      ],
      "execution_count": null,
      "outputs": []
    },
    {
      "cell_type": "code",
      "metadata": {
        "id": "ZF5FuFLmmUas"
      },
      "source": [
        "print('x=',Resolver.x)\n",
        "print('fobj =',Resolver.fun)"
      ],
      "execution_count": null,
      "outputs": []
    }
  ]
}
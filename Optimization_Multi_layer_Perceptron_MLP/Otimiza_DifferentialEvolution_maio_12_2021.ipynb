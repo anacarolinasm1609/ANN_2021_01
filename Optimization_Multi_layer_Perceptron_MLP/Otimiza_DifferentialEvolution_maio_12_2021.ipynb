{
  "nbformat": 4,
  "nbformat_minor": 0,
  "metadata": {
    "colab": {
      "name": "Otimiza_DifferentialEvolution_maio_12_2021.ipynb",
      "provenance": [],
      "authorship_tag": "ABX9TyOdStdipKsMuB4ZGrHjZ93P",
      "include_colab_link": true
    },
    "kernelspec": {
      "name": "python3",
      "display_name": "Python 3"
    },
    "language_info": {
      "name": "python"
    }
  },
  "cells": [
    {
      "cell_type": "markdown",
      "metadata": {
        "id": "view-in-github",
        "colab_type": "text"
      },
      "source": [
        "<a href=\"https://colab.research.google.com/github/ucfilho/ANN_2021_01/blob/main/Optimization_Multi_layer_Perceptron_MLP/Otimiza_DifferentialEvolution_maio_12_2021.ipynb\" target=\"_parent\"><img src=\"https://colab.research.google.com/assets/colab-badge.svg\" alt=\"Open In Colab\"/></a>"
      ]
    },
    {
      "cell_type": "code",
      "metadata": {
        "id": "C_2m6MQck36e"
      },
      "source": [
        "from scipy.optimize import differential_evolution"
      ],
      "execution_count": 1,
      "outputs": []
    },
    {
      "cell_type": "code",
      "metadata": {
        "id": "EPkIs-W-lHVL"
      },
      "source": [
        "def fobj(x):\n",
        "  fobj = x[0]**2+ x[1]**2\n",
        "  return fobj"
      ],
      "execution_count": 2,
      "outputs": []
    },
    {
      "cell_type": "code",
      "metadata": {
        "id": "kI_hwjqdlbk2"
      },
      "source": [
        "\n",
        "bounds = [(-50,50), (-50,50)]\n",
        "Resolver  = differential_evolution(fobj, bounds, maxiter=200, popsize=50)\n",
        "\n"
      ],
      "execution_count": 3,
      "outputs": []
    },
    {
      "cell_type": "code",
      "metadata": {
        "colab": {
          "base_uri": "https://localhost:8080/"
        },
        "id": "ZF5FuFLmmUas",
        "outputId": "f326f3b4-0747-4946-f93e-7b8aaddae266"
      },
      "source": [
        "print('x=',Resolver.x)\n",
        "print('fobj =',Resolver.fun)"
      ],
      "execution_count": 4,
      "outputs": [
        {
          "output_type": "stream",
          "text": [
            "x= [-9.24027164e-08 -2.79920312e-07]\n",
            "fobj = 8.689364327150017e-14\n"
          ],
          "name": "stdout"
        }
      ]
    }
  ]
}
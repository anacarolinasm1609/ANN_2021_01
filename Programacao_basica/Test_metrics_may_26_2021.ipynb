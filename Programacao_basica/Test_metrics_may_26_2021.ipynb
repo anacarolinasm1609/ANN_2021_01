{
  "nbformat": 4,
  "nbformat_minor": 0,
  "metadata": {
    "colab": {
      "name": "Test_metrics_may_26-2021.ipynb",
      "provenance": [],
      "authorship_tag": "ABX9TyPoOo+kMd5V7OvNK20MleZk",
      "include_colab_link": true
    },
    "kernelspec": {
      "name": "python3",
      "display_name": "Python 3"
    },
    "language_info": {
      "name": "python"
    }
  },
  "cells": [
    {
      "cell_type": "markdown",
      "metadata": {
        "id": "view-in-github",
        "colab_type": "text"
      },
      "source": [
        "<a href=\"https://colab.research.google.com/github/ucfilho/ANN_2021_01/blob/main/Programacao_basica/Test_metrics_may_26_2021.ipynb\" target=\"_parent\"><img src=\"https://colab.research.google.com/assets/colab-badge.svg\" alt=\"Open In Colab\"/></a>"
      ]
    },
    {
      "cell_type": "code",
      "metadata": {
        "id": "ggxe2NYC8Bao"
      },
      "source": [
        "import pandas as pd\n",
        "import numpy as np\n",
        "from sklearn.metrics import r2_score "
      ],
      "execution_count": 1,
      "outputs": []
    },
    {
      "cell_type": "code",
      "metadata": {
        "id": "FNdTk1WR7PiG"
      },
      "source": [
        "Y_true = [ 10, 20, 35, 40, 80]\n",
        "A = [ 10, 20, 35, 40, 80]\n",
        "B = []\n",
        "for ai in A:\n",
        "  B.append(ai*2)\n",
        "C = [ 80, 35, 10, 20, 40]"
      ],
      "execution_count": 2,
      "outputs": []
    },
    {
      "cell_type": "code",
      "metadata": {
        "colab": {
          "base_uri": "https://localhost:8080/"
        },
        "id": "SAVlaxL671cl",
        "outputId": "44d5adcf-aa4c-467d-bfd2-7fa50d44a008"
      },
      "source": [
        "df = pd.DataFrame({'True':Y_true, 'A':A, 'B':B, 'C':C})\n",
        "print(df)"
      ],
      "execution_count": 3,
      "outputs": [
        {
          "output_type": "stream",
          "text": [
            "   True   A    B   C\n",
            "0    10  10   20  80\n",
            "1    20  20   40  35\n",
            "2    35  35   70  10\n",
            "3    40  40   80  20\n",
            "4    80  80  160  40\n"
          ],
          "name": "stdout"
        }
      ]
    },
    {
      "cell_type": "code",
      "metadata": {
        "colab": {
          "base_uri": "https://localhost:8080/"
        },
        "id": "E8Y_fhS482Dt",
        "outputId": "b243e168-3341-45e2-fa15-6ed6b4dc3d6a"
      },
      "source": [
        "y_obs= df['True']; y_calc=df['C']\n",
        "R2=r2_score(y_obs,y_calc);print(\"R^2 teste=\",R2)"
      ],
      "execution_count": 4,
      "outputs": [
        {
          "output_type": "stream",
          "text": [
            "R^2 teste= -1.6909722222222223\n"
          ],
          "name": "stdout"
        }
      ]
    },
    {
      "cell_type": "code",
      "metadata": {
        "colab": {
          "base_uri": "https://localhost:8080/"
        },
        "id": "ZvfnypZ0-eys",
        "outputId": "d73e5a70-0c44-4e2d-81e7-1553f3c77ce7"
      },
      "source": [
        "df_new = pd.DataFrame({'True':Y_true, 'A':A, 'B':B, 'C':C})\n",
        "df_new = np.array(df_new)\n",
        "print(df_new)"
      ],
      "execution_count": 5,
      "outputs": [
        {
          "output_type": "stream",
          "text": [
            "[[ 10  10  20  80]\n",
            " [ 20  20  40  35]\n",
            " [ 35  35  70  10]\n",
            " [ 40  40  80  20]\n",
            " [ 80  80 160  40]]\n"
          ],
          "name": "stdout"
        }
      ]
    },
    {
      "cell_type": "code",
      "metadata": {
        "colab": {
          "base_uri": "https://localhost:8080/"
        },
        "id": "iya-nf3V-tc1",
        "outputId": "8e184a3b-dc17-4105-8c29-5208e8b9e786"
      },
      "source": [
        "y_obs= df_new[:,0]; y_calc= df_new[:,1];\n",
        "R2=r2_score(y_obs,y_calc);print(\"R^2 teste=\",R2)"
      ],
      "execution_count": 6,
      "outputs": [
        {
          "output_type": "stream",
          "text": [
            "R^2 teste= 1.0\n"
          ],
          "name": "stdout"
        }
      ]
    }
  ]
}
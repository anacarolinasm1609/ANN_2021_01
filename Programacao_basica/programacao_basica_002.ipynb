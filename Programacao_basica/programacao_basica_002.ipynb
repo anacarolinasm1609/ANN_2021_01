{
  "nbformat": 4,
  "nbformat_minor": 0,
  "metadata": {
    "colab": {
      "name": "programacao_basica_002.ipynb",
      "provenance": [],
      "authorship_tag": "ABX9TyM4MlcXyXZ1USv61qEFxq7K",
      "include_colab_link": true
    },
    "kernelspec": {
      "name": "python3",
      "display_name": "Python 3"
    }
  },
  "cells": [
    {
      "cell_type": "markdown",
      "metadata": {
        "id": "view-in-github",
        "colab_type": "text"
      },
      "source": [
        "<a href=\"https://colab.research.google.com/github/ucfilho/ANN_2021_01/blob/main/Programacao_basica/programacao_basica_002.ipynb\" target=\"_parent\"><img src=\"https://colab.research.google.com/assets/colab-badge.svg\" alt=\"Open In Colab\"/></a>"
      ]
    },
    {
      "cell_type": "code",
      "metadata": {
        "id": "2sAsr4oQKZmy"
      },
      "source": [
        "import numpy as np"
      ],
      "execution_count": 6,
      "outputs": []
    },
    {
      "cell_type": "code",
      "metadata": {
        "colab": {
          "base_uri": "https://localhost:8080/"
        },
        "id": "rGk9UJUwISxR",
        "outputId": "b3afe2e5-60c8-41d2-c00d-a1de092356f5"
      },
      "source": [
        "Vol = 600\r\n",
        "pi = np.pi\r\n",
        "# Vol = pi*D**3/4\r\n",
        "D = (4*Vol/pi)**(1.0/3.0)\r\n",
        "print('Volume =',Vol,'m3')\r\n",
        "print('Diametro =',D,'m')"
      ],
      "execution_count": 7,
      "outputs": [
        {
          "output_type": "stream",
          "text": [
            "Volume = 600 m3\n",
            "Diametro = 9.141562994681664 m\n"
          ],
          "name": "stdout"
        }
      ]
    },
    {
      "cell_type": "code",
      "metadata": {
        "colab": {
          "base_uri": "https://localhost:8080/"
        },
        "id": "ArUPJismJF6k",
        "outputId": "8ba7987f-e6a4-4ff3-af3b-cacc35fc3240"
      },
      "source": [
        "if(D>5):\r\n",
        "  print('reator grande')\r\n",
        "else:\r\n",
        "  print('nao é tao grande')"
      ],
      "execution_count": 8,
      "outputs": [
        {
          "output_type": "stream",
          "text": [
            "reator grande\n"
          ],
          "name": "stdout"
        }
      ]
    },
    {
      "cell_type": "code",
      "metadata": {
        "id": "Bpt5X0PQNXlx"
      },
      "source": [
        "# agora vamos discutir tipos\r\n",
        "# falaremos de listas, matrizes, vetores, dicionarios e dataframe"
      ],
      "execution_count": 9,
      "outputs": []
    },
    {
      "cell_type": "code",
      "metadata": {
        "colab": {
          "base_uri": "https://localhost:8080/",
          "height": 35
        },
        "id": "k_YqwZY-NmiT",
        "outputId": "23b12b33-f048-48b0-868d-8cc83155bd4c"
      },
      "source": [
        "'''\r\n",
        "agora vamos discutir tipos\r\n",
        "falaremos de listas, matrizes, vetores, dicionarios e dataframe\r\n",
        "'''"
      ],
      "execution_count": 10,
      "outputs": [
        {
          "output_type": "execute_result",
          "data": {
            "application/vnd.google.colaboratory.intrinsic+json": {
              "type": "string"
            },
            "text/plain": [
              "'\\nagora vamos discutir tipos\\nfalaremos de listas, matrizes, vetores, dicionarios e dataframe\\n'"
            ]
          },
          "metadata": {
            "tags": []
          },
          "execution_count": 10
        }
      ]
    },
    {
      "cell_type": "code",
      "metadata": {
        "colab": {
          "base_uri": "https://localhost:8080/"
        },
        "id": "_Yg_ll5-OFJC",
        "outputId": "662c8216-cd92-4ce2-ff70-565ab9881eac"
      },
      "source": [
        "D = 9.14156\r\n",
        "pi = np.pi\r\n",
        "Vol = pi*D**3/4\r\n",
        "print('Volume =', Vol, 'm3')"
      ],
      "execution_count": 11,
      "outputs": [
        {
          "output_type": "stream",
          "text": [
            "Volume = 599.9994103387753 m3\n"
          ],
          "name": "stdout"
        }
      ]
    },
    {
      "cell_type": "code",
      "metadata": {
        "id": "jVxhCcl2OsUY"
      },
      "source": [
        "D = [1.0,2.0,3.0,4.0,5.0,6.0,7.0,8.0,9.0,10.0]"
      ],
      "execution_count": null,
      "outputs": []
    }
  ]
}
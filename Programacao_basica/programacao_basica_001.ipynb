{
  "nbformat": 4,
  "nbformat_minor": 0,
  "metadata": {
    "colab": {
      "name": "programacao_basica_001.ipynb",
      "provenance": [],
      "authorship_tag": "ABX9TyOdYHIVtTxtTm2sFWxe3D40",
      "include_colab_link": true
    },
    "kernelspec": {
      "name": "python3",
      "display_name": "Python 3"
    }
  },
  "cells": [
    {
      "cell_type": "markdown",
      "metadata": {
        "id": "view-in-github",
        "colab_type": "text"
      },
      "source": [
        "<a href=\"https://colab.research.google.com/github/ucfilho/ANN_2021_01/blob/main/Programacao_basica/programacao_basica_001.ipynb\" target=\"_parent\"><img src=\"https://colab.research.google.com/assets/colab-badge.svg\" alt=\"Open In Colab\"/></a>"
      ]
    },
    {
      "cell_type": "code",
      "metadata": {
        "colab": {
          "base_uri": "https://localhost:8080/"
        },
        "id": "IMyehuMiTBPR",
        "outputId": "62310cd2-d12b-426b-8f11-50a0441b6391"
      },
      "source": [
        "Vol = 600\r\n",
        "pi = 3.1415\r\n",
        "# Vol = pi*D**3/4\r\n",
        "D = (4*Vol/pi)**(1.0/3.0)\r\n",
        "print('Volume =',Vol,'m3')\r\n",
        "print('Diametro =',D,'m')"
      ],
      "execution_count": 8,
      "outputs": [
        {
          "output_type": "stream",
          "text": [
            "Volume = 60 m3\n",
            "Diametro = 4.243179386263504 m\n"
          ],
          "name": "stdout"
        }
      ]
    },
    {
      "cell_type": "code",
      "metadata": {
        "colab": {
          "base_uri": "https://localhost:8080/"
        },
        "id": "x3eViwVITk5f",
        "outputId": "18aa3c8d-5334-4904-8b87-12b560810aac"
      },
      "source": [
        "if(D>5):\r\n",
        "  print('reator grande')\r\n",
        "else:\r\n",
        "  print('nao é tao grande')"
      ],
      "execution_count": 9,
      "outputs": [
        {
          "output_type": "stream",
          "text": [
            "nao é tao grande\n"
          ],
          "name": "stdout"
        }
      ]
    }
  ]
}
{
  "nbformat": 4,
  "nbformat_minor": 0,
  "metadata": {
    "colab": {
      "name": "programacao_basica_003.ipynb",
      "provenance": [],
      "authorship_tag": "ABX9TyMoRj4/0c2D84JaPJcIb825",
      "include_colab_link": true
    },
    "kernelspec": {
      "name": "python3",
      "display_name": "Python 3"
    },
    "language_info": {
      "name": "python"
    }
  },
  "cells": [
    {
      "cell_type": "markdown",
      "metadata": {
        "id": "view-in-github",
        "colab_type": "text"
      },
      "source": [
        "<a href=\"https://colab.research.google.com/github/ucfilho/ANN_2021_01/blob/main/Programacao_basica/programacao_basica_003.ipynb\" target=\"_parent\"><img src=\"https://colab.research.google.com/assets/colab-badge.svg\" alt=\"Open In Colab\"/></a>"
      ]
    },
    {
      "cell_type": "code",
      "metadata": {
        "id": "eJ1yEDvgZBa0"
      },
      "source": [
        "import numpy as np\n"
      ],
      "execution_count": null,
      "outputs": []
    },
    {
      "cell_type": "code",
      "metadata": {
        "id": "s4wQl4NiX70p"
      },
      "source": [
        "def Vol(x):\n",
        "  Volume =[] \n",
        "  for d in x:\n",
        "    Volume.append(np.pi*d**3/4)\n",
        "  return Volume\n"
      ],
      "execution_count": null,
      "outputs": []
    },
    {
      "cell_type": "code",
      "metadata": {
        "colab": {
          "base_uri": "https://localhost:8080/"
        },
        "id": "vTvWkxakYsSE",
        "outputId": "9169b1b8-d7ac-4698-b62a-f6a31b86ced2"
      },
      "source": [
        "Diam = [2,4,6,8,10]\n",
        "Volume = Vol(Diam)\n",
        "print(Volume)"
      ],
      "execution_count": null,
      "outputs": [
        {
          "output_type": "stream",
          "text": [
            "[6.283185307179586, 50.26548245743669, 169.64600329384882, 402.1238596594935, 785.3981633974482]\n"
          ],
          "name": "stdout"
        }
      ]
    }
  ]
}
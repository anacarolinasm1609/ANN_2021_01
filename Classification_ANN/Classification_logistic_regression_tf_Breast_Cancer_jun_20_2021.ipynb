{
  "nbformat": 4,
  "nbformat_minor": 0,
  "metadata": {
    "colab": {
      "name": "Classification_logistic_regression_tf_Breast_Cancer_jun_20_2021.ipynb",
      "provenance": [],
      "authorship_tag": "ABX9TyPmxVvgbdn/FLMuaZZa7p1o",
      "include_colab_link": true
    },
    "kernelspec": {
      "name": "python3",
      "display_name": "Python 3"
    },
    "language_info": {
      "name": "python"
    }
  },
  "cells": [
    {
      "cell_type": "markdown",
      "metadata": {
        "id": "view-in-github",
        "colab_type": "text"
      },
      "source": [
        "<a href=\"https://colab.research.google.com/github/ucfilho/ANN_2021_01/blob/main/Classification_ANN/Classification_logistic_regression_tf_Breast_Cancer_jun_20_2021.ipynb\" target=\"_parent\"><img src=\"https://colab.research.google.com/assets/colab-badge.svg\" alt=\"Open In Colab\"/></a>"
      ]
    },
    {
      "cell_type": "code",
      "metadata": {
        "colab": {
          "base_uri": "https://localhost:8080/",
          "height": 53
        },
        "id": "sKvXSx5soL05",
        "outputId": "372305d3-48e0-44a9-e046-def9738c0304"
      },
      "source": [
        "'''\n",
        "This code classify cancer according to logistic regression using tensor flow\n",
        "It correspond a neural network containing only one neuron \n",
        "The neuron has activation function type sigmoid\n",
        "'''"
      ],
      "execution_count": 1,
      "outputs": [
        {
          "output_type": "execute_result",
          "data": {
            "application/vnd.google.colaboratory.intrinsic+json": {
              "type": "string"
            },
            "text/plain": [
              "'\\nThis code classify cancer according to logistic regression using tensor flow\\nIt correspond a neural network containing only one neuron \\nThe neuron has activation function type sigmoid\\n'"
            ]
          },
          "metadata": {
            "tags": []
          },
          "execution_count": 1
        }
      ]
    },
    {
      "cell_type": "code",
      "metadata": {
        "id": "ZiZHQCynd6AI"
      },
      "source": [
        "import tensorflow as tf\n",
        "from sklearn.datasets import load_breast_cancer\n",
        "from sklearn.model_selection import train_test_split\n",
        "from sklearn.preprocessing import StandardScaler\n",
        "from sklearn.metrics import classification_report, confusion_matrix\n",
        "import matplotlib.pyplot as plt"
      ],
      "execution_count": 2,
      "outputs": []
    },
    {
      "cell_type": "code",
      "metadata": {
        "colab": {
          "base_uri": "https://localhost:8080/"
        },
        "id": "BALMG7Wud_oG",
        "outputId": "834a4eac-0097-40aa-b9a4-f9d207542b15"
      },
      "source": [
        "print(tf.__version__)"
      ],
      "execution_count": 3,
      "outputs": [
        {
          "output_type": "stream",
          "text": [
            "2.5.0\n"
          ],
          "name": "stdout"
        }
      ]
    },
    {
      "cell_type": "code",
      "metadata": {
        "id": "KUAv68DNeoYT"
      },
      "source": [
        "data = load_breast_cancer()"
      ],
      "execution_count": 4,
      "outputs": []
    },
    {
      "cell_type": "code",
      "metadata": {
        "colab": {
          "base_uri": "https://localhost:8080/"
        },
        "id": "_xnWTJlgf4p4",
        "outputId": "3d0f5b39-ada8-459e-83f2-a82c377dc2af"
      },
      "source": [
        "type(data)"
      ],
      "execution_count": 5,
      "outputs": [
        {
          "output_type": "execute_result",
          "data": {
            "text/plain": [
              "sklearn.utils.Bunch"
            ]
          },
          "metadata": {
            "tags": []
          },
          "execution_count": 5
        }
      ]
    },
    {
      "cell_type": "code",
      "metadata": {
        "colab": {
          "base_uri": "https://localhost:8080/"
        },
        "id": "jJ6rJxNEe1Ox",
        "outputId": "2aeab253-893e-44cf-c663-b49b772aad55"
      },
      "source": [
        "data.keys()"
      ],
      "execution_count": 6,
      "outputs": [
        {
          "output_type": "execute_result",
          "data": {
            "text/plain": [
              "dict_keys(['data', 'target', 'target_names', 'DESCR', 'feature_names', 'filename'])"
            ]
          },
          "metadata": {
            "tags": []
          },
          "execution_count": 6
        }
      ]
    },
    {
      "cell_type": "code",
      "metadata": {
        "colab": {
          "base_uri": "https://localhost:8080/",
          "height": 191
        },
        "id": "n0RVxE22fYz_",
        "outputId": "0216b213-ebac-400b-d8b8-2215773f9911"
      },
      "source": [
        "data.DESCR # other informations y =data.target, X=data.data, ...."
      ],
      "execution_count": 7,
      "outputs": [
        {
          "output_type": "execute_result",
          "data": {
            "application/vnd.google.colaboratory.intrinsic+json": {
              "type": "string"
            },
            "text/plain": [
              "'.. _breast_cancer_dataset:\\n\\nBreast cancer wisconsin (diagnostic) dataset\\n--------------------------------------------\\n\\n**Data Set Characteristics:**\\n\\n    :Number of Instances: 569\\n\\n    :Number of Attributes: 30 numeric, predictive attributes and the class\\n\\n    :Attribute Information:\\n        - radius (mean of distances from center to points on the perimeter)\\n        - texture (standard deviation of gray-scale values)\\n        - perimeter\\n        - area\\n        - smoothness (local variation in radius lengths)\\n        - compactness (perimeter^2 / area - 1.0)\\n        - concavity (severity of concave portions of the contour)\\n        - concave points (number of concave portions of the contour)\\n        - symmetry \\n        - fractal dimension (\"coastline approximation\" - 1)\\n\\n        The mean, standard error, and \"worst\" or largest (mean of the three\\n        largest values) of these features were computed for each image,\\n        resulting in 30 features.  For instance, field 3 is Mean Radius, field\\n        13 is Radius SE, field 23 is Worst Radius.\\n\\n        - class:\\n                - WDBC-Malignant\\n                - WDBC-Benign\\n\\n    :Summary Statistics:\\n\\n    ===================================== ====== ======\\n                                           Min    Max\\n    ===================================== ====== ======\\n    radius (mean):                        6.981  28.11\\n    texture (mean):                       9.71   39.28\\n    perimeter (mean):                     43.79  188.5\\n    area (mean):                          143.5  2501.0\\n    smoothness (mean):                    0.053  0.163\\n    compactness (mean):                   0.019  0.345\\n    concavity (mean):                     0.0    0.427\\n    concave points (mean):                0.0    0.201\\n    symmetry (mean):                      0.106  0.304\\n    fractal dimension (mean):             0.05   0.097\\n    radius (standard error):              0.112  2.873\\n    texture (standard error):             0.36   4.885\\n    perimeter (standard error):           0.757  21.98\\n    area (standard error):                6.802  542.2\\n    smoothness (standard error):          0.002  0.031\\n    compactness (standard error):         0.002  0.135\\n    concavity (standard error):           0.0    0.396\\n    concave points (standard error):      0.0    0.053\\n    symmetry (standard error):            0.008  0.079\\n    fractal dimension (standard error):   0.001  0.03\\n    radius (worst):                       7.93   36.04\\n    texture (worst):                      12.02  49.54\\n    perimeter (worst):                    50.41  251.2\\n    area (worst):                         185.2  4254.0\\n    smoothness (worst):                   0.071  0.223\\n    compactness (worst):                  0.027  1.058\\n    concavity (worst):                    0.0    1.252\\n    concave points (worst):               0.0    0.291\\n    symmetry (worst):                     0.156  0.664\\n    fractal dimension (worst):            0.055  0.208\\n    ===================================== ====== ======\\n\\n    :Missing Attribute Values: None\\n\\n    :Class Distribution: 212 - Malignant, 357 - Benign\\n\\n    :Creator:  Dr. William H. Wolberg, W. Nick Street, Olvi L. Mangasarian\\n\\n    :Donor: Nick Street\\n\\n    :Date: November, 1995\\n\\nThis is a copy of UCI ML Breast Cancer Wisconsin (Diagnostic) datasets.\\nhttps://goo.gl/U2Uwz2\\n\\nFeatures are computed from a digitized image of a fine needle\\naspirate (FNA) of a breast mass.  They describe\\ncharacteristics of the cell nuclei present in the image.\\n\\nSeparating plane described above was obtained using\\nMultisurface Method-Tree (MSM-T) [K. P. Bennett, \"Decision Tree\\nConstruction Via Linear Programming.\" Proceedings of the 4th\\nMidwest Artificial Intelligence and Cognitive Science Society,\\npp. 97-101, 1992], a classification method which uses linear\\nprogramming to construct a decision tree.  Relevant features\\nwere selected using an exhaustive search in the space of 1-4\\nfeatures and 1-3 separating planes.\\n\\nThe actual linear program used to obtain the separating plane\\nin the 3-dimensional space is that described in:\\n[K. P. Bennett and O. L. Mangasarian: \"Robust Linear\\nProgramming Discrimination of Two Linearly Inseparable Sets\",\\nOptimization Methods and Software 1, 1992, 23-34].\\n\\nThis database is also available through the UW CS ftp server:\\n\\nftp ftp.cs.wisc.edu\\ncd math-prog/cpo-dataset/machine-learn/WDBC/\\n\\n.. topic:: References\\n\\n   - W.N. Street, W.H. Wolberg and O.L. Mangasarian. Nuclear feature extraction \\n     for breast tumor diagnosis. IS&T/SPIE 1993 International Symposium on \\n     Electronic Imaging: Science and Technology, volume 1905, pages 861-870,\\n     San Jose, CA, 1993.\\n   - O.L. Mangasarian, W.N. Street and W.H. Wolberg. Breast cancer diagnosis and \\n     prognosis via linear programming. Operations Research, 43(4), pages 570-577, \\n     July-August 1995.\\n   - W.H. Wolberg, W.N. Street, and O.L. Mangasarian. Machine learning techniques\\n     to diagnose breast cancer from fine-needle aspirates. Cancer Letters 77 (1994) \\n     163-171.'"
            ]
          },
          "metadata": {
            "tags": []
          },
          "execution_count": 7
        }
      ]
    },
    {
      "cell_type": "code",
      "metadata": {
        "id": "ObvxvA-aeb50"
      },
      "source": [
        "X_train, X_test, y_train, y_test = train_test_split(data.data, data.target, test_size = 0.33)"
      ],
      "execution_count": 8,
      "outputs": []
    },
    {
      "cell_type": "code",
      "metadata": {
        "id": "xfEPg_lpfea-"
      },
      "source": [
        "N,D = X_train.shape"
      ],
      "execution_count": 9,
      "outputs": []
    },
    {
      "cell_type": "code",
      "metadata": {
        "id": "ye4_G1JVhaFN"
      },
      "source": [
        "scaler = StandardScaler()\n",
        "X_train = scaler.fit_transform(X_train)\n",
        "X_test = scaler.transform(X_test)"
      ],
      "execution_count": 10,
      "outputs": []
    },
    {
      "cell_type": "code",
      "metadata": {
        "id": "bu-2v11ri_bL"
      },
      "source": [
        "model = tf.keras.models.Sequential()\n",
        "model.add(tf.keras.layers.Dense(1, input_shape=(D,), activation='sigmoid'))\n"
      ],
      "execution_count": 11,
      "outputs": []
    },
    {
      "cell_type": "code",
      "metadata": {
        "id": "bWGKariIkGiF"
      },
      "source": [
        "model.compile(optimizer = 'adam', \n",
        "              loss  ='binary_crossentropy', \n",
        "              metrics = 'accuracy')"
      ],
      "execution_count": 12,
      "outputs": []
    },
    {
      "cell_type": "code",
      "metadata": {
        "id": "yuSYjHUYk3Re"
      },
      "source": [
        "r = model.fit(X_train,y_train, \n",
        "              validation_data=(X_test,y_test),\n",
        "              epochs = 100, verbose=0)  # verbose = 1 will show the epochs"
      ],
      "execution_count": 13,
      "outputs": []
    },
    {
      "cell_type": "code",
      "metadata": {
        "colab": {
          "base_uri": "https://localhost:8080/"
        },
        "id": "fKxSFMfQlxeT",
        "outputId": "f47b133c-1267-45ee-9c3d-5443052d19c9"
      },
      "source": [
        "print('loss and accuray train=',model.evaluate(X_train,y_train))\n",
        "print('loss and accuray test=',model.evaluate(X_test,y_test))"
      ],
      "execution_count": 14,
      "outputs": [
        {
          "output_type": "stream",
          "text": [
            "12/12 [==============================] - 0s 2ms/step - loss: 0.0951 - accuracy: 0.9738\n",
            "loss and accuray train= [0.09507746249437332, 0.9737532734870911]\n",
            "6/6 [==============================] - 0s 2ms/step - loss: 0.0740 - accuracy: 0.9787\n",
            "loss and accuray test= [0.07395275682210922, 0.978723406791687]\n"
          ],
          "name": "stdout"
        }
      ]
    },
    {
      "cell_type": "code",
      "metadata": {
        "colab": {
          "base_uri": "https://localhost:8080/",
          "height": 283
        },
        "id": "woJCMb6znIdT",
        "outputId": "33ec1951-9a0e-4257-bbae-14347200f214"
      },
      "source": [
        "plt.plot(r.history['accuracy'],label='acc')\n",
        "plt.plot(r.history['val_accuracy'],label='val_acc')\n",
        "plt.legend()"
      ],
      "execution_count": 15,
      "outputs": [
        {
          "output_type": "execute_result",
          "data": {
            "text/plain": [
              "<matplotlib.legend.Legend at 0x7f7e66b5ef90>"
            ]
          },
          "metadata": {
            "tags": []
          },
          "execution_count": 15
        },
        {
          "output_type": "display_data",
          "data": {
            "image/png": "[encoded data removed]",
            "text/plain": [
              "<Figure size 432x288 with 1 Axes>"
            ]
          },
          "metadata": {
            "tags": [],
            "needs_background": "light"
          }
        }
      ]
    },
    {
      "cell_type": "code",
      "metadata": {
        "colab": {
          "base_uri": "https://localhost:8080/",
          "height": 283
        },
        "id": "-HFz_BDQnh22",
        "outputId": "0651d003-87f5-4b06-fea0-0a404f61fec2"
      },
      "source": [
        "plt.plot(r.history['loss'],label='loss')\n",
        "plt.plot(r.history['val_loss'],label='val_loss')\n",
        "plt.legend()"
      ],
      "execution_count": 16,
      "outputs": [
        {
          "output_type": "execute_result",
          "data": {
            "text/plain": [
              "<matplotlib.legend.Legend at 0x7f7e665e7810>"
            ]
          },
          "metadata": {
            "tags": []
          },
          "execution_count": 16
        },
        {
          "output_type": "display_data",
          "data": {
            "image/png": "[encoded data removed]",
            "text/plain": [
              "<Figure size 432x288 with 1 Axes>"
            ]
          },
          "metadata": {
            "tags": [],
            "needs_background": "light"
          }
        }
      ]
    },
    {
      "cell_type": "code",
      "metadata": {
        "id": "OxNEr5eXpE5j"
      },
      "source": [
        "pred_train = model.predict(X_train)\n",
        "pred_test = model.predict(X_test)"
      ],
      "execution_count": 17,
      "outputs": []
    },
    {
      "cell_type": "code",
      "metadata": {
        "colab": {
          "base_uri": "https://localhost:8080/"
        },
        "id": "jzLBPWJfpXnR",
        "outputId": "637270f2-0720-4974-a002-434623fd4c50"
      },
      "source": [
        "pred_test"
      ],
      "execution_count": 18,
      "outputs": [
        {
          "output_type": "execute_result",
          "data": {
            "text/plain": [
              "array([[4.38974297e-08],\n",
              "       [9.95004535e-01],\n",
              "       [9.52649951e-01],\n",
              "       [3.80877852e-02],\n",
              "       [9.99868393e-01],\n",
              "       [1.75643231e-06],\n",
              "       [9.99356031e-01],\n",
              "       [3.60539377e-01],\n",
              "       [9.64096665e-01],\n",
              "       [9.98494089e-01],\n",
              "       [1.73512101e-03],\n",
              "       [9.91268873e-01],\n",
              "       [1.60527229e-03],\n",
              "       [4.51115251e-01],\n",
              "       [3.99872661e-03],\n",
              "       [8.15010935e-05],\n",
              "       [8.63705277e-01],\n",
              "       [7.90407896e-01],\n",
              "       [9.46974754e-03],\n",
              "       [2.25991011e-04],\n",
              "       [9.91888762e-01],\n",
              "       [1.85403526e-02],\n",
              "       [9.96951342e-01],\n",
              "       [8.64637256e-01],\n",
              "       [7.15170622e-01],\n",
              "       [3.59844744e-01],\n",
              "       [1.09997054e-04],\n",
              "       [1.86693966e-02],\n",
              "       [9.83705938e-01],\n",
              "       [9.69835043e-01],\n",
              "       [9.24432874e-02],\n",
              "       [4.43646312e-03],\n",
              "       [9.99927163e-01],\n",
              "       [1.32116675e-02],\n",
              "       [9.99505758e-01],\n",
              "       [9.32757735e-01],\n",
              "       [1.09525979e-01],\n",
              "       [6.21139116e-05],\n",
              "       [1.41203403e-04],\n",
              "       [2.10165977e-03],\n",
              "       [9.46462274e-01],\n",
              "       [9.88935828e-01],\n",
              "       [9.99688148e-01],\n",
              "       [4.14013863e-03],\n",
              "       [8.98035645e-01],\n",
              "       [7.91960955e-03],\n",
              "       [1.64268911e-02],\n",
              "       [9.71254826e-01],\n",
              "       [8.08987558e-01],\n",
              "       [3.72478962e-01],\n",
              "       [1.97767228e-01],\n",
              "       [7.41494596e-01],\n",
              "       [2.40474641e-02],\n",
              "       [1.59015656e-02],\n",
              "       [6.72722161e-01],\n",
              "       [9.98595834e-01],\n",
              "       [9.98758852e-01],\n",
              "       [9.99721527e-01],\n",
              "       [6.25401735e-03],\n",
              "       [9.87647355e-01],\n",
              "       [9.80604351e-01],\n",
              "       [9.98166680e-01],\n",
              "       [3.31346678e-06],\n",
              "       [9.96549010e-01],\n",
              "       [9.24224496e-01],\n",
              "       [5.47483385e-01],\n",
              "       [9.92676914e-01],\n",
              "       [2.24763751e-02],\n",
              "       [5.16626239e-03],\n",
              "       [9.90684152e-01],\n",
              "       [1.23709440e-04],\n",
              "       [1.39837712e-01],\n",
              "       [9.27756846e-01],\n",
              "       [9.90913928e-01],\n",
              "       [2.63932049e-02],\n",
              "       [9.26601291e-01],\n",
              "       [1.18984412e-04],\n",
              "       [2.19577832e-05],\n",
              "       [9.87306833e-01],\n",
              "       [9.93991256e-01],\n",
              "       [4.01109904e-01],\n",
              "       [9.33187723e-01],\n",
              "       [9.99597430e-01],\n",
              "       [7.64217079e-02],\n",
              "       [9.98685718e-01],\n",
              "       [3.30209732e-04],\n",
              "       [5.60313463e-03],\n",
              "       [1.59949064e-03],\n",
              "       [9.50830102e-01],\n",
              "       [9.94156778e-01],\n",
              "       [2.61536837e-02],\n",
              "       [1.49318576e-03],\n",
              "       [9.95334506e-01],\n",
              "       [6.61197919e-05],\n",
              "       [9.99401689e-01],\n",
              "       [9.98681962e-01],\n",
              "       [8.96771789e-01],\n",
              "       [9.76085721e-06],\n",
              "       [3.17842752e-09],\n",
              "       [8.27279389e-01],\n",
              "       [9.09163356e-01],\n",
              "       [9.98241305e-01],\n",
              "       [9.90588486e-01],\n",
              "       [3.80963087e-04],\n",
              "       [1.23294754e-04],\n",
              "       [8.92777264e-01],\n",
              "       [9.95161295e-01],\n",
              "       [5.29090471e-07],\n",
              "       [1.16315961e-04],\n",
              "       [9.69480217e-01],\n",
              "       [9.70322430e-01],\n",
              "       [9.22237635e-01],\n",
              "       [9.81194973e-01],\n",
              "       [2.53874660e-02],\n",
              "       [4.35466915e-01],\n",
              "       [9.96148825e-01],\n",
              "       [9.97943759e-01],\n",
              "       [1.21007258e-06],\n",
              "       [9.83345985e-01],\n",
              "       [3.65287066e-04],\n",
              "       [7.57233920e-07],\n",
              "       [8.73902798e-01],\n",
              "       [9.92054343e-01],\n",
              "       [9.20260847e-01],\n",
              "       [1.79588795e-04],\n",
              "       [9.88622129e-01],\n",
              "       [9.42204237e-01],\n",
              "       [4.83042300e-02],\n",
              "       [2.97763308e-05],\n",
              "       [2.20507383e-04],\n",
              "       [9.51021075e-01],\n",
              "       [1.24864937e-05],\n",
              "       [9.71091866e-01],\n",
              "       [8.46206039e-09],\n",
              "       [7.59897411e-01],\n",
              "       [8.00371170e-04],\n",
              "       [2.32347846e-03],\n",
              "       [4.01365459e-02],\n",
              "       [9.92534995e-01],\n",
              "       [8.54718685e-03],\n",
              "       [9.99183834e-01],\n",
              "       [9.92739081e-01],\n",
              "       [9.97069001e-01],\n",
              "       [7.80112743e-01],\n",
              "       [9.98822093e-01],\n",
              "       [9.92449403e-01],\n",
              "       [9.80803847e-01],\n",
              "       [9.97356236e-01],\n",
              "       [9.96412754e-01],\n",
              "       [5.39004803e-04],\n",
              "       [1.82503462e-03],\n",
              "       [9.99317646e-01],\n",
              "       [9.99397755e-01],\n",
              "       [8.86658847e-01],\n",
              "       [9.38329458e-01],\n",
              "       [1.26038877e-08],\n",
              "       [9.99398291e-01],\n",
              "       [3.29832286e-01],\n",
              "       [1.37352943e-03],\n",
              "       [9.91067648e-01],\n",
              "       [9.81736898e-01],\n",
              "       [9.94795799e-01],\n",
              "       [9.19368863e-01],\n",
              "       [9.97570395e-01],\n",
              "       [9.38017547e-01],\n",
              "       [9.18151855e-01],\n",
              "       [3.14015746e-02],\n",
              "       [3.27644348e-02],\n",
              "       [3.30705370e-05],\n",
              "       [9.53108311e-01],\n",
              "       [9.05243635e-01],\n",
              "       [9.97098923e-01],\n",
              "       [9.85526681e-01],\n",
              "       [8.19879770e-03],\n",
              "       [9.69491184e-01],\n",
              "       [2.51123011e-02],\n",
              "       [9.89895701e-01],\n",
              "       [1.46496296e-03],\n",
              "       [3.49908769e-02],\n",
              "       [6.77037954e-01],\n",
              "       [6.50814772e-02],\n",
              "       [5.69796920e-01],\n",
              "       [5.87572575e-01],\n",
              "       [2.43959069e-01],\n",
              "       [9.50634480e-04],\n",
              "       [9.46106672e-01],\n",
              "       [3.68356705e-03],\n",
              "       [8.17711353e-01]], dtype=float32)"
            ]
          },
          "metadata": {
            "tags": []
          },
          "execution_count": 18
        }
      ]
    },
    {
      "cell_type": "code",
      "metadata": {
        "colab": {
          "base_uri": "https://localhost:8080/"
        },
        "id": "x35oCrPGpjBW",
        "outputId": "176b99bf-99e7-4e3a-dd33-0d56cb6cdd50"
      },
      "source": [
        "pred_train = model.predict_classes(X_train)\n",
        "pred_test = model.predict_classes(X_test)"
      ],
      "execution_count": 19,
      "outputs": [
        {
          "output_type": "stream",
          "text": [
            "/usr/local/lib/python3.7/dist-packages/tensorflow/python/keras/engine/sequential.py:455: UserWarning: `model.predict_classes()` is deprecated and will be removed after 2021-01-01. Please use instead:* `np.argmax(model.predict(x), axis=-1)`,   if your model does multi-class classification   (e.g. if it uses a `softmax` last-layer activation).* `(model.predict(x) > 0.5).astype(\"int32\")`,   if your model does binary classification   (e.g. if it uses a `sigmoid` last-layer activation).\n",
            "  warnings.warn('`model.predict_classes()` is deprecated and '\n"
          ],
          "name": "stderr"
        }
      ]
    },
    {
      "cell_type": "code",
      "metadata": {
        "id": "HWoWLh0wpqnc"
      },
      "source": [
        "pred_train = (model.predict(X_train) > 0.5).astype(\"int32\")\n",
        "pred_test = (model.predict(X_train) > 0.5).astype(\"int32\")"
      ],
      "execution_count": 20,
      "outputs": []
    },
    {
      "cell_type": "code",
      "metadata": {
        "colab": {
          "base_uri": "https://localhost:8080/"
        },
        "id": "KssaCIrnqNxh",
        "outputId": "88aed89d-e73d-4977-d98f-62d5e305a9a3"
      },
      "source": [
        "print('\\n\\n', \n",
        "      classification_report(y_train, pred_train,\n",
        "                            target_names=['normal', 'cancer']))"
      ],
      "execution_count": 21,
      "outputs": [
        {
          "output_type": "stream",
          "text": [
            "\n",
            "\n",
            "               precision    recall  f1-score   support\n",
            "\n",
            "      normal       0.97      0.95      0.96       129\n",
            "      cancer       0.98      0.98      0.98       252\n",
            "\n",
            "    accuracy                           0.97       381\n",
            "   macro avg       0.97      0.97      0.97       381\n",
            "weighted avg       0.97      0.97      0.97       381\n",
            "\n"
          ],
          "name": "stdout"
        }
      ]
    }
  ]
}
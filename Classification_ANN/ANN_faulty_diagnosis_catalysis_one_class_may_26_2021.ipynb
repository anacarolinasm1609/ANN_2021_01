{
  "nbformat": 4,
  "nbformat_minor": 0,
  "metadata": {
    "kernelspec": {
      "display_name": "Python 3",
      "language": "python",
      "name": "python3"
    },
    "language_info": {
      "codemirror_mode": {
        "name": "ipython",
        "version": 3
      },
      "file_extension": ".py",
      "mimetype": "text/x-python",
      "name": "python",
      "nbconvert_exporter": "python",
      "pygments_lexer": "ipython3",
      "version": "3.5.4"
    },
    "colab": {
      "name": "ANN_faulty_diagnosis_catalysis_one_class_may_26_2021.ipynb",
      "provenance": [],
      "include_colab_link": true
    }
  },
  "cells": [
    {
      "cell_type": "markdown",
      "metadata": {
        "id": "view-in-github",
        "colab_type": "text"
      },
      "source": [
        "<a href=\"https://colab.research.google.com/github/ucfilho/ANN_2021_01/blob/main/Classification_ANN/ANN_faulty_diagnosis_catalysis_one_class_may_26_2021.ipynb\" target=\"_parent\"><img src=\"https://colab.research.google.com/assets/colab-badge.svg\" alt=\"Open In Colab\"/></a>"
      ]
    },
    {
      "cell_type": "code",
      "metadata": {
        "id": "cF6kzanWQZgh"
      },
      "source": [
        "# bibliotecas usadas\n",
        "import numpy as np\n",
        "import pandas as pd\n",
        "from sklearn import preprocessing\n",
        "from sklearn.neural_network import MLPClassifier\n",
        "from sklearn.metrics import confusion_matrix"
      ],
      "execution_count": 10,
      "outputs": []
    },
    {
      "cell_type": "code",
      "metadata": {
        "id": "xDrq_-S8QZgn",
        "colab": {
          "base_uri": "https://localhost:8080/"
        },
        "outputId": "096e9ba4-55ff-4f02-e6cb-602e7a2a575d"
      },
      "source": [
        "!git clone https://github.com/ucfilho/ANN_2021_01\n",
        "%cd ANN_2021_01"
      ],
      "execution_count": 11,
      "outputs": [
        {
          "output_type": "stream",
          "text": [
            "Cloning into 'ANN_2021_01'...\n",
            "remote: Enumerating objects: 264, done.\u001b[K\n",
            "remote: Counting objects: 100% (264/264), done.\u001b[K\n",
            "remote: Compressing objects: 100% (258/258), done.\u001b[K\n",
            "remote: Total 264 (delta 146), reused 0 (delta 0), pack-reused 0\u001b[K\n",
            "Receiving objects: 100% (264/264), 272.45 KiB | 5.92 MiB/s, done.\n",
            "Resolving deltas: 100% (146/146), done.\n",
            "/content/ANN_2021_01/ANN_2021_01\n"
          ],
          "name": "stdout"
        }
      ]
    },
    {
      "cell_type": "code",
      "metadata": {
        "id": "poo2kvF6QZgo",
        "colab": {
          "base_uri": "https://localhost:8080/"
        },
        "outputId": "9610f294-69b2-44fd-8786-77e64582b631"
      },
      "source": [
        "df=pd.read_csv(\"FAULT_DIAGNOSIS_maio_25_2017.txt\",sep='\\t')\n",
        "print(df.head())"
      ],
      "execution_count": 12,
      "outputs": [
        {
          "output_type": "stream",
          "text": [
            "    TF    P  Flow  Y1  Y2  Y3\n",
            "0  400  100   200   0   0   0\n",
            "1  420  100   200   0   0   0\n",
            "2  380  100   200   0   0   0\n",
            "3  400  100   200   0   0   0\n",
            "4  400   90   200   0   0   0\n"
          ],
          "name": "stdout"
        }
      ]
    },
    {
      "cell_type": "code",
      "metadata": {
        "id": "FEvCqRGUQZgr"
      },
      "source": [
        "# separa os dados em normatizados e originais\n",
        "X = df[['TF','P','Flow']]\n"
      ],
      "execution_count": 13,
      "outputs": []
    },
    {
      "cell_type": "code",
      "metadata": {
        "id": "IZsSwWkntoXt",
        "colab": {
          "base_uri": "https://localhost:8080/"
        },
        "outputId": "b2bf03dd-f06d-4215-a1f7-d6252ed228dd"
      },
      "source": [
        "y = df[['Y1','Y2','Y3']]\n",
        "print(y)"
      ],
      "execution_count": 14,
      "outputs": [
        {
          "output_type": "stream",
          "text": [
            "    Y1  Y2  Y3\n",
            "0    0   0   0\n",
            "1    0   0   0\n",
            "2    0   0   0\n",
            "3    0   0   0\n",
            "4    0   0   0\n",
            "5    0   0   0\n",
            "6    0   0   0\n",
            "7    1   0   0\n",
            "8    1   0   0\n",
            "9    1   0   0\n",
            "10   1   0   0\n",
            "11   1   0   0\n",
            "12   0   1   0\n",
            "13   0   1   0\n",
            "14   0   0   1\n",
            "15   0   0   1\n"
          ],
          "name": "stdout"
        }
      ]
    },
    {
      "cell_type": "code",
      "metadata": {
        "id": "ZQe_XwzzlGqX"
      },
      "source": [
        "yy = np.array(y)\n",
        "y_one = []\n",
        "for yi in yy:\n",
        "  y1,y2,y3 = yi\n",
        "  if(y1 == 1):\n",
        "    y_one.append(1)\n",
        "  elif(y2 ==1):\n",
        "    y_one.append(2)\n",
        "  elif(y3 ==1):\n",
        "    y_one.append(3)\n",
        "  else:\n",
        "    y_one.append(0)\n",
        "\n",
        "\n",
        "  "
      ],
      "execution_count": 15,
      "outputs": []
    },
    {
      "cell_type": "code",
      "metadata": {
        "colab": {
          "base_uri": "https://localhost:8080/"
        },
        "id": "2iA6VdZ9mFKT",
        "outputId": "666fca0b-0f54-45a7-bb1c-e3eff47c78da"
      },
      "source": [
        "y_one"
      ],
      "execution_count": 16,
      "outputs": [
        {
          "output_type": "execute_result",
          "data": {
            "text/plain": [
              "[0, 0, 0, 0, 0, 0, 0, 1, 1, 1, 1, 1, 2, 2, 3, 3]"
            ]
          },
          "metadata": {
            "tags": []
          },
          "execution_count": 16
        }
      ]
    },
    {
      "cell_type": "code",
      "metadata": {
        "id": "9_In7Roxklf-"
      },
      "source": [
        "# X_train, X_test, y_train, y_test = train_test_split(X,y,test_size=0.10, shuffle=True, random_state=3)"
      ],
      "execution_count": 17,
      "outputs": []
    },
    {
      "cell_type": "code",
      "metadata": {
        "id": "W1D-K3kZfdKC"
      },
      "source": [
        "scaler_X = preprocessing.MinMaxScaler((-1,1)).fit(X)\n",
        "# scaler_Y = preprocessing.MinMaxScaler((-1,1)).fit(y)"
      ],
      "execution_count": 18,
      "outputs": []
    },
    {
      "cell_type": "code",
      "metadata": {
        "id": "n79c1vardcuS"
      },
      "source": [
        "X_train = X.copy()\n",
        "y_train = y_one.copy()\n",
        "X_train = scaler_X.transform(X_train)\n",
        "#y_train = scaler_Y.transform(y_train)"
      ],
      "execution_count": 19,
      "outputs": []
    },
    {
      "cell_type": "code",
      "metadata": {
        "id": "a7xdJHoKhCUA",
        "colab": {
          "base_uri": "https://localhost:8080/",
          "height": 52
        },
        "outputId": "a069513e-06bd-4746-a762-64f0dd1c564c"
      },
      "source": [
        "'''\n",
        "X_train = scaler_X.transform(X_train)\n",
        "X_test = scaler_X.transform(X_test)\n",
        "y_train = scaler_Y.transform(y_train)\n",
        "y_test = scaler_Y.transform(y_test)\n",
        "'''"
      ],
      "execution_count": 20,
      "outputs": [
        {
          "output_type": "execute_result",
          "data": {
            "application/vnd.google.colaboratory.intrinsic+json": {
              "type": "string"
            },
            "text/plain": [
              "'\\nX_train = scaler_X.transform(X_train)\\nX_test = scaler_X.transform(X_test)\\ny_train = scaler_Y.transform(y_train)\\ny_test = scaler_Y.transform(y_test)\\n'"
            ]
          },
          "metadata": {
            "tags": []
          },
          "execution_count": 20
        }
      ]
    },
    {
      "cell_type": "code",
      "metadata": {
        "id": "ohPsTk19YUaR"
      },
      "source": [
        "# define a rede neural \n",
        "model = MLPClassifier(solver='lbfgs',activation='tanh',alpha=1e-5,hidden_layer_sizes=(15),\n",
        "                     random_state=1)"
      ],
      "execution_count": 21,
      "outputs": []
    },
    {
      "cell_type": "code",
      "metadata": {
        "colab": {
          "base_uri": "https://localhost:8080/"
        },
        "id": "hYNjZoGaYb1k",
        "outputId": "84a154df-4f38-4aff-fa06-9c8e1d7ceed6"
      },
      "source": [
        "# treina a rede neural\n",
        "model.fit(X_train, y_train)"
      ],
      "execution_count": 22,
      "outputs": [
        {
          "output_type": "execute_result",
          "data": {
            "text/plain": [
              "MLPClassifier(activation='tanh', alpha=1e-05, batch_size='auto', beta_1=0.9,\n",
              "              beta_2=0.999, early_stopping=False, epsilon=1e-08,\n",
              "              hidden_layer_sizes=15, learning_rate='constant',\n",
              "              learning_rate_init=0.001, max_fun=15000, max_iter=200,\n",
              "              momentum=0.9, n_iter_no_change=10, nesterovs_momentum=True,\n",
              "              power_t=0.5, random_state=1, shuffle=True, solver='lbfgs',\n",
              "              tol=0.0001, validation_fraction=0.1, verbose=False,\n",
              "              warm_start=False)"
            ]
          },
          "metadata": {
            "tags": []
          },
          "execution_count": 22
        }
      ]
    },
    {
      "cell_type": "code",
      "metadata": {
        "id": "qF4fxd33YjWF"
      },
      "source": [
        "# usa a rede neural treina em calculos para treino e teste\n",
        "y_calc_train=model.predict(X_train)\n",
        "# y_calc_test=model.predict(X_test)"
      ],
      "execution_count": 23,
      "outputs": []
    },
    {
      "cell_type": "code",
      "metadata": {
        "colab": {
          "base_uri": "https://localhost:8080/"
        },
        "id": "fjTXAKSnb1L8",
        "outputId": "cb26d2fd-8bca-4218-f900-c183edc37e8e"
      },
      "source": [
        "y_train"
      ],
      "execution_count": 24,
      "outputs": [
        {
          "output_type": "execute_result",
          "data": {
            "text/plain": [
              "[0, 0, 0, 0, 0, 0, 0, 1, 1, 1, 1, 1, 2, 2, 3, 3]"
            ]
          },
          "metadata": {
            "tags": []
          },
          "execution_count": 24
        }
      ]
    },
    {
      "cell_type": "code",
      "metadata": {
        "colab": {
          "base_uri": "https://localhost:8080/"
        },
        "id": "Y-xRoqNPcG5x",
        "outputId": "e616761b-ee13-428a-cd61-8a087cdb4f3e"
      },
      "source": [
        "y_calc_train"
      ],
      "execution_count": 25,
      "outputs": [
        {
          "output_type": "execute_result",
          "data": {
            "text/plain": [
              "array([0, 0, 0, 0, 0, 0, 0, 1, 1, 1, 1, 1, 2, 2, 3, 3])"
            ]
          },
          "metadata": {
            "tags": []
          },
          "execution_count": 25
        }
      ]
    },
    {
      "cell_type": "code",
      "metadata": {
        "colab": {
          "base_uri": "https://localhost:8080/"
        },
        "id": "zaCrYBieSzRE",
        "outputId": "7ba1a987-fbf2-4bcc-bd8d-372091382adf"
      },
      "source": [
        "X_train"
      ],
      "execution_count": 26,
      "outputs": [
        {
          "output_type": "execute_result",
          "data": {
            "text/plain": [
              "array([[-0.2       ,  1.        , -0.42857143],\n",
              "       [-0.04      ,  1.        , -0.42857143],\n",
              "       [-0.36      ,  1.        , -0.42857143],\n",
              "       [-0.2       ,  1.        , -0.42857143],\n",
              "       [-0.2       ,  0.        , -0.42857143],\n",
              "       [-0.2       ,  1.        ,  0.14285714],\n",
              "       [-0.2       ,  1.        , -1.        ],\n",
              "       [-1.        ,  1.        , -0.42857143],\n",
              "       [-0.8       ,  0.        , -0.42857143],\n",
              "       [-0.6       , -1.        , -0.42857143],\n",
              "       [-0.44      ,  1.        , -0.42857143],\n",
              "       [-0.36      ,  1.        , -1.        ],\n",
              "       [-0.2       ,  1.        ,  1.        ],\n",
              "       [-0.2       ,  1.        ,  0.42857143],\n",
              "       [ 1.        ,  1.        , -0.42857143],\n",
              "       [ 0.8       ,  1.        , -1.        ]])"
            ]
          },
          "metadata": {
            "tags": []
          },
          "execution_count": 26
        }
      ]
    },
    {
      "cell_type": "code",
      "metadata": {
        "colab": {
          "base_uri": "https://localhost:8080/"
        },
        "id": "gStOIYgNS_BA",
        "outputId": "33f3a937-674e-40fc-c3dc-760acadce608"
      },
      "source": [
        "X_exemplo =pd.DataFrame({'TF':[300],'P':[90],'Flow':[300]})\n",
        "# X_exemplo =pd.DataFrame({'TF':[400],'P':[100],'Flow':[200]})\n",
        "X_exemplo =  scaler_X.transform(X_exemplo)\n",
        "y_exemplo=model.predict(X_exemplo)\n",
        "print(y_exemplo)"
      ],
      "execution_count": 27,
      "outputs": [
        {
          "output_type": "stream",
          "text": [
            "[1]\n"
          ],
          "name": "stdout"
        }
      ]
    }
  ]
}
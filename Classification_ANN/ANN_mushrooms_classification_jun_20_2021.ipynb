{
  "nbformat": 4,
  "nbformat_minor": 0,
  "metadata": {
    "colab": {
      "name": "ANN_mushrooms_classification_jun_20_2021.ipynb",
      "provenance": [],
      "include_colab_link": true
    },
    "kernelspec": {
      "name": "python3",
      "display_name": "Python 3"
    }
  },
  "cells": [
    {
      "cell_type": "markdown",
      "metadata": {
        "id": "view-in-github",
        "colab_type": "text"
      },
      "source": [
        "<a href=\"https://colab.research.google.com/github/ucfilho/ANN_2021_01/blob/main/Classification_ANN/ANN_mushrooms_classification_jun_20_2021.ipynb\" target=\"_parent\"><img src=\"https://colab.research.google.com/assets/colab-badge.svg\" alt=\"Open In Colab\"/></a>"
      ]
    },
    {
      "cell_type": "code",
      "metadata": {
        "id": "OaDeawDbOW-P"
      },
      "source": [
        "# import requests\n",
        "import pandas as pd\n",
        "import numpy as np\n",
        "from sklearn.metrics import precision_score\n",
        "from sklearn.model_selection import train_test_split, cross_validate\n",
        "from sklearn.neural_network import MLPClassifier\n",
        "import matplotlib.pyplot as plt\n",
        "from sklearn.metrics import classification_report, confusion_matrix\n",
        "from sklearn.metrics import accuracy_score"
      ],
      "execution_count": 1,
      "outputs": []
    },
    {
      "cell_type": "code",
      "metadata": {
        "id": "Mfz1lttqjUm2",
        "colab": {
          "base_uri": "https://localhost:8080/"
        },
        "outputId": "cf688670-9dc7-478a-ba62-d8858074daba"
      },
      "source": [
        "!pip install category_encoders"
      ],
      "execution_count": 2,
      "outputs": [
        {
          "output_type": "stream",
          "text": [
            "Requirement already satisfied: category_encoders in /usr/local/lib/python3.7/dist-packages (2.2.2)\n",
            "Requirement already satisfied: patsy>=0.5.1 in /usr/local/lib/python3.7/dist-packages (from category_encoders) (0.5.1)\n",
            "Requirement already satisfied: scikit-learn>=0.20.0 in /usr/local/lib/python3.7/dist-packages (from category_encoders) (0.22.2.post1)\n",
            "Requirement already satisfied: pandas>=0.21.1 in /usr/local/lib/python3.7/dist-packages (from category_encoders) (1.1.5)\n",
            "Requirement already satisfied: numpy>=1.14.0 in /usr/local/lib/python3.7/dist-packages (from category_encoders) (1.19.5)\n",
            "Requirement already satisfied: statsmodels>=0.9.0 in /usr/local/lib/python3.7/dist-packages (from category_encoders) (0.10.2)\n",
            "Requirement already satisfied: scipy>=1.0.0 in /usr/local/lib/python3.7/dist-packages (from category_encoders) (1.4.1)\n",
            "Requirement already satisfied: six in /usr/local/lib/python3.7/dist-packages (from patsy>=0.5.1->category_encoders) (1.15.0)\n",
            "Requirement already satisfied: joblib>=0.11 in /usr/local/lib/python3.7/dist-packages (from scikit-learn>=0.20.0->category_encoders) (1.0.1)\n",
            "Requirement already satisfied: pytz>=2017.2 in /usr/local/lib/python3.7/dist-packages (from pandas>=0.21.1->category_encoders) (2018.9)\n",
            "Requirement already satisfied: python-dateutil>=2.7.3 in /usr/local/lib/python3.7/dist-packages (from pandas>=0.21.1->category_encoders) (2.8.1)\n"
          ],
          "name": "stdout"
        }
      ]
    },
    {
      "cell_type": "code",
      "metadata": {
        "id": "p1M65H-VncHb"
      },
      "source": [
        "# https://towardsdatascience.com/applying-the-universal-machine-learning-workflow-to-the-uci-mushroom-dataset-1939442d44e7"
      ],
      "execution_count": 3,
      "outputs": []
    },
    {
      "cell_type": "code",
      "metadata": {
        "id": "M--j47ETjYxT",
        "colab": {
          "base_uri": "https://localhost:8080/"
        },
        "outputId": "3c9cc416-6319-4387-9b83-91f0e450d71d"
      },
      "source": [
        "import category_encoders as ce"
      ],
      "execution_count": 4,
      "outputs": [
        {
          "output_type": "stream",
          "text": [
            "/usr/local/lib/python3.7/dist-packages/statsmodels/tools/_testing.py:19: FutureWarning: pandas.util.testing is deprecated. Use the functions in the public API at pandas.testing instead.\n",
            "  import pandas.util.testing as tm\n"
          ],
          "name": "stderr"
        }
      ]
    },
    {
      "cell_type": "code",
      "metadata": {
        "id": "VWT8N3mVgb7Q"
      },
      "source": [
        "link = \"https://archive.ics.uci.edu/ml/machine-learning-databases/mushroom/agaricus-lepiota.data\""
      ],
      "execution_count": 5,
      "outputs": []
    },
    {
      "cell_type": "code",
      "metadata": {
        "id": "Z2boddZEhs5-"
      },
      "source": [
        "column_names = ['class',\n",
        "                'cap-shape',\n",
        "                'cap-surface',\n",
        "                'cap-color',\n",
        "                'bruises?',\n",
        "                'odor',\n",
        "                'gill-attachment',\n",
        "                'gill-spacing',\n",
        "                'gill-size',\n",
        "                'gill-color',\n",
        "                'stalk-shape',\n",
        "                'stalk-root',\n",
        "                'stalk-surface-above-ring',\n",
        "                'stalk-surface-below-ring',\n",
        "                'stalk-color-above-ring',\n",
        "                'stalk-color-below-ring',\n",
        "                'veil-type',\n",
        "                'veil-color',\n",
        "                'ring-number',\n",
        "                'ring-type',\n",
        "                'spore-print-color',\n",
        "                'population',\n",
        "                'habitat']"
      ],
      "execution_count": 6,
      "outputs": []
    },
    {
      "cell_type": "code",
      "metadata": {
        "id": "2sY65DwYh4Ux"
      },
      "source": [
        "mushrooms = pd.read_csv(link, header=None, names=column_names)\n",
        "# https://towardsdatascience.com/applying-the-universal-machine-learning-workflow-to-the-uci-mushroom-dataset-1939442d44e7"
      ],
      "execution_count": 7,
      "outputs": []
    },
    {
      "cell_type": "code",
      "metadata": {
        "id": "G8Dun1dBh5-Z",
        "colab": {
          "base_uri": "https://localhost:8080/"
        },
        "outputId": "9047c1bb-3a6d-45df-b8d8-fefe84606ef6"
      },
      "source": [
        "print(mushrooms.head())"
      ],
      "execution_count": 8,
      "outputs": [
        {
          "output_type": "stream",
          "text": [
            "  class cap-shape cap-surface  ... spore-print-color population habitat\n",
            "0     p         x           s  ...                 k          s       u\n",
            "1     e         x           s  ...                 n          n       g\n",
            "2     e         b           s  ...                 n          n       m\n",
            "3     p         x           y  ...                 k          s       u\n",
            "4     e         x           s  ...                 n          a       g\n",
            "\n",
            "[5 rows x 23 columns]\n"
          ],
          "name": "stdout"
        }
      ]
    },
    {
      "cell_type": "code",
      "metadata": {
        "id": "UWLLM33Qi0zu",
        "colab": {
          "base_uri": "https://localhost:8080/"
        },
        "outputId": "34f611fa-60e9-4050-fbee-42ce22c5ee81"
      },
      "source": [
        "#Drop target feature\n",
        "X = mushrooms.drop(columns='class') \n",
        "#Encode categorical features\n",
        "X = ce.OneHotEncoder(use_cat_names=True).fit_transform(X)\n",
        " \n",
        "y = mushrooms['class'].replace({'p':0, 'e':1})\n",
        "print('Feature matrix size:',X.shape)\n",
        "print('Target vector size:',len(y))"
      ],
      "execution_count": 9,
      "outputs": [
        {
          "output_type": "stream",
          "text": [
            "/usr/local/lib/python3.7/dist-packages/category_encoders/utils.py:21: FutureWarning: is_categorical is deprecated and will be removed in a future version.  Use is_categorical_dtype instead\n",
            "  elif pd.api.types.is_categorical(cols):\n"
          ],
          "name": "stderr"
        },
        {
          "output_type": "stream",
          "text": [
            "Feature matrix size: (8124, 117)\n",
            "Target vector size: 8124\n"
          ],
          "name": "stdout"
        }
      ]
    },
    {
      "cell_type": "code",
      "metadata": {
        "id": "NlT10fn6jr0z",
        "colab": {
          "base_uri": "https://localhost:8080/"
        },
        "outputId": "42ffb5d4-4d52-490e-feee-54309d598176"
      },
      "source": [
        "print(X)"
      ],
      "execution_count": 10,
      "outputs": [
        {
          "output_type": "stream",
          "text": [
            "      cap-shape_x  cap-shape_b  cap-shape_s  ...  habitat_p  habitat_w  habitat_l\n",
            "0               1            0            0  ...          0          0          0\n",
            "1               1            0            0  ...          0          0          0\n",
            "2               0            1            0  ...          0          0          0\n",
            "3               1            0            0  ...          0          0          0\n",
            "4               1            0            0  ...          0          0          0\n",
            "...           ...          ...          ...  ...        ...        ...        ...\n",
            "8119            0            0            0  ...          0          0          1\n",
            "8120            1            0            0  ...          0          0          1\n",
            "8121            0            0            0  ...          0          0          1\n",
            "8122            0            0            0  ...          0          0          1\n",
            "8123            1            0            0  ...          0          0          1\n",
            "\n",
            "[8124 rows x 117 columns]\n"
          ],
          "name": "stdout"
        }
      ]
    },
    {
      "cell_type": "code",
      "metadata": {
        "id": "UhqJNA0vj5A-",
        "colab": {
          "base_uri": "https://localhost:8080/"
        },
        "outputId": "54fac606-a5c6-4f95-fd17-a2b8ea4fa7fb"
      },
      "source": [
        "X_train, X_test, y_train, y_test = train_test_split(X, y, random_state=42, test_size=.2, stratify=y)\n",
        "print('Training feature matrix size:',X_train.shape)\n",
        "print('Training target vector size:',y_train.shape)\n",
        "print('Test feature matrix size:',X_test.shape)\n",
        "print('Test target vector size:',y_test.shape)"
      ],
      "execution_count": 11,
      "outputs": [
        {
          "output_type": "stream",
          "text": [
            "Training feature matrix size: (6499, 117)\n",
            "Training target vector size: (6499,)\n",
            "Test feature matrix size: (1625, 117)\n",
            "Test target vector size: (1625,)\n"
          ],
          "name": "stdout"
        }
      ]
    },
    {
      "cell_type": "code",
      "metadata": {
        "id": "M8Srl7X1kPKj"
      },
      "source": [
        "mushrooms = mushrooms.replace({'?':np.NaN})"
      ],
      "execution_count": 12,
      "outputs": []
    },
    {
      "cell_type": "code",
      "metadata": {
        "id": "3snV8spFZWMg"
      },
      "source": [
        "# define a rede neural \n",
        "model = MLPClassifier(solver='lbfgs',activation='tanh',alpha=1e-5,\n",
        "                      hidden_layer_sizes=(15),random_state=1)"
      ],
      "execution_count": 13,
      "outputs": []
    },
    {
      "cell_type": "code",
      "metadata": {
        "colab": {
          "base_uri": "https://localhost:8080/"
        },
        "id": "f9iss242Zbhv",
        "outputId": "0f98df54-4426-45a7-be1c-c13abfebfe4a"
      },
      "source": [
        "# treina a rede neural\n",
        "model.fit(X_train, y_train)"
      ],
      "execution_count": 14,
      "outputs": [
        {
          "output_type": "execute_result",
          "data": {
            "text/plain": [
              "MLPClassifier(activation='tanh', alpha=1e-05, batch_size='auto', beta_1=0.9,\n",
              "              beta_2=0.999, early_stopping=False, epsilon=1e-08,\n",
              "              hidden_layer_sizes=15, learning_rate='constant',\n",
              "              learning_rate_init=0.001, max_fun=15000, max_iter=200,\n",
              "              momentum=0.9, n_iter_no_change=10, nesterovs_momentum=True,\n",
              "              power_t=0.5, random_state=1, shuffle=True, solver='lbfgs',\n",
              "              tol=0.0001, validation_fraction=0.1, verbose=False,\n",
              "              warm_start=False)"
            ]
          },
          "metadata": {
            "tags": []
          },
          "execution_count": 14
        }
      ]
    },
    {
      "cell_type": "code",
      "metadata": {
        "id": "Gy6d1ZJWZe6e"
      },
      "source": [
        "# usa a rede neural treina em calculos para treino e teste\n",
        "pred_train=model.predict(X_train)\n",
        "pred_test=model.predict(X_test)"
      ],
      "execution_count": 15,
      "outputs": []
    },
    {
      "cell_type": "code",
      "metadata": {
        "colab": {
          "base_uri": "https://localhost:8080/"
        },
        "id": "cuoQ8idMZ5sW",
        "outputId": "3e8aa01b-942c-4c1f-efaf-d99b9f3f0b84"
      },
      "source": [
        "accuracy_score(y_test, pred_test)"
      ],
      "execution_count": 16,
      "outputs": [
        {
          "output_type": "execute_result",
          "data": {
            "text/plain": [
              "1.0"
            ]
          },
          "metadata": {
            "tags": []
          },
          "execution_count": 16
        }
      ]
    },
    {
      "cell_type": "code",
      "metadata": {
        "colab": {
          "base_uri": "https://localhost:8080/"
        },
        "id": "zUTQ57pKab69",
        "outputId": "61c8b451-3a70-4d90-8745-f6a553365b31"
      },
      "source": [
        "print('\\n\\n', \n",
        "      classification_report(y_train, pred_train,\n",
        "                            target_names=['0-Poisonous', '1-Edible']))"
      ],
      "execution_count": 17,
      "outputs": [
        {
          "output_type": "stream",
          "text": [
            "\n",
            "\n",
            "               precision    recall  f1-score   support\n",
            "\n",
            " 0-Poisonous       1.00      1.00      1.00      3133\n",
            "    1-Edible       1.00      1.00      1.00      3366\n",
            "\n",
            "    accuracy                           1.00      6499\n",
            "   macro avg       1.00      1.00      1.00      6499\n",
            "weighted avg       1.00      1.00      1.00      6499\n",
            "\n"
          ],
          "name": "stdout"
        }
      ]
    },
    {
      "cell_type": "code",
      "metadata": {
        "colab": {
          "base_uri": "https://localhost:8080/"
        },
        "id": "vbco4CzOaxlZ",
        "outputId": "a1ff5692-2411-4da5-9c0e-fb72b62cab48"
      },
      "source": [
        "print('\\n\\n', \n",
        "      classification_report(y_test, pred_test,\n",
        "                            target_names=['0-Poisonous', '1-Edible']))"
      ],
      "execution_count": 18,
      "outputs": [
        {
          "output_type": "stream",
          "text": [
            "\n",
            "\n",
            "               precision    recall  f1-score   support\n",
            "\n",
            " 0-Poisonous       1.00      1.00      1.00       783\n",
            "    1-Edible       1.00      1.00      1.00       842\n",
            "\n",
            "    accuracy                           1.00      1625\n",
            "   macro avg       1.00      1.00      1.00      1625\n",
            "weighted avg       1.00      1.00      1.00      1625\n",
            "\n"
          ],
          "name": "stdout"
        }
      ]
    }
  ]
}
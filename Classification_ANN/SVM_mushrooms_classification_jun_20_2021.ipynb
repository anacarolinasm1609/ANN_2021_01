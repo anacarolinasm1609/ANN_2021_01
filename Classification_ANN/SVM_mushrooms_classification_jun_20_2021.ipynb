{
  "nbformat": 4,
  "nbformat_minor": 0,
  "metadata": {
    "colab": {
      "name": "SVM_mushrooms_classification_jun_20_2021.ipynb",
      "provenance": [],
      "include_colab_link": true
    },
    "kernelspec": {
      "name": "python3",
      "display_name": "Python 3"
    }
  },
  "cells": [
    {
      "cell_type": "markdown",
      "metadata": {
        "id": "view-in-github",
        "colab_type": "text"
      },
      "source": [
        "<a href=\"https://colab.research.google.com/github/ucfilho/ANN_2021_01/blob/main/Classification_ANN/SVM_mushrooms_classification_jun_20_2021.ipynb\" target=\"_parent\"><img src=\"https://colab.research.google.com/assets/colab-badge.svg\" alt=\"Open In Colab\"/></a>"
      ]
    },
    {
      "cell_type": "code",
      "metadata": {
        "id": "OaDeawDbOW-P"
      },
      "source": [
        "# import requests\n",
        "import pandas as pd\n",
        "import numpy as np\n",
        "from sklearn.metrics import precision_score\n",
        "from sklearn.model_selection import train_test_split, cross_validate\n",
        "from sklearn.svm import SVC\n",
        "import matplotlib.pyplot as plt\n",
        "from sklearn.metrics import classification_report, confusion_matrix\n",
        "from sklearn.metrics import accuracy_score"
      ],
      "execution_count": 1,
      "outputs": []
    },
    {
      "cell_type": "code",
      "metadata": {
        "id": "Mfz1lttqjUm2",
        "colab": {
          "base_uri": "https://localhost:8080/"
        },
        "outputId": "390f9840-2d1f-4a74-d6d0-5e63db64c9e9"
      },
      "source": [
        "!pip install category_encoders"
      ],
      "execution_count": 2,
      "outputs": [
        {
          "output_type": "stream",
          "text": [
            "Requirement already satisfied: category_encoders in /usr/local/lib/python3.7/dist-packages (2.2.2)\n",
            "Requirement already satisfied: statsmodels>=0.9.0 in /usr/local/lib/python3.7/dist-packages (from category_encoders) (0.10.2)\n",
            "Requirement already satisfied: pandas>=0.21.1 in /usr/local/lib/python3.7/dist-packages (from category_encoders) (1.1.5)\n",
            "Requirement already satisfied: scikit-learn>=0.20.0 in /usr/local/lib/python3.7/dist-packages (from category_encoders) (0.22.2.post1)\n",
            "Requirement already satisfied: scipy>=1.0.0 in /usr/local/lib/python3.7/dist-packages (from category_encoders) (1.4.1)\n",
            "Requirement already satisfied: numpy>=1.14.0 in /usr/local/lib/python3.7/dist-packages (from category_encoders) (1.19.5)\n",
            "Requirement already satisfied: patsy>=0.5.1 in /usr/local/lib/python3.7/dist-packages (from category_encoders) (0.5.1)\n",
            "Requirement already satisfied: python-dateutil>=2.7.3 in /usr/local/lib/python3.7/dist-packages (from pandas>=0.21.1->category_encoders) (2.8.1)\n",
            "Requirement already satisfied: pytz>=2017.2 in /usr/local/lib/python3.7/dist-packages (from pandas>=0.21.1->category_encoders) (2018.9)\n",
            "Requirement already satisfied: joblib>=0.11 in /usr/local/lib/python3.7/dist-packages (from scikit-learn>=0.20.0->category_encoders) (1.0.1)\n",
            "Requirement already satisfied: six in /usr/local/lib/python3.7/dist-packages (from patsy>=0.5.1->category_encoders) (1.15.0)\n"
          ],
          "name": "stdout"
        }
      ]
    },
    {
      "cell_type": "code",
      "metadata": {
        "id": "p1M65H-VncHb"
      },
      "source": [
        "# https://towardsdatascience.com/applying-the-universal-machine-learning-workflow-to-the-uci-mushroom-dataset-1939442d44e7"
      ],
      "execution_count": 3,
      "outputs": []
    },
    {
      "cell_type": "code",
      "metadata": {
        "id": "M--j47ETjYxT",
        "colab": {
          "base_uri": "https://localhost:8080/"
        },
        "outputId": "80903c17-bccc-452f-cb51-85fa264dbab1"
      },
      "source": [
        "import category_encoders as ce"
      ],
      "execution_count": 4,
      "outputs": [
        {
          "output_type": "stream",
          "text": [
            "/usr/local/lib/python3.7/dist-packages/statsmodels/tools/_testing.py:19: FutureWarning: pandas.util.testing is deprecated. Use the functions in the public API at pandas.testing instead.\n",
            "  import pandas.util.testing as tm\n"
          ],
          "name": "stderr"
        }
      ]
    },
    {
      "cell_type": "code",
      "metadata": {
        "id": "VWT8N3mVgb7Q"
      },
      "source": [
        "link = \"https://archive.ics.uci.edu/ml/machine-learning-databases/mushroom/agaricus-lepiota.data\""
      ],
      "execution_count": 5,
      "outputs": []
    },
    {
      "cell_type": "code",
      "metadata": {
        "id": "Z2boddZEhs5-"
      },
      "source": [
        "column_names = ['class',\n",
        "                'cap-shape',\n",
        "                'cap-surface',\n",
        "                'cap-color',\n",
        "                'bruises?',\n",
        "                'odor',\n",
        "                'gill-attachment',\n",
        "                'gill-spacing',\n",
        "                'gill-size',\n",
        "                'gill-color',\n",
        "                'stalk-shape',\n",
        "                'stalk-root',\n",
        "                'stalk-surface-above-ring',\n",
        "                'stalk-surface-below-ring',\n",
        "                'stalk-color-above-ring',\n",
        "                'stalk-color-below-ring',\n",
        "                'veil-type',\n",
        "                'veil-color',\n",
        "                'ring-number',\n",
        "                'ring-type',\n",
        "                'spore-print-color',\n",
        "                'population',\n",
        "                'habitat']"
      ],
      "execution_count": 6,
      "outputs": []
    },
    {
      "cell_type": "code",
      "metadata": {
        "id": "2sY65DwYh4Ux"
      },
      "source": [
        "mushrooms = pd.read_csv(link, header=None, names=column_names)\n",
        "# https://towardsdatascience.com/applying-the-universal-machine-learning-workflow-to-the-uci-mushroom-dataset-1939442d44e7"
      ],
      "execution_count": 7,
      "outputs": []
    },
    {
      "cell_type": "code",
      "metadata": {
        "id": "G8Dun1dBh5-Z",
        "colab": {
          "base_uri": "https://localhost:8080/"
        },
        "outputId": "78367c77-be0c-4acb-aef7-5812854c80be"
      },
      "source": [
        "print(mushrooms.head())"
      ],
      "execution_count": 8,
      "outputs": [
        {
          "output_type": "stream",
          "text": [
            "  class cap-shape cap-surface  ... spore-print-color population habitat\n",
            "0     p         x           s  ...                 k          s       u\n",
            "1     e         x           s  ...                 n          n       g\n",
            "2     e         b           s  ...                 n          n       m\n",
            "3     p         x           y  ...                 k          s       u\n",
            "4     e         x           s  ...                 n          a       g\n",
            "\n",
            "[5 rows x 23 columns]\n"
          ],
          "name": "stdout"
        }
      ]
    },
    {
      "cell_type": "code",
      "metadata": {
        "id": "UWLLM33Qi0zu",
        "colab": {
          "base_uri": "https://localhost:8080/"
        },
        "outputId": "f5776d11-04b0-42d2-e2df-c1dc598b1517"
      },
      "source": [
        "#Drop target feature\n",
        "X = mushrooms.drop(columns='class') \n",
        "#Encode categorical features\n",
        "X = ce.OneHotEncoder(use_cat_names=True).fit_transform(X)\n",
        " \n",
        "y = mushrooms['class'].replace({'p':0, 'e':1})\n",
        "print('Feature matrix size:',X.shape)\n",
        "print('Target vector size:',len(y))"
      ],
      "execution_count": 9,
      "outputs": [
        {
          "output_type": "stream",
          "text": [
            "/usr/local/lib/python3.7/dist-packages/category_encoders/utils.py:21: FutureWarning: is_categorical is deprecated and will be removed in a future version.  Use is_categorical_dtype instead\n",
            "  elif pd.api.types.is_categorical(cols):\n"
          ],
          "name": "stderr"
        },
        {
          "output_type": "stream",
          "text": [
            "Feature matrix size: (8124, 117)\n",
            "Target vector size: 8124\n"
          ],
          "name": "stdout"
        }
      ]
    },
    {
      "cell_type": "code",
      "metadata": {
        "id": "NlT10fn6jr0z",
        "colab": {
          "base_uri": "https://localhost:8080/"
        },
        "outputId": "86fc8ed6-71cb-4549-8aed-9d33a6e49db6"
      },
      "source": [
        "print(X)"
      ],
      "execution_count": 10,
      "outputs": [
        {
          "output_type": "stream",
          "text": [
            "      cap-shape_x  cap-shape_b  cap-shape_s  ...  habitat_p  habitat_w  habitat_l\n",
            "0               1            0            0  ...          0          0          0\n",
            "1               1            0            0  ...          0          0          0\n",
            "2               0            1            0  ...          0          0          0\n",
            "3               1            0            0  ...          0          0          0\n",
            "4               1            0            0  ...          0          0          0\n",
            "...           ...          ...          ...  ...        ...        ...        ...\n",
            "8119            0            0            0  ...          0          0          1\n",
            "8120            1            0            0  ...          0          0          1\n",
            "8121            0            0            0  ...          0          0          1\n",
            "8122            0            0            0  ...          0          0          1\n",
            "8123            1            0            0  ...          0          0          1\n",
            "\n",
            "[8124 rows x 117 columns]\n"
          ],
          "name": "stdout"
        }
      ]
    },
    {
      "cell_type": "code",
      "metadata": {
        "id": "UhqJNA0vj5A-",
        "colab": {
          "base_uri": "https://localhost:8080/"
        },
        "outputId": "3fc61fd4-348f-4e3e-ba32-70480e68f8bb"
      },
      "source": [
        "X_train, X_test, y_train, y_test = train_test_split(X, y, random_state=42, test_size=.2, stratify=y)\n",
        "print('Training feature matrix size:',X_train.shape)\n",
        "print('Training target vector size:',y_train.shape)\n",
        "print('Test feature matrix size:',X_test.shape)\n",
        "print('Test target vector size:',y_test.shape)"
      ],
      "execution_count": 11,
      "outputs": [
        {
          "output_type": "stream",
          "text": [
            "Training feature matrix size: (6499, 117)\n",
            "Training target vector size: (6499,)\n",
            "Test feature matrix size: (1625, 117)\n",
            "Test target vector size: (1625,)\n"
          ],
          "name": "stdout"
        }
      ]
    },
    {
      "cell_type": "code",
      "metadata": {
        "id": "M8Srl7X1kPKj"
      },
      "source": [
        "mushrooms = mushrooms.replace({'?':np.NaN})"
      ],
      "execution_count": 12,
      "outputs": []
    },
    {
      "cell_type": "code",
      "metadata": {
        "id": "3snV8spFZWMg"
      },
      "source": [
        "# define support vector machine\n",
        "model = SVC()"
      ],
      "execution_count": 13,
      "outputs": []
    },
    {
      "cell_type": "code",
      "metadata": {
        "colab": {
          "base_uri": "https://localhost:8080/"
        },
        "id": "f9iss242Zbhv",
        "outputId": "64790265-7e98-40ca-e936-4a14861c8360"
      },
      "source": [
        "# treina SVM\n",
        "model.fit(X_train, y_train)"
      ],
      "execution_count": 14,
      "outputs": [
        {
          "output_type": "execute_result",
          "data": {
            "text/plain": [
              "SVC(C=1.0, break_ties=False, cache_size=200, class_weight=None, coef0=0.0,\n",
              "    decision_function_shape='ovr', degree=3, gamma='scale', kernel='rbf',\n",
              "    max_iter=-1, probability=False, random_state=None, shrinking=True,\n",
              "    tol=0.001, verbose=False)"
            ]
          },
          "metadata": {
            "tags": []
          },
          "execution_count": 14
        }
      ]
    },
    {
      "cell_type": "code",
      "metadata": {
        "id": "Gy6d1ZJWZe6e"
      },
      "source": [
        "# usa a rede neural treina em calculos para treino e teste\n",
        "pred_train=model.predict(X_train)\n",
        "pred_test=model.predict(X_test)"
      ],
      "execution_count": 15,
      "outputs": []
    },
    {
      "cell_type": "code",
      "metadata": {
        "colab": {
          "base_uri": "https://localhost:8080/"
        },
        "id": "cuoQ8idMZ5sW",
        "outputId": "5c6da90d-436b-4587-d972-f387b502358c"
      },
      "source": [
        "accuracy_score(y_test, pred_test)"
      ],
      "execution_count": 16,
      "outputs": [
        {
          "output_type": "execute_result",
          "data": {
            "text/plain": [
              "1.0"
            ]
          },
          "metadata": {
            "tags": []
          },
          "execution_count": 16
        }
      ]
    },
    {
      "cell_type": "code",
      "metadata": {
        "colab": {
          "base_uri": "https://localhost:8080/"
        },
        "id": "zUTQ57pKab69",
        "outputId": "2680c7b1-50ae-49b9-8c12-7c15a48b9b72"
      },
      "source": [
        "print('\\n\\n', \n",
        "      classification_report(y_train, pred_train,\n",
        "                            target_names=['0-Poisonous', '1-Edible']))"
      ],
      "execution_count": 17,
      "outputs": [
        {
          "output_type": "stream",
          "text": [
            "\n",
            "\n",
            "               precision    recall  f1-score   support\n",
            "\n",
            " 0-Poisonous       1.00      1.00      1.00      3133\n",
            "    1-Edible       1.00      1.00      1.00      3366\n",
            "\n",
            "    accuracy                           1.00      6499\n",
            "   macro avg       1.00      1.00      1.00      6499\n",
            "weighted avg       1.00      1.00      1.00      6499\n",
            "\n"
          ],
          "name": "stdout"
        }
      ]
    },
    {
      "cell_type": "code",
      "metadata": {
        "colab": {
          "base_uri": "https://localhost:8080/"
        },
        "id": "vbco4CzOaxlZ",
        "outputId": "dd439b97-9c5a-4a08-9c9b-2b482f3f3a78"
      },
      "source": [
        "print('\\n\\n', \n",
        "      classification_report(y_test, pred_test,\n",
        "                            target_names=['0-Poisonous', '1-Edible']))"
      ],
      "execution_count": 18,
      "outputs": [
        {
          "output_type": "stream",
          "text": [
            "\n",
            "\n",
            "               precision    recall  f1-score   support\n",
            "\n",
            " 0-Poisonous       1.00      1.00      1.00       783\n",
            "    1-Edible       1.00      1.00      1.00       842\n",
            "\n",
            "    accuracy                           1.00      1625\n",
            "   macro avg       1.00      1.00      1.00      1625\n",
            "weighted avg       1.00      1.00      1.00      1625\n",
            "\n"
          ],
          "name": "stdout"
        }
      ]
    }
  ]
}
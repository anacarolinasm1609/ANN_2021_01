{
  "nbformat": 4,
  "nbformat_minor": 0,
  "metadata": {
    "colab": {
      "name": "LSTM_Recorrent_Neural_Network_keras.ipynb",
      "provenance": [],
      "authorship_tag": "ABX9TyM3kMkuwloHDIzZY0YBbx+L",
      "include_colab_link": true
    },
    "kernelspec": {
      "name": "python3",
      "display_name": "Python 3"
    },
    "language_info": {
      "name": "python"
    },
    "accelerator": "GPU"
  },
  "cells": [
    {
      "cell_type": "markdown",
      "metadata": {
        "id": "view-in-github",
        "colab_type": "text"
      },
      "source": [
        "<a href=\"https://colab.research.google.com/github/ucfilho/ANN_2021_01/blob/main/RecurrentANN/LSTM_Recorrent_Neural_Network_keras.ipynb\" target=\"_parent\"><img src=\"https://colab.research.google.com/assets/colab-badge.svg\" alt=\"Open In Colab\"/></a>"
      ]
    },
    {
      "cell_type": "code",
      "metadata": {
        "id": "K_jJAZ_6N936"
      },
      "source": [
        "import numpy as np\n",
        "import pandas as pd\n",
        "import matplotlib.pyplot as plt"
      ],
      "execution_count": 1,
      "outputs": []
    },
    {
      "cell_type": "code",
      "metadata": {
        "colab": {
          "base_uri": "https://localhost:8080/"
        },
        "id": "XccBu23IUDQi",
        "outputId": "70f97828-ef39-4b07-f371-d4438a76b625"
      },
      "source": [
        "import tensorflow as tf\n",
        "print(tf.__version__)"
      ],
      "execution_count": 2,
      "outputs": [
        {
          "output_type": "stream",
          "text": [
            "2.5.0\n"
          ],
          "name": "stdout"
        }
      ]
    },
    {
      "cell_type": "code",
      "metadata": {
        "colab": {
          "base_uri": "https://localhost:8080/",
          "height": 53
        },
        "id": "w6Tq-tVbULg5",
        "outputId": "8aa3eb55-bdb1-4e3d-d576-7ebd32ca96b7"
      },
      "source": [
        "'''\n",
        "from tensorflow.keras.layers import Input, SimpleRNN, Dense, Flatten\n",
        "from tensorflow.keras.models import Model\n",
        "from tensorflow.keras.optimizers import SGD, Adam\n",
        "'''"
      ],
      "execution_count": 3,
      "outputs": [
        {
          "output_type": "execute_result",
          "data": {
            "application/vnd.google.colaboratory.intrinsic+json": {
              "type": "string"
            },
            "text/plain": [
              "'\\nfrom tensorflow.keras.layers import Input, SimpleRNN, Dense, Flatten\\nfrom tensorflow.keras.models import Model\\nfrom tensorflow.keras.optimizers import SGD, Adam\\n'"
            ]
          },
          "metadata": {
            "tags": []
          },
          "execution_count": 3
        }
      ]
    },
    {
      "cell_type": "code",
      "metadata": {
        "id": "EzQewWOyVj3Y"
      },
      "source": [
        "from keras.layers import Input, SimpleRNN, Dense, Flatten, LSTM\n",
        "from keras.models import Sequential\n",
        "from keras.optimizers import SGD, Adam"
      ],
      "execution_count": 4,
      "outputs": []
    },
    {
      "cell_type": "code",
      "metadata": {
        "id": "64w5FYLaObl1"
      },
      "source": [
        "num = 200\n",
        "series = np.sin(0.1*np.arange(num)+0.1*np.random.randn(num))"
      ],
      "execution_count": 5,
      "outputs": []
    },
    {
      "cell_type": "code",
      "metadata": {
        "colab": {
          "base_uri": "https://localhost:8080/",
          "height": 283
        },
        "id": "ZB2PKKK4OvMp",
        "outputId": "cbc30b6a-5ef4-4f9a-b772-8ccba61db71f"
      },
      "source": [
        "plt.plot(series)"
      ],
      "execution_count": 6,
      "outputs": [
        {
          "output_type": "execute_result",
          "data": {
            "text/plain": [
              "[<matplotlib.lines.Line2D at 0x7f9188879e90>]"
            ]
          },
          "metadata": {
            "tags": []
          },
          "execution_count": 6
        },
        {
          "output_type": "display_data",
          "data": {
            "image/png": "[encoded data removed]",
            "text/plain": [
              "<Figure size 432x288 with 1 Axes>"
            ]
          },
          "metadata": {
            "tags": [],
            "needs_background": "light"
          }
        }
      ]
    },
    {
      "cell_type": "code",
      "metadata": {
        "colab": {
          "base_uri": "https://localhost:8080/"
        },
        "id": "0ZhEvmnDQAPn",
        "outputId": "fe84eb2b-eda1-48a7-b3d0-e4d95b891aaf"
      },
      "source": [
        "P = 10 # period\n",
        "D = 1\n",
        "X = []\n",
        "Y = []\n",
        "\n",
        "for t in range(num-P):\n",
        "  t_next = t+ P\n",
        "  xx = series[t:t_next]\n",
        "  X.append(xx)\n",
        "  yy = series[t_next]\n",
        "  Y.append(yy)\n",
        "\n",
        "X = np.array(X).reshape(-1,P,1) # data NxDxP\n",
        "Y = np.array(Y)\n",
        "print('input shape',X.shape,'output shape',Y.shape )"
      ],
      "execution_count": 7,
      "outputs": [
        {
          "output_type": "stream",
          "text": [
            "input shape (190, 10, 1) output shape (190,)\n"
          ],
          "name": "stdout"
        }
      ]
    },
    {
      "cell_type": "code",
      "metadata": {
        "colab": {
          "base_uri": "https://localhost:8080/"
        },
        "id": "sM4ocPeUTVic",
        "outputId": "9ce0387a-2d53-464a-bb34-61454b169c9a"
      },
      "source": [
        "X[0]"
      ],
      "execution_count": 8,
      "outputs": [
        {
          "output_type": "execute_result",
          "data": {
            "text/plain": [
              "array([[ 0.00899619],\n",
              "       [-0.00082319],\n",
              "       [ 0.32541817],\n",
              "       [ 0.38687293],\n",
              "       [ 0.41085627],\n",
              "       [ 0.44274946],\n",
              "       [ 0.49630424],\n",
              "       [ 0.64817869],\n",
              "       [ 0.75732273],\n",
              "       [ 0.77842097]])"
            ]
          },
          "metadata": {
            "tags": []
          },
          "execution_count": 8
        }
      ]
    },
    {
      "cell_type": "code",
      "metadata": {
        "id": "92S4mjUNWnlR"
      },
      "source": [
        "N, cols, other = X.shape\n",
        "X_train = X[:-N//2]\n",
        "Y_train = Y[:-N//2]\n",
        "X_test = X[-N//2:]\n",
        "Y_test = Y[-N//2:]"
      ],
      "execution_count": 9,
      "outputs": []
    },
    {
      "cell_type": "code",
      "metadata": {
        "colab": {
          "base_uri": "https://localhost:8080/"
        },
        "id": "aCVh4_ozTvga",
        "outputId": "6e6ccf81-55e2-4df8-9448-76fcd7898eff"
      },
      "source": [
        "model = Sequential()\n",
        "# Add an Embedding layer expecting input vocab of size 1000, and\n",
        "# output embedding dimension of size 64.\n",
        "model.add(Input(shape=(P,1)))\n",
        "\n",
        "# Add a simpleRNN layer with 5 internal units.\n",
        "model.add(LSTM(5,'relu'))\n",
        "\n",
        "# Add a Dense layer with 1 units.\n",
        "model.add(Dense(1))\n",
        "\n",
        "model.summary()"
      ],
      "execution_count": 10,
      "outputs": [
        {
          "output_type": "stream",
          "text": [
            "WARNING:tensorflow:Please add `keras.layers.InputLayer` instead of `keras.Input` to Sequential model. `keras.Input` is intended to be used by Functional model.\n",
            "WARNING:tensorflow:Layer lstm will not use cuDNN kernels since it doesn't meet the criteria. It will use a generic GPU kernel as fallback when running on GPU.\n",
            "Model: \"sequential\"\n",
            "_________________________________________________________________\n",
            "Layer (type)                 Output Shape              Param #   \n",
            "=================================================================\n",
            "lstm (LSTM)                  (None, 5)                 140       \n",
            "_________________________________________________________________\n",
            "dense (Dense)                (None, 1)                 6         \n",
            "=================================================================\n",
            "Total params: 146\n",
            "Trainable params: 146\n",
            "Non-trainable params: 0\n",
            "_________________________________________________________________\n"
          ],
          "name": "stdout"
        }
      ]
    },
    {
      "cell_type": "code",
      "metadata": {
        "colab": {
          "base_uri": "https://localhost:8080/"
        },
        "id": "VXMKsjrbXJCe",
        "outputId": "f221ade1-ebe9-41cc-d02f-d879a74039aa"
      },
      "source": [
        "model.compile(loss='mse',optimizer=Adam(lr=0.1))"
      ],
      "execution_count": 11,
      "outputs": [
        {
          "output_type": "stream",
          "text": [
            "/usr/local/lib/python3.7/dist-packages/tensorflow/python/keras/optimizer_v2/optimizer_v2.py:375: UserWarning: The `lr` argument is deprecated, use `learning_rate` instead.\n",
            "  \"The `lr` argument is deprecated, use `learning_rate` instead.\")\n"
          ],
          "name": "stderr"
        }
      ]
    },
    {
      "cell_type": "code",
      "metadata": {
        "colab": {
          "base_uri": "https://localhost:8080/"
        },
        "id": "8fmK2AJFWixM",
        "outputId": "be74ed2d-c58e-43c4-fc18-c89530d3fce4"
      },
      "source": [
        "r = model.fit(X_train,Y_train,\n",
        "              epochs=100, \n",
        "              validation_data = ( X_test ,Y_test ) )"
      ],
      "execution_count": 12,
      "outputs": [
        {
          "output_type": "stream",
          "text": [
            "Epoch 1/100\n",
            "3/3 [==============================] - 20s 349ms/step - loss: 0.5533 - val_loss: 0.0737\n",
            "Epoch 2/100\n",
            "3/3 [==============================] - 0s 29ms/step - loss: 0.1123 - val_loss: 0.1163\n",
            "Epoch 3/100\n",
            "3/3 [==============================] - 0s 39ms/step - loss: 0.1200 - val_loss: 0.0581\n",
            "Epoch 4/100\n",
            "3/3 [==============================] - 0s 28ms/step - loss: 0.0561 - val_loss: 0.0249\n",
            "Epoch 5/100\n",
            "3/3 [==============================] - 0s 39ms/step - loss: 0.0354 - val_loss: 0.0395\n",
            "Epoch 6/100\n",
            "3/3 [==============================] - 0s 31ms/step - loss: 0.0296 - val_loss: 0.0286\n",
            "Epoch 7/100\n",
            "3/3 [==============================] - 0s 26ms/step - loss: 0.0163 - val_loss: 0.0238\n",
            "Epoch 8/100\n",
            "3/3 [==============================] - 0s 28ms/step - loss: 0.0158 - val_loss: 0.0242\n",
            "Epoch 9/100\n",
            "3/3 [==============================] - 0s 29ms/step - loss: 0.0142 - val_loss: 0.0204\n",
            "Epoch 10/100\n",
            "3/3 [==============================] - 0s 30ms/step - loss: 0.0155 - val_loss: 0.0202\n",
            "Epoch 11/100\n",
            "3/3 [==============================] - 0s 30ms/step - loss: 0.0164 - val_loss: 0.0187\n",
            "Epoch 12/100\n",
            "3/3 [==============================] - 0s 31ms/step - loss: 0.0128 - val_loss: 0.0182\n",
            "Epoch 13/100\n",
            "3/3 [==============================] - 0s 33ms/step - loss: 0.0154 - val_loss: 0.0225\n",
            "Epoch 14/100\n",
            "3/3 [==============================] - 0s 27ms/step - loss: 0.0110 - val_loss: 0.0190\n",
            "Epoch 15/100\n",
            "3/3 [==============================] - 0s 30ms/step - loss: 0.0176 - val_loss: 0.0176\n",
            "Epoch 16/100\n",
            "3/3 [==============================] - 0s 27ms/step - loss: 0.0141 - val_loss: 0.0208\n",
            "Epoch 17/100\n",
            "3/3 [==============================] - 0s 30ms/step - loss: 0.0123 - val_loss: 0.0176\n",
            "Epoch 18/100\n",
            "3/3 [==============================] - 0s 28ms/step - loss: 0.0147 - val_loss: 0.0181\n",
            "Epoch 19/100\n",
            "3/3 [==============================] - 0s 28ms/step - loss: 0.0141 - val_loss: 0.0179\n",
            "Epoch 20/100\n",
            "3/3 [==============================] - 0s 36ms/step - loss: 0.0126 - val_loss: 0.0163\n",
            "Epoch 21/100\n",
            "3/3 [==============================] - 0s 27ms/step - loss: 0.0132 - val_loss: 0.0160\n",
            "Epoch 22/100\n",
            "3/3 [==============================] - 0s 28ms/step - loss: 0.0094 - val_loss: 0.0163\n",
            "Epoch 23/100\n",
            "3/3 [==============================] - 0s 26ms/step - loss: 0.0126 - val_loss: 0.0156\n",
            "Epoch 24/100\n",
            "3/3 [==============================] - 0s 32ms/step - loss: 0.0143 - val_loss: 0.0152\n",
            "Epoch 25/100\n",
            "3/3 [==============================] - 0s 41ms/step - loss: 0.0113 - val_loss: 0.0165\n",
            "Epoch 26/100\n",
            "3/3 [==============================] - 0s 33ms/step - loss: 0.0115 - val_loss: 0.0161\n",
            "Epoch 27/100\n",
            "3/3 [==============================] - 0s 37ms/step - loss: 0.0125 - val_loss: 0.0154\n",
            "Epoch 28/100\n",
            "3/3 [==============================] - 0s 27ms/step - loss: 0.0100 - val_loss: 0.0144\n",
            "Epoch 29/100\n",
            "3/3 [==============================] - 0s 37ms/step - loss: 0.0118 - val_loss: 0.0134\n",
            "Epoch 30/100\n",
            "3/3 [==============================] - 0s 31ms/step - loss: 0.0116 - val_loss: 0.0134\n",
            "Epoch 31/100\n",
            "3/3 [==============================] - 0s 34ms/step - loss: 0.0116 - val_loss: 0.0130\n",
            "Epoch 32/100\n",
            "3/3 [==============================] - 0s 31ms/step - loss: 0.0086 - val_loss: 0.0152\n",
            "Epoch 33/100\n",
            "3/3 [==============================] - 0s 37ms/step - loss: 0.0102 - val_loss: 0.0130\n",
            "Epoch 34/100\n",
            "3/3 [==============================] - 0s 30ms/step - loss: 0.0104 - val_loss: 0.0146\n",
            "Epoch 35/100\n",
            "3/3 [==============================] - 0s 30ms/step - loss: 0.0114 - val_loss: 0.0118\n",
            "Epoch 36/100\n",
            "3/3 [==============================] - 0s 27ms/step - loss: 0.0085 - val_loss: 0.0117\n",
            "Epoch 37/100\n",
            "3/3 [==============================] - 0s 28ms/step - loss: 0.0104 - val_loss: 0.0111\n",
            "Epoch 38/100\n",
            "3/3 [==============================] - 0s 28ms/step - loss: 0.0082 - val_loss: 0.0110\n",
            "Epoch 39/100\n",
            "3/3 [==============================] - 0s 30ms/step - loss: 0.0093 - val_loss: 0.0109\n",
            "Epoch 40/100\n",
            "3/3 [==============================] - 0s 32ms/step - loss: 0.0073 - val_loss: 0.0108\n",
            "Epoch 41/100\n",
            "3/3 [==============================] - 0s 26ms/step - loss: 0.0080 - val_loss: 0.0116\n",
            "Epoch 42/100\n",
            "3/3 [==============================] - 0s 32ms/step - loss: 0.0096 - val_loss: 0.0105\n",
            "Epoch 43/100\n",
            "3/3 [==============================] - 0s 27ms/step - loss: 0.0076 - val_loss: 0.0102\n",
            "Epoch 44/100\n",
            "3/3 [==============================] - 0s 26ms/step - loss: 0.0093 - val_loss: 0.0098\n",
            "Epoch 45/100\n",
            "3/3 [==============================] - 0s 31ms/step - loss: 0.0067 - val_loss: 0.0098\n",
            "Epoch 46/100\n",
            "3/3 [==============================] - 0s 30ms/step - loss: 0.0072 - val_loss: 0.0097\n",
            "Epoch 47/100\n",
            "3/3 [==============================] - 0s 26ms/step - loss: 0.0074 - val_loss: 0.0095\n",
            "Epoch 48/100\n",
            "3/3 [==============================] - 0s 30ms/step - loss: 0.0078 - val_loss: 0.0096\n",
            "Epoch 49/100\n",
            "3/3 [==============================] - 0s 28ms/step - loss: 0.0079 - val_loss: 0.0109\n",
            "Epoch 50/100\n",
            "3/3 [==============================] - 0s 25ms/step - loss: 0.0079 - val_loss: 0.0095\n",
            "Epoch 51/100\n",
            "3/3 [==============================] - 0s 28ms/step - loss: 0.0087 - val_loss: 0.0092\n",
            "Epoch 52/100\n",
            "3/3 [==============================] - 0s 28ms/step - loss: 0.0073 - val_loss: 0.0094\n",
            "Epoch 53/100\n",
            "3/3 [==============================] - 0s 31ms/step - loss: 0.0080 - val_loss: 0.0098\n",
            "Epoch 54/100\n",
            "3/3 [==============================] - 0s 32ms/step - loss: 0.0069 - val_loss: 0.0134\n",
            "Epoch 55/100\n",
            "3/3 [==============================] - 0s 32ms/step - loss: 0.0092 - val_loss: 0.0164\n",
            "Epoch 56/100\n",
            "3/3 [==============================] - 0s 33ms/step - loss: 0.0099 - val_loss: 0.0148\n",
            "Epoch 57/100\n",
            "3/3 [==============================] - 0s 35ms/step - loss: 0.0114 - val_loss: 0.0177\n",
            "Epoch 58/100\n",
            "3/3 [==============================] - 0s 32ms/step - loss: 0.0126 - val_loss: 0.0112\n",
            "Epoch 59/100\n",
            "3/3 [==============================] - 0s 29ms/step - loss: 0.0087 - val_loss: 0.0107\n",
            "Epoch 60/100\n",
            "3/3 [==============================] - 0s 37ms/step - loss: 0.0066 - val_loss: 0.0119\n",
            "Epoch 61/100\n",
            "3/3 [==============================] - 0s 30ms/step - loss: 0.0077 - val_loss: 0.0096\n",
            "Epoch 62/100\n",
            "3/3 [==============================] - 0s 29ms/step - loss: 0.0091 - val_loss: 0.0091\n",
            "Epoch 63/100\n",
            "3/3 [==============================] - 0s 26ms/step - loss: 0.0066 - val_loss: 0.0087\n",
            "Epoch 64/100\n",
            "3/3 [==============================] - 0s 37ms/step - loss: 0.0077 - val_loss: 0.0097\n",
            "Epoch 65/100\n",
            "3/3 [==============================] - 0s 30ms/step - loss: 0.0076 - val_loss: 0.0095\n",
            "Epoch 66/100\n",
            "3/3 [==============================] - 0s 32ms/step - loss: 0.0069 - val_loss: 0.0093\n",
            "Epoch 67/100\n",
            "3/3 [==============================] - 0s 27ms/step - loss: 0.0068 - val_loss: 0.0086\n",
            "Epoch 68/100\n",
            "3/3 [==============================] - 0s 26ms/step - loss: 0.0071 - val_loss: 0.0096\n",
            "Epoch 69/100\n",
            "3/3 [==============================] - 0s 34ms/step - loss: 0.0083 - val_loss: 0.0127\n",
            "Epoch 70/100\n",
            "3/3 [==============================] - 0s 29ms/step - loss: 0.0106 - val_loss: 0.0186\n",
            "Epoch 71/100\n",
            "3/3 [==============================] - 0s 32ms/step - loss: 0.0121 - val_loss: 0.0135\n",
            "Epoch 72/100\n",
            "3/3 [==============================] - 0s 30ms/step - loss: 0.0095 - val_loss: 0.0113\n",
            "Epoch 73/100\n",
            "3/3 [==============================] - 0s 30ms/step - loss: 0.0070 - val_loss: 0.0102\n",
            "Epoch 74/100\n",
            "3/3 [==============================] - 0s 31ms/step - loss: 0.0075 - val_loss: 0.0110\n",
            "Epoch 75/100\n",
            "3/3 [==============================] - 0s 26ms/step - loss: 0.0090 - val_loss: 0.0099\n",
            "Epoch 76/100\n",
            "3/3 [==============================] - 0s 30ms/step - loss: 0.0089 - val_loss: 0.0094\n",
            "Epoch 77/100\n",
            "3/3 [==============================] - 0s 35ms/step - loss: 0.0089 - val_loss: 0.0085\n",
            "Epoch 78/100\n",
            "3/3 [==============================] - 0s 30ms/step - loss: 0.0065 - val_loss: 0.0086\n",
            "Epoch 79/100\n",
            "3/3 [==============================] - 0s 31ms/step - loss: 0.0088 - val_loss: 0.0109\n",
            "Epoch 80/100\n",
            "3/3 [==============================] - 0s 27ms/step - loss: 0.0080 - val_loss: 0.0110\n",
            "Epoch 81/100\n",
            "3/3 [==============================] - 0s 26ms/step - loss: 0.0098 - val_loss: 0.0146\n",
            "Epoch 82/100\n",
            "3/3 [==============================] - 0s 30ms/step - loss: 0.0101 - val_loss: 0.0137\n",
            "Epoch 83/100\n",
            "3/3 [==============================] - 0s 34ms/step - loss: 0.0100 - val_loss: 0.0143\n",
            "Epoch 84/100\n",
            "3/3 [==============================] - 0s 26ms/step - loss: 0.0121 - val_loss: 0.0128\n",
            "Epoch 85/100\n",
            "3/3 [==============================] - 0s 31ms/step - loss: 0.0090 - val_loss: 0.0107\n",
            "Epoch 86/100\n",
            "3/3 [==============================] - 0s 28ms/step - loss: 0.0084 - val_loss: 0.0096\n",
            "Epoch 87/100\n",
            "3/3 [==============================] - 0s 28ms/step - loss: 0.0074 - val_loss: 0.0088\n",
            "Epoch 88/100\n",
            "3/3 [==============================] - 0s 31ms/step - loss: 0.0087 - val_loss: 0.0090\n",
            "Epoch 89/100\n",
            "3/3 [==============================] - 0s 40ms/step - loss: 0.0085 - val_loss: 0.0088\n",
            "Epoch 90/100\n",
            "3/3 [==============================] - 0s 31ms/step - loss: 0.0080 - val_loss: 0.0093\n",
            "Epoch 91/100\n",
            "3/3 [==============================] - 0s 27ms/step - loss: 0.0075 - val_loss: 0.0103\n",
            "Epoch 92/100\n",
            "3/3 [==============================] - 0s 30ms/step - loss: 0.0105 - val_loss: 0.0107\n",
            "Epoch 93/100\n",
            "3/3 [==============================] - 0s 29ms/step - loss: 0.0088 - val_loss: 0.0090\n",
            "Epoch 94/100\n",
            "3/3 [==============================] - 0s 27ms/step - loss: 0.0089 - val_loss: 0.0088\n",
            "Epoch 95/100\n",
            "3/3 [==============================] - 0s 28ms/step - loss: 0.0073 - val_loss: 0.0090\n",
            "Epoch 96/100\n",
            "3/3 [==============================] - 0s 26ms/step - loss: 0.0071 - val_loss: 0.0085\n",
            "Epoch 97/100\n",
            "3/3 [==============================] - 0s 40ms/step - loss: 0.0077 - val_loss: 0.0090\n",
            "Epoch 98/100\n",
            "3/3 [==============================] - 0s 29ms/step - loss: 0.0075 - val_loss: 0.0094\n",
            "Epoch 99/100\n",
            "3/3 [==============================] - 0s 32ms/step - loss: 0.0077 - val_loss: 0.0088\n",
            "Epoch 100/100\n",
            "3/3 [==============================] - 0s 30ms/step - loss: 0.0078 - val_loss: 0.0084\n"
          ],
          "name": "stdout"
        }
      ]
    },
    {
      "cell_type": "code",
      "metadata": {
        "colab": {
          "base_uri": "https://localhost:8080/",
          "height": 283
        },
        "id": "U2SXEV-5Z7Sq",
        "outputId": "5ee262f5-3187-465d-ba25-1805a82704a7"
      },
      "source": [
        "plt.plot(r.history['loss'],label='loss')\n",
        "plt.plot(r.history['val_loss'],label='val_loss')\n",
        "plt.legend()"
      ],
      "execution_count": 13,
      "outputs": [
        {
          "output_type": "execute_result",
          "data": {
            "text/plain": [
              "<matplotlib.legend.Legend at 0x7f912ad90510>"
            ]
          },
          "metadata": {
            "tags": []
          },
          "execution_count": 13
        },
        {
          "output_type": "display_data",
          "data": {
            "image/png": "[encoded data removed]",
            "text/plain": [
              "<Figure size 432x288 with 1 Axes>"
            ]
          },
          "metadata": {
            "tags": [],
            "needs_background": "light"
          }
        }
      ]
    },
    {
      "cell_type": "code",
      "metadata": {
        "id": "2gHp7iLwa0lG",
        "colab": {
          "base_uri": "https://localhost:8080/",
          "height": 283
        },
        "outputId": "3bf9f3fe-7381-4935-f1a5-3403b9aa5261"
      },
      "source": [
        "# this is a wrong way to do....\n",
        "pred_Y = model.predict(X_test)\n",
        "plt.plot(Y_test, label='prediction target')\n",
        "plt.plot(pred_Y, label='prediction forecast')"
      ],
      "execution_count": 14,
      "outputs": [
        {
          "output_type": "execute_result",
          "data": {
            "text/plain": [
              "[<matplotlib.lines.Line2D at 0x7f912aac6590>]"
            ]
          },
          "metadata": {
            "tags": []
          },
          "execution_count": 14
        },
        {
          "output_type": "display_data",
          "data": {
            "image/png": "[encoded data removed]",
            "text/plain": [
              "<Figure size 432x288 with 1 Axes>"
            ]
          },
          "metadata": {
            "tags": [],
            "needs_background": "light"
          }
        }
      ]
    },
    {
      "cell_type": "code",
      "metadata": {
        "id": "IQHyC5xnbKHn"
      },
      "source": [
        "pred_test = []\n",
        "for xi in X_test:\n",
        "  yi = model.predict(xi.reshape(1,-1,1))[0,0]\n",
        "  pred_test.append(yi)"
      ],
      "execution_count": 15,
      "outputs": []
    },
    {
      "cell_type": "code",
      "metadata": {
        "colab": {
          "base_uri": "https://localhost:8080/",
          "height": 283
        },
        "id": "1BAOvmGnpStZ",
        "outputId": "d4414101-d2cc-4428-c167-b25153149d72"
      },
      "source": [
        "plt.plot(Y_test, label='prediction target')\n",
        "plt.plot(pred_test, label='prediction forecast')"
      ],
      "execution_count": 16,
      "outputs": [
        {
          "output_type": "execute_result",
          "data": {
            "text/plain": [
              "[<matplotlib.lines.Line2D at 0x7f912b3cead0>]"
            ]
          },
          "metadata": {
            "tags": []
          },
          "execution_count": 16
        },
        {
          "output_type": "display_data",
          "data": {
            "image/png": "[encoded data removed]",
            "text/plain": [
              "<Figure size 432x288 with 1 Axes>"
            ]
          },
          "metadata": {
            "tags": [],
            "needs_background": "light"
          }
        }
      ]
    },
    {
      "cell_type": "code",
      "metadata": {
        "id": "ILdLWpK8q1oo",
        "colab": {
          "base_uri": "https://localhost:8080/"
        },
        "outputId": "2899934d-cc2d-4195-fcdb-2e28efaa2a9f"
      },
      "source": [
        "a,b = model.layers[1].get_weights()\n",
        "print(a.shape,b.shape)"
      ],
      "execution_count": 17,
      "outputs": [
        {
          "output_type": "stream",
          "text": [
            "(5, 1) (1,)\n"
          ],
          "name": "stdout"
        }
      ]
    },
    {
      "cell_type": "code",
      "metadata": {
        "colab": {
          "base_uri": "https://localhost:8080/"
        },
        "id": "BjW7xc8bctXI",
        "outputId": "04e6736d-e7f9-4d13-a7ee-164b5d53c5c7"
      },
      "source": [
        "print(a)\n",
        "print('===============')\n",
        "print(b)"
      ],
      "execution_count": 18,
      "outputs": [
        {
          "output_type": "stream",
          "text": [
            "[[ 1.0669093 ]\n",
            " [ 0.06328163]\n",
            " [-0.15471835]\n",
            " [-0.27675715]\n",
            " [-1.3746872 ]]\n",
            "===============\n",
            "[0.23506816]\n"
          ],
          "name": "stdout"
        }
      ]
    }
  ]
}
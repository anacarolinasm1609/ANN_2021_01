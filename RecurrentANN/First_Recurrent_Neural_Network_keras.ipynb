{
  "nbformat": 4,
  "nbformat_minor": 0,
  "metadata": {
    "colab": {
      "name": "First_Recorrent_Neural_Network_keras.ipynb",
      "provenance": [],
      "authorship_tag": "ABX9TyPy5dEGv6121XIMHs9e9z5b",
      "include_colab_link": true
    },
    "kernelspec": {
      "name": "python3",
      "display_name": "Python 3"
    },
    "language_info": {
      "name": "python"
    },
    "accelerator": "GPU"
  },
  "cells": [
    {
      "cell_type": "markdown",
      "metadata": {
        "id": "view-in-github",
        "colab_type": "text"
      },
      "source": [
        "<a href=\"https://colab.research.google.com/github/ucfilho/ANN_2021_01/blob/main/RecurrentANN/First_Recurrent_Neural_Network_keras.ipynb\" target=\"_parent\"><img src=\"https://colab.research.google.com/assets/colab-badge.svg\" alt=\"Open In Colab\"/></a>"
      ]
    },
    {
      "cell_type": "code",
      "metadata": {
        "id": "K_jJAZ_6N936"
      },
      "source": [
        "import numpy as np\n",
        "import pandas as pd\n",
        "import matplotlib.pyplot as plt"
      ],
      "execution_count": 1,
      "outputs": []
    },
    {
      "cell_type": "code",
      "metadata": {
        "colab": {
          "base_uri": "https://localhost:8080/"
        },
        "id": "XccBu23IUDQi",
        "outputId": "58375de1-a6f4-4bb6-bf06-e23cc0381d27"
      },
      "source": [
        "import tensorflow as tf\n",
        "print(tf.__version__)"
      ],
      "execution_count": 2,
      "outputs": [
        {
          "output_type": "stream",
          "text": [
            "2.5.0\n"
          ],
          "name": "stdout"
        }
      ]
    },
    {
      "cell_type": "code",
      "metadata": {
        "colab": {
          "base_uri": "https://localhost:8080/",
          "height": 53
        },
        "id": "w6Tq-tVbULg5",
        "outputId": "6601da0b-e5a4-470f-c0e9-84180e6794f5"
      },
      "source": [
        "'''\n",
        "from tensorflow.keras.layers import Input, SimpleRNN, Dense, Flatten\n",
        "from tensorflow.keras.models import Model\n",
        "from tensorflow.keras.optimizers import SGD, Adam\n",
        "'''"
      ],
      "execution_count": 3,
      "outputs": [
        {
          "output_type": "execute_result",
          "data": {
            "application/vnd.google.colaboratory.intrinsic+json": {
              "type": "string"
            },
            "text/plain": [
              "'\\nfrom tensorflow.keras.layers import Input, SimpleRNN, Dense, Flatten\\nfrom tensorflow.keras.models import Model\\nfrom tensorflow.keras.optimizers import SGD, Adam\\n'"
            ]
          },
          "metadata": {
            "tags": []
          },
          "execution_count": 3
        }
      ]
    },
    {
      "cell_type": "code",
      "metadata": {
        "id": "EzQewWOyVj3Y"
      },
      "source": [
        "from keras.layers import Input, SimpleRNN, Dense, Flatten\n",
        "from keras.models import Sequential\n",
        "from keras.optimizers import SGD, Adam"
      ],
      "execution_count": 4,
      "outputs": []
    },
    {
      "cell_type": "code",
      "metadata": {
        "id": "64w5FYLaObl1"
      },
      "source": [
        "num = 200\n",
        "series = np.sin(0.1*np.arange(num)+0.1*np.random.randn(num))"
      ],
      "execution_count": 5,
      "outputs": []
    },
    {
      "cell_type": "code",
      "metadata": {
        "colab": {
          "base_uri": "https://localhost:8080/",
          "height": 283
        },
        "id": "ZB2PKKK4OvMp",
        "outputId": "6473bea9-3349-4ec0-af18-edac630585fe"
      },
      "source": [
        "plt.plot(series)"
      ],
      "execution_count": 6,
      "outputs": [
        {
          "output_type": "execute_result",
          "data": {
            "text/plain": [
              "[<matplotlib.lines.Line2D at 0x7f3f435d4ed0>]"
            ]
          },
          "metadata": {
            "tags": []
          },
          "execution_count": 6
        },
        {
          "output_type": "display_data",
          "data": {
            "image/png": "[encoded data removed]",
            "text/plain": [
              "<Figure size 432x288 with 1 Axes>"
            ]
          },
          "metadata": {
            "tags": [],
            "needs_background": "light"
          }
        }
      ]
    },
    {
      "cell_type": "code",
      "metadata": {
        "colab": {
          "base_uri": "https://localhost:8080/"
        },
        "id": "0ZhEvmnDQAPn",
        "outputId": "4c364214-4253-4da7-b019-088107dd4bba"
      },
      "source": [
        "P = 10 # period\n",
        "D = 1\n",
        "X = []\n",
        "Y = []\n",
        "\n",
        "for t in range(num-P):\n",
        "  t_next = t+ P\n",
        "  xx = series[t:t_next]\n",
        "  X.append(xx)\n",
        "  yy = series[t_next]\n",
        "  Y.append(yy)\n",
        "\n",
        "X = np.array(X).reshape(-1,P,1) # data NxDxP\n",
        "Y = np.array(Y)\n",
        "print('input shape',X.shape,'output shape',Y.shape )"
      ],
      "execution_count": 7,
      "outputs": [
        {
          "output_type": "stream",
          "text": [
            "input shape (190, 10, 1) output shape (190,)\n"
          ],
          "name": "stdout"
        }
      ]
    },
    {
      "cell_type": "code",
      "metadata": {
        "colab": {
          "base_uri": "https://localhost:8080/"
        },
        "id": "sM4ocPeUTVic",
        "outputId": "7eb122e8-4b0b-4628-efd9-ebad7a50692f"
      },
      "source": [
        "X[0]"
      ],
      "execution_count": 8,
      "outputs": [
        {
          "output_type": "execute_result",
          "data": {
            "text/plain": [
              "array([[0.12459651],\n",
              "       [0.06902811],\n",
              "       [0.11783833],\n",
              "       [0.260556  ],\n",
              "       [0.27341351],\n",
              "       [0.52204727],\n",
              "       [0.63723837],\n",
              "       [0.58504273],\n",
              "       [0.69183855],\n",
              "       [0.78267577]])"
            ]
          },
          "metadata": {
            "tags": []
          },
          "execution_count": 8
        }
      ]
    },
    {
      "cell_type": "code",
      "metadata": {
        "id": "92S4mjUNWnlR"
      },
      "source": [
        "N, cols, other = X.shape\n",
        "X_train = X[:-N//2]\n",
        "Y_train = Y[:-N//2]\n",
        "X_test = X[-N//2:]\n",
        "Y_test = Y[-N//2:]"
      ],
      "execution_count": 9,
      "outputs": []
    },
    {
      "cell_type": "code",
      "metadata": {
        "colab": {
          "base_uri": "https://localhost:8080/"
        },
        "id": "aCVh4_ozTvga",
        "outputId": "3db9086a-d8cb-45b5-a277-fbfbe03b073e"
      },
      "source": [
        "model = Sequential()\n",
        "# Add an Embedding layer expecting input vocab of size 1000, and\n",
        "# output embedding dimension of size 64.\n",
        "model.add(Input(shape=(P,1)))\n",
        "\n",
        "# Add a LSTM layer with 5 internal units.\n",
        "model.add(SimpleRNN(5,'relu'))\n",
        "\n",
        "# Add a Dense layer with 1 units.\n",
        "model.add(Dense(1))\n",
        "\n",
        "model.summary()"
      ],
      "execution_count": 10,
      "outputs": [
        {
          "output_type": "stream",
          "text": [
            "WARNING:tensorflow:Please add `keras.layers.InputLayer` instead of `keras.Input` to Sequential model. `keras.Input` is intended to be used by Functional model.\n",
            "Model: \"sequential\"\n",
            "_________________________________________________________________\n",
            "Layer (type)                 Output Shape              Param #   \n",
            "=================================================================\n",
            "simple_rnn (SimpleRNN)       (None, 5)                 35        \n",
            "_________________________________________________________________\n",
            "dense (Dense)                (None, 1)                 6         \n",
            "=================================================================\n",
            "Total params: 41\n",
            "Trainable params: 41\n",
            "Non-trainable params: 0\n",
            "_________________________________________________________________\n"
          ],
          "name": "stdout"
        }
      ]
    },
    {
      "cell_type": "code",
      "metadata": {
        "colab": {
          "base_uri": "https://localhost:8080/"
        },
        "id": "VXMKsjrbXJCe",
        "outputId": "e7b39bd4-e036-4a2f-90f5-8657268c35eb"
      },
      "source": [
        "model.compile(loss='mse',optimizer=Adam(lr=0.1))"
      ],
      "execution_count": 11,
      "outputs": [
        {
          "output_type": "stream",
          "text": [
            "/usr/local/lib/python3.7/dist-packages/tensorflow/python/keras/optimizer_v2/optimizer_v2.py:375: UserWarning: The `lr` argument is deprecated, use `learning_rate` instead.\n",
            "  \"The `lr` argument is deprecated, use `learning_rate` instead.\")\n"
          ],
          "name": "stderr"
        }
      ]
    },
    {
      "cell_type": "code",
      "metadata": {
        "colab": {
          "base_uri": "https://localhost:8080/"
        },
        "id": "8fmK2AJFWixM",
        "outputId": "d3e442c2-4d25-4abb-cea4-cc64e93b48b0"
      },
      "source": [
        "r = model.fit(X_train,Y_train,\n",
        "              epochs=100, \n",
        "              validation_data = ( X_test ,Y_test ) )"
      ],
      "execution_count": 12,
      "outputs": [
        {
          "output_type": "stream",
          "text": [
            "Epoch 1/100\n",
            "3/3 [==============================] - 21s 295ms/step - loss: 2.2459 - val_loss: 1.1460\n",
            "Epoch 2/100\n",
            "3/3 [==============================] - 0s 18ms/step - loss: 0.9379 - val_loss: 0.9782\n",
            "Epoch 3/100\n",
            "3/3 [==============================] - 0s 19ms/step - loss: 0.7143 - val_loss: 0.8456\n",
            "Epoch 4/100\n",
            "3/3 [==============================] - 0s 17ms/step - loss: 0.6291 - val_loss: 0.7100\n",
            "Epoch 5/100\n",
            "3/3 [==============================] - 0s 19ms/step - loss: 0.5488 - val_loss: 0.5988\n",
            "Epoch 6/100\n",
            "3/3 [==============================] - 0s 21ms/step - loss: 0.4651 - val_loss: 0.5402\n",
            "Epoch 7/100\n",
            "3/3 [==============================] - 0s 21ms/step - loss: 0.4893 - val_loss: 0.5171\n",
            "Epoch 8/100\n",
            "3/3 [==============================] - 0s 18ms/step - loss: 0.5072 - val_loss: 0.5086\n",
            "Epoch 9/100\n",
            "3/3 [==============================] - 0s 17ms/step - loss: 0.5098 - val_loss: 0.5086\n",
            "Epoch 10/100\n",
            "3/3 [==============================] - 0s 23ms/step - loss: 0.5155 - val_loss: 0.5137\n",
            "Epoch 11/100\n",
            "3/3 [==============================] - 0s 18ms/step - loss: 0.5333 - val_loss: 0.5280\n",
            "Epoch 12/100\n",
            "3/3 [==============================] - 0s 20ms/step - loss: 0.4544 - val_loss: 0.5410\n",
            "Epoch 13/100\n",
            "3/3 [==============================] - 0s 18ms/step - loss: 0.4540 - val_loss: 0.5482\n",
            "Epoch 14/100\n",
            "3/3 [==============================] - 0s 20ms/step - loss: 0.5032 - val_loss: 0.5498\n",
            "Epoch 15/100\n",
            "3/3 [==============================] - 0s 19ms/step - loss: 0.5076 - val_loss: 0.5438\n",
            "Epoch 16/100\n",
            "3/3 [==============================] - 0s 21ms/step - loss: 0.4999 - val_loss: 0.5433\n",
            "Epoch 17/100\n",
            "3/3 [==============================] - 0s 18ms/step - loss: 0.4845 - val_loss: 0.5401\n",
            "Epoch 18/100\n",
            "3/3 [==============================] - 0s 20ms/step - loss: 0.5110 - val_loss: 0.5433\n",
            "Epoch 19/100\n",
            "3/3 [==============================] - 0s 18ms/step - loss: 0.5012 - val_loss: 0.5411\n",
            "Epoch 20/100\n",
            "3/3 [==============================] - 0s 18ms/step - loss: 0.5069 - val_loss: 0.5365\n",
            "Epoch 21/100\n",
            "3/3 [==============================] - 0s 21ms/step - loss: 0.4790 - val_loss: 0.5299\n",
            "Epoch 22/100\n",
            "3/3 [==============================] - 0s 18ms/step - loss: 0.4782 - val_loss: 0.5277\n",
            "Epoch 23/100\n",
            "3/3 [==============================] - 0s 19ms/step - loss: 0.5199 - val_loss: 0.5320\n",
            "Epoch 24/100\n",
            "3/3 [==============================] - 0s 18ms/step - loss: 0.5228 - val_loss: 0.5342\n",
            "Epoch 25/100\n",
            "3/3 [==============================] - 0s 18ms/step - loss: 0.5095 - val_loss: 0.5403\n",
            "Epoch 26/100\n",
            "3/3 [==============================] - 0s 20ms/step - loss: 0.4911 - val_loss: 0.5430\n",
            "Epoch 27/100\n",
            "3/3 [==============================] - 0s 19ms/step - loss: 0.5158 - val_loss: 0.5432\n",
            "Epoch 28/100\n",
            "3/3 [==============================] - 0s 23ms/step - loss: 0.4843 - val_loss: 0.5508\n",
            "Epoch 29/100\n",
            "3/3 [==============================] - 0s 22ms/step - loss: 0.4994 - val_loss: 0.5440\n",
            "Epoch 30/100\n",
            "3/3 [==============================] - 0s 19ms/step - loss: 0.4909 - val_loss: 0.5394\n",
            "Epoch 31/100\n",
            "3/3 [==============================] - 0s 21ms/step - loss: 0.5339 - val_loss: 0.5280\n",
            "Epoch 32/100\n",
            "3/3 [==============================] - 0s 21ms/step - loss: 0.5152 - val_loss: 0.5241\n",
            "Epoch 33/100\n",
            "3/3 [==============================] - 0s 17ms/step - loss: 0.5085 - val_loss: 0.5302\n",
            "Epoch 34/100\n",
            "3/3 [==============================] - 0s 19ms/step - loss: 0.4969 - val_loss: 0.5443\n",
            "Epoch 35/100\n",
            "3/3 [==============================] - 0s 18ms/step - loss: 0.4858 - val_loss: 0.5479\n",
            "Epoch 36/100\n",
            "3/3 [==============================] - 0s 18ms/step - loss: 0.5000 - val_loss: 0.5409\n",
            "Epoch 37/100\n",
            "3/3 [==============================] - 0s 18ms/step - loss: 0.4946 - val_loss: 0.5406\n",
            "Epoch 38/100\n",
            "3/3 [==============================] - 0s 18ms/step - loss: 0.4887 - val_loss: 0.5433\n",
            "Epoch 39/100\n",
            "3/3 [==============================] - 0s 23ms/step - loss: 0.4953 - val_loss: 0.5421\n",
            "Epoch 40/100\n",
            "3/3 [==============================] - 0s 17ms/step - loss: 0.5046 - val_loss: 0.5306\n",
            "Epoch 41/100\n",
            "3/3 [==============================] - 0s 18ms/step - loss: 0.4980 - val_loss: 0.5299\n",
            "Epoch 42/100\n",
            "3/3 [==============================] - 0s 18ms/step - loss: 0.4877 - val_loss: 0.5363\n",
            "Epoch 43/100\n",
            "3/3 [==============================] - 0s 22ms/step - loss: 0.5230 - val_loss: 0.5442\n",
            "Epoch 44/100\n",
            "3/3 [==============================] - 0s 21ms/step - loss: 0.4748 - val_loss: 0.5448\n",
            "Epoch 45/100\n",
            "3/3 [==============================] - 0s 21ms/step - loss: 0.5096 - val_loss: 0.5307\n",
            "Epoch 46/100\n",
            "3/3 [==============================] - 0s 19ms/step - loss: 0.5013 - val_loss: 0.5290\n",
            "Epoch 47/100\n",
            "3/3 [==============================] - 0s 24ms/step - loss: 0.5153 - val_loss: 0.5335\n",
            "Epoch 48/100\n",
            "3/3 [==============================] - 0s 23ms/step - loss: 0.5267 - val_loss: 0.5402\n",
            "Epoch 49/100\n",
            "3/3 [==============================] - 0s 18ms/step - loss: 0.4785 - val_loss: 0.5483\n",
            "Epoch 50/100\n",
            "3/3 [==============================] - 0s 18ms/step - loss: 0.4736 - val_loss: 0.5446\n",
            "Epoch 51/100\n",
            "3/3 [==============================] - 0s 19ms/step - loss: 0.4887 - val_loss: 0.5369\n",
            "Epoch 52/100\n",
            "3/3 [==============================] - 0s 20ms/step - loss: 0.5058 - val_loss: 0.5336\n",
            "Epoch 53/100\n",
            "3/3 [==============================] - 0s 19ms/step - loss: 0.5511 - val_loss: 0.5275\n",
            "Epoch 54/100\n",
            "3/3 [==============================] - 0s 19ms/step - loss: 0.4774 - val_loss: 0.5347\n",
            "Epoch 55/100\n",
            "3/3 [==============================] - 0s 21ms/step - loss: 0.5055 - val_loss: 0.5461\n",
            "Epoch 56/100\n",
            "3/3 [==============================] - 0s 18ms/step - loss: 0.4868 - val_loss: 0.5475\n",
            "Epoch 57/100\n",
            "3/3 [==============================] - 0s 19ms/step - loss: 0.5101 - val_loss: 0.5359\n",
            "Epoch 58/100\n",
            "3/3 [==============================] - 0s 21ms/step - loss: 0.4943 - val_loss: 0.5367\n",
            "Epoch 59/100\n",
            "3/3 [==============================] - 0s 21ms/step - loss: 0.4779 - val_loss: 0.5386\n",
            "Epoch 60/100\n",
            "3/3 [==============================] - 0s 18ms/step - loss: 0.4943 - val_loss: 0.5344\n",
            "Epoch 61/100\n",
            "3/3 [==============================] - 0s 18ms/step - loss: 0.4760 - val_loss: 0.5325\n",
            "Epoch 62/100\n",
            "3/3 [==============================] - 0s 22ms/step - loss: 0.5012 - val_loss: 0.5338\n",
            "Epoch 63/100\n",
            "3/3 [==============================] - 0s 21ms/step - loss: 0.5000 - val_loss: 0.5434\n",
            "Epoch 64/100\n",
            "3/3 [==============================] - 0s 19ms/step - loss: 0.4969 - val_loss: 0.5423\n",
            "Epoch 65/100\n",
            "3/3 [==============================] - 0s 20ms/step - loss: 0.4955 - val_loss: 0.5445\n",
            "Epoch 66/100\n",
            "3/3 [==============================] - 0s 20ms/step - loss: 0.4896 - val_loss: 0.5511\n",
            "Epoch 67/100\n",
            "3/3 [==============================] - 0s 22ms/step - loss: 0.4762 - val_loss: 0.5335\n",
            "Epoch 68/100\n",
            "3/3 [==============================] - 0s 24ms/step - loss: 0.4833 - val_loss: 0.5310\n",
            "Epoch 69/100\n",
            "3/3 [==============================] - 0s 22ms/step - loss: 0.4983 - val_loss: 0.5278\n",
            "Epoch 70/100\n",
            "3/3 [==============================] - 0s 22ms/step - loss: 0.4856 - val_loss: 0.5317\n",
            "Epoch 71/100\n",
            "3/3 [==============================] - 0s 23ms/step - loss: 0.4973 - val_loss: 0.5359\n",
            "Epoch 72/100\n",
            "3/3 [==============================] - 0s 22ms/step - loss: 0.4874 - val_loss: 0.5389\n",
            "Epoch 73/100\n",
            "3/3 [==============================] - 0s 22ms/step - loss: 0.4423 - val_loss: 0.5494\n",
            "Epoch 74/100\n",
            "3/3 [==============================] - 0s 22ms/step - loss: 0.4945 - val_loss: 0.5477\n",
            "Epoch 75/100\n",
            "3/3 [==============================] - 0s 19ms/step - loss: 0.5232 - val_loss: 0.5352\n",
            "Epoch 76/100\n",
            "3/3 [==============================] - 0s 22ms/step - loss: 0.4980 - val_loss: 0.5302\n",
            "Epoch 77/100\n",
            "3/3 [==============================] - 0s 22ms/step - loss: 0.4985 - val_loss: 0.5330\n",
            "Epoch 78/100\n",
            "3/3 [==============================] - 0s 18ms/step - loss: 0.5064 - val_loss: 0.5405\n",
            "Epoch 79/100\n",
            "3/3 [==============================] - 0s 23ms/step - loss: 0.5138 - val_loss: 0.5427\n",
            "Epoch 80/100\n",
            "3/3 [==============================] - 0s 22ms/step - loss: 0.4914 - val_loss: 0.5303\n",
            "Epoch 81/100\n",
            "3/3 [==============================] - 0s 22ms/step - loss: 0.5103 - val_loss: 0.5336\n",
            "Epoch 82/100\n",
            "3/3 [==============================] - 0s 21ms/step - loss: 0.4697 - val_loss: 0.5409\n",
            "Epoch 83/100\n",
            "3/3 [==============================] - 0s 22ms/step - loss: 0.4975 - val_loss: 0.5480\n",
            "Epoch 84/100\n",
            "3/3 [==============================] - 0s 21ms/step - loss: 0.5264 - val_loss: 0.5418\n",
            "Epoch 85/100\n",
            "3/3 [==============================] - 0s 21ms/step - loss: 0.5078 - val_loss: 0.5405\n",
            "Epoch 86/100\n",
            "3/3 [==============================] - 0s 19ms/step - loss: 0.5150 - val_loss: 0.5377\n",
            "Epoch 87/100\n",
            "3/3 [==============================] - 0s 18ms/step - loss: 0.5391 - val_loss: 0.5338\n",
            "Epoch 88/100\n",
            "3/3 [==============================] - 0s 24ms/step - loss: 0.4904 - val_loss: 0.5373\n",
            "Epoch 89/100\n",
            "3/3 [==============================] - 0s 21ms/step - loss: 0.4969 - val_loss: 0.5412\n",
            "Epoch 90/100\n",
            "3/3 [==============================] - 0s 22ms/step - loss: 0.4741 - val_loss: 0.5404\n",
            "Epoch 91/100\n",
            "3/3 [==============================] - 0s 18ms/step - loss: 0.4962 - val_loss: 0.5382\n",
            "Epoch 92/100\n",
            "3/3 [==============================] - 0s 24ms/step - loss: 0.4838 - val_loss: 0.5332\n",
            "Epoch 93/100\n",
            "3/3 [==============================] - 0s 20ms/step - loss: 0.4993 - val_loss: 0.5419\n",
            "Epoch 94/100\n",
            "3/3 [==============================] - 0s 21ms/step - loss: 0.5016 - val_loss: 0.5509\n",
            "Epoch 95/100\n",
            "3/3 [==============================] - 0s 18ms/step - loss: 0.5172 - val_loss: 0.5389\n",
            "Epoch 96/100\n",
            "3/3 [==============================] - 0s 21ms/step - loss: 0.5016 - val_loss: 0.5324\n",
            "Epoch 97/100\n",
            "3/3 [==============================] - 0s 20ms/step - loss: 0.5028 - val_loss: 0.5290\n",
            "Epoch 98/100\n",
            "3/3 [==============================] - 0s 19ms/step - loss: 0.4700 - val_loss: 0.5400\n",
            "Epoch 99/100\n",
            "3/3 [==============================] - 0s 19ms/step - loss: 0.4824 - val_loss: 0.5422\n",
            "Epoch 100/100\n",
            "3/3 [==============================] - 0s 21ms/step - loss: 0.4871 - val_loss: 0.5418\n"
          ],
          "name": "stdout"
        }
      ]
    },
    {
      "cell_type": "code",
      "metadata": {
        "colab": {
          "base_uri": "https://localhost:8080/",
          "height": 283
        },
        "id": "U2SXEV-5Z7Sq",
        "outputId": "7d76ca2a-0739-45d6-ee38-88ae38a226ee"
      },
      "source": [
        "plt.plot(r.history['loss'],label='loss')\n",
        "plt.plot(r.history['val_loss'],label='val_loss')\n",
        "plt.legend()"
      ],
      "execution_count": 14,
      "outputs": [
        {
          "output_type": "execute_result",
          "data": {
            "text/plain": [
              "<matplotlib.legend.Legend at 0x7f3f43540ad0>"
            ]
          },
          "metadata": {
            "tags": []
          },
          "execution_count": 14
        },
        {
          "output_type": "display_data",
          "data": {
            "image/png": "[encoded data removed]",
            "text/plain": [
              "<Figure size 432x288 with 1 Axes>"
            ]
          },
          "metadata": {
            "tags": [],
            "needs_background": "light"
          }
        }
      ]
    },
    {
      "cell_type": "code",
      "metadata": {
        "id": "2gHp7iLwa0lG"
      },
      "source": [
        "pred_Y = model.predict(X_test)"
      ],
      "execution_count": 15,
      "outputs": []
    },
    {
      "cell_type": "code",
      "metadata": {
        "colab": {
          "base_uri": "https://localhost:8080/",
          "height": 283
        },
        "id": "IQHyC5xnbKHn",
        "outputId": "e67e05f9-4bd1-4bf0-9bfd-0e145aa6f8ce"
      },
      "source": [
        "plt.plot(Y_test, label='prediction target')\n",
        "plt.plot(pred_Y, label='prediction forecast')"
      ],
      "execution_count": 16,
      "outputs": [
        {
          "output_type": "execute_result",
          "data": {
            "text/plain": [
              "[<matplotlib.lines.Line2D at 0x7f3ee56c54d0>]"
            ]
          },
          "metadata": {
            "tags": []
          },
          "execution_count": 16
        },
        {
          "output_type": "display_data",
          "data": {
            "image/png": "[encoded data removed]",
            "text/plain": [
              "<Figure size 432x288 with 1 Axes>"
            ]
          },
          "metadata": {
            "tags": [],
            "needs_background": "light"
          }
        }
      ]
    }
  ]
}
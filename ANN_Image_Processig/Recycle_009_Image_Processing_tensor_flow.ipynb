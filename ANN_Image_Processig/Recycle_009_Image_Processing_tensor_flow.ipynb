{
  "nbformat": 4,
  "nbformat_minor": 0,
  "metadata": {
    "colab": {
      "name": "Recycle_009_Image_Processing_tensor_flow.ipynb",
      "provenance": [],
      "authorship_tag": "ABX9TyNjZIb27biGMLqnoCQA3vcL",
      "include_colab_link": true
    },
    "kernelspec": {
      "name": "python3",
      "display_name": "Python 3"
    },
    "language_info": {
      "name": "python"
    }
  },
  "cells": [
    {
      "cell_type": "markdown",
      "metadata": {
        "id": "view-in-github",
        "colab_type": "text"
      },
      "source": [
        "<a href=\"https://colab.research.google.com/github/ucfilho/ANN_2021_01/blob/main/ANN_Image_Processig/Recycle_009_Image_Processing_tensor_flow.ipynb\" target=\"_parent\"><img src=\"https://colab.research.google.com/assets/colab-badge.svg\" alt=\"Open In Colab\"/></a>"
      ]
    },
    {
      "cell_type": "code",
      "metadata": {
        "id": "hiuSktexsxMX"
      },
      "source": [
        "from matplotlib import pyplot as plt\n",
        "from sklearn import preprocessing\n",
        "from sklearn.model_selection import train_test_split\n",
        "from sklearn.metrics import classification_report\n",
        "import numpy as np\n",
        "import pandas as pd\n",
        "import cv2\n",
        "import random\n",
        "import zipfile \n",
        "from keras.models import Sequential\n",
        "from keras.layers import Dense, Activation, Conv2D, MaxPooling2D, Flatten, Dropout, BatchNormalization"
      ],
      "execution_count": 1,
      "outputs": []
    },
    {
      "cell_type": "code",
      "metadata": {
        "colab": {
          "base_uri": "https://localhost:8080/"
        },
        "id": "HuMy717xtDJB",
        "outputId": "6c2ef1b2-365a-4fee-b1b3-c8e657ff2258"
      },
      "source": [
        "!git clone https://github.com/ucfilho/ANN_2021_01/\n",
        "%cd ANN_2021_01"
      ],
      "execution_count": 2,
      "outputs": [
        {
          "output_type": "stream",
          "text": [
            "fatal: destination path 'ANN_2021_01' already exists and is not an empty directory.\n",
            "/content/ANN_2021_01\n"
          ],
          "name": "stdout"
        }
      ]
    },
    {
      "cell_type": "code",
      "metadata": {
        "id": "sf-8J0dotD00"
      },
      "source": [
        "file_name = zipfile.ZipFile('trash.zip', 'r')\n",
        "file_name.extractall()"
      ],
      "execution_count": 3,
      "outputs": []
    },
    {
      "cell_type": "code",
      "metadata": {
        "id": "8-I1ibpHtHpR"
      },
      "source": [
        "# all images are load in variable x...\n",
        "FILE='trash.zip'\n",
        "Img_Size = 28\n",
        "img_name=[]\n",
        "x_gray=[]\n",
        "x_original = []\n",
        "with zipfile.ZipFile(FILE, \"r\") as f:\n",
        "    for name in f.namelist():\n",
        "        img_name.append(name)"
      ],
      "execution_count": 4,
      "outputs": []
    },
    {
      "cell_type": "code",
      "metadata": {
        "id": "xJr_DCOYtK5E"
      },
      "source": [
        "y_names = []\n",
        "for yy in img_name:\n",
        "  name = yy[0]+yy[1]+yy[2]\n",
        "  y_names.append(name)"
      ],
      "execution_count": 5,
      "outputs": []
    },
    {
      "cell_type": "code",
      "metadata": {
        "id": "EZR38AI8tOTB"
      },
      "source": [
        "unique_list = []    \n",
        "for yy in y_names:\n",
        "  if yy not in unique_list:\n",
        "    unique_list.append(yy)"
      ],
      "execution_count": 6,
      "outputs": []
    },
    {
      "cell_type": "code",
      "metadata": {
        "id": "ortNZOU3tTRQ"
      },
      "source": [
        "n = len(unique_list)\n",
        "y = []\n",
        "for yy in y_names:\n",
        "  for i in range(n):\n",
        "    if(yy == unique_list[i]):\n",
        "      y.append(i)"
      ],
      "execution_count": 7,
      "outputs": []
    },
    {
      "cell_type": "code",
      "metadata": {
        "id": "KG48mEHytcBU"
      },
      "source": [
        "DATASET_SIZE = len(y_names)\n",
        "Ind = range(DATASET_SIZE)"
      ],
      "execution_count": 8,
      "outputs": []
    },
    {
      "cell_type": "code",
      "metadata": {
        "id": "H3rsBchytc7s"
      },
      "source": [
        "# Ind_train, Ind_test= train_test_split(Ind,test_size=0.20, shuffle=True, random_state=3)"
      ],
      "execution_count": 9,
      "outputs": []
    },
    {
      "cell_type": "code",
      "metadata": {
        "id": "IP4ExNfptf4b"
      },
      "source": [
        "X = []\n",
        "Y = []\n",
        "for II in Ind:\n",
        "  name = img_name[II]\n",
        "  X.append(cv2.resize(cv2.imread(name,0),(Img_Size,Img_Size)))\n",
        "  Y.append(y[II])"
      ],
      "execution_count": 10,
      "outputs": []
    },
    {
      "cell_type": "code",
      "metadata": {
        "id": "l_t3Zcgqsiwc"
      },
      "source": [
        "# helper\n",
        "def ynindicator(Y):\n",
        "  N = len(Y)\n",
        "  K = len(set(Y))\n",
        "  I = np.zeros((N, K))\n",
        "  I[np.arange(N), Y] = 1\n",
        "  return I\n",
        "\n",
        "X = np.array(X)\n",
        "Y = np.array(Y)\n",
        "\n",
        "X = X.reshape(-1, Img_Size, Img_Size, 1) / 255.0\n",
        "Y = Y.astype(np.int32)\n",
        "\n",
        "# get shapes\n",
        "# N = len(Y)\n",
        "K = len(set(Y))\n",
        "\n",
        "# by default Keras wants one-hot encoded labels\n",
        "# there's another cost function we can use\n",
        "# where we can just pass in the integer labels directly\n",
        "# just like Tensorflow / Theano\n",
        "Y = ynindicator(Y)\n",
        "\n",
        "\n",
        "# the model will be a sequence of layers\n",
        "model = Sequential()\n",
        "\n",
        "\n",
        "# make the CNN\n",
        "# model.add(Input(shape=(28, 28, 1)))\n",
        "model.add(Conv2D(input_shape=(Img_Size, Img_Size, 1), filters=32, kernel_size=(3, 3)))\n",
        "model.add(BatchNormalization())\n",
        "model.add(Activation('relu'))\n",
        "model.add(MaxPooling2D())\n",
        "\n",
        "model.add(Conv2D(filters=64, kernel_size=(3, 3)))\n",
        "model.add(BatchNormalization())\n",
        "model.add(Activation('relu'))\n",
        "model.add(MaxPooling2D())\n",
        "\n",
        "model.add(Conv2D(filters=128, kernel_size=(3, 3)))\n",
        "model.add(BatchNormalization())\n",
        "model.add(Activation('relu'))\n",
        "model.add(MaxPooling2D())\n",
        "\n",
        "model.add(Flatten())\n",
        "model.add(Dense(units=300))\n",
        "model.add(Activation('relu'))\n",
        "model.add(Dropout(0.2))\n",
        "model.add(Dense(units=K))\n",
        "model.add(Activation('softmax'))\n",
        "\n",
        "\n",
        "# list of losses: https://keras.io/losses/\n",
        "# list of optimizers: https://keras.io/optimizers/\n",
        "# list of metrics: https://keras.io/metrics/\n",
        "model.compile(\n",
        "  loss='categorical_crossentropy',\n",
        "  optimizer='adam',\n",
        "  metrics=['accuracy']\n",
        ")\n",
        "\n"
      ],
      "execution_count": 11,
      "outputs": []
    },
    {
      "cell_type": "code",
      "metadata": {
        "colab": {
          "base_uri": "https://localhost:8080/"
        },
        "id": "jdk4mQxIvhRN",
        "outputId": "fc3c0e9e-8839-4c1c-b71b-0bde9f13b79c"
      },
      "source": [
        "# gives us back a <keras.callbacks.History object at 0x112e61a90>\n",
        "r = model.fit(X, Y, validation_split=0.20, epochs=15, batch_size=32)\n",
        "print(\"Returned:\", r)\n"
      ],
      "execution_count": 12,
      "outputs": [
        {
          "output_type": "stream",
          "text": [
            "Epoch 1/15\n",
            "17/17 [==============================] - 20s 105ms/step - loss: 1.7032 - accuracy: 0.3218 - val_loss: 2.0607 - val_accuracy: 0.0370\n",
            "Epoch 2/15\n",
            "17/17 [==============================] - 1s 44ms/step - loss: 1.1081 - accuracy: 0.5478 - val_loss: 2.4237 - val_accuracy: 0.0444\n",
            "Epoch 3/15\n",
            "17/17 [==============================] - 1s 45ms/step - loss: 0.8181 - accuracy: 0.7144 - val_loss: 2.8798 - val_accuracy: 0.0000e+00\n",
            "Epoch 4/15\n",
            "17/17 [==============================] - 1s 45ms/step - loss: 0.6743 - accuracy: 0.7778 - val_loss: 3.2458 - val_accuracy: 0.0000e+00\n",
            "Epoch 5/15\n",
            "17/17 [==============================] - 1s 44ms/step - loss: 0.5462 - accuracy: 0.7931 - val_loss: 3.7102 - val_accuracy: 0.0000e+00\n",
            "Epoch 6/15\n",
            "17/17 [==============================] - 1s 44ms/step - loss: 0.3626 - accuracy: 0.8950 - val_loss: 4.0310 - val_accuracy: 0.0000e+00\n",
            "Epoch 7/15\n",
            "17/17 [==============================] - 1s 43ms/step - loss: 0.2913 - accuracy: 0.9109 - val_loss: 4.1771 - val_accuracy: 0.0593\n",
            "Epoch 8/15\n",
            "17/17 [==============================] - 1s 44ms/step - loss: 0.1980 - accuracy: 0.9538 - val_loss: 4.3164 - val_accuracy: 0.0519\n",
            "Epoch 9/15\n",
            "17/17 [==============================] - 1s 44ms/step - loss: 0.1666 - accuracy: 0.9565 - val_loss: 4.5402 - val_accuracy: 0.0370\n",
            "Epoch 10/15\n",
            "17/17 [==============================] - 1s 43ms/step - loss: 0.1337 - accuracy: 0.9627 - val_loss: 5.0593 - val_accuracy: 0.0222\n",
            "Epoch 11/15\n",
            "17/17 [==============================] - 1s 44ms/step - loss: 0.0935 - accuracy: 0.9725 - val_loss: 5.2925 - val_accuracy: 0.0519\n",
            "Epoch 12/15\n",
            "17/17 [==============================] - 1s 45ms/step - loss: 0.0614 - accuracy: 0.9899 - val_loss: 5.5021 - val_accuracy: 0.0741\n",
            "Epoch 13/15\n",
            "17/17 [==============================] - 1s 46ms/step - loss: 0.0553 - accuracy: 0.9920 - val_loss: 5.6995 - val_accuracy: 0.1037\n",
            "Epoch 14/15\n",
            "17/17 [==============================] - 1s 43ms/step - loss: 0.0849 - accuracy: 0.9626 - val_loss: 5.8287 - val_accuracy: 0.1037\n",
            "Epoch 15/15\n",
            "17/17 [==============================] - 1s 43ms/step - loss: 0.0471 - accuracy: 0.9895 - val_loss: 6.2472 - val_accuracy: 0.1111\n",
            "Returned: <keras.callbacks.History object at 0x7f50097f7990>\n"
          ],
          "name": "stdout"
        }
      ]
    },
    {
      "cell_type": "code",
      "metadata": {
        "colab": {
          "base_uri": "https://localhost:8080/"
        },
        "id": "Rt0SXEiZvdu4",
        "outputId": "f90a1e43-abfc-4a0d-f87b-3eba00f0f8b2"
      },
      "source": [
        "\n",
        "# print the available keys\n",
        "# should see: dict_keys(['val_loss', 'acc', 'loss', 'val_acc'])\n",
        "print(r.history.keys())"
      ],
      "execution_count": 13,
      "outputs": [
        {
          "output_type": "stream",
          "text": [
            "dict_keys(['loss', 'accuracy', 'val_loss', 'val_accuracy'])\n"
          ],
          "name": "stdout"
        }
      ]
    },
    {
      "cell_type": "code",
      "metadata": {
        "colab": {
          "base_uri": "https://localhost:8080/",
          "height": 265
        },
        "id": "ClGT5XiAvcim",
        "outputId": "3a0d6d7f-e33b-439f-dbf7-435262f07d8b"
      },
      "source": [
        "\n",
        "# plot some data\n",
        "plt.plot(r.history['loss'], label='loss')\n",
        "plt.plot(r.history['val_loss'], label='val_loss')\n",
        "plt.legend()\n",
        "plt.show()\n",
        "\n",
        "\n"
      ],
      "execution_count": 14,
      "outputs": [
        {
          "output_type": "display_data",
          "data": {
            "image/png": "[encoded data removed]",
            "text/plain": [
              "<Figure size 432x288 with 1 Axes>"
            ]
          },
          "metadata": {
            "tags": [],
            "needs_background": "light"
          }
        }
      ]
    },
    {
      "cell_type": "code",
      "metadata": {
        "colab": {
          "base_uri": "https://localhost:8080/",
          "height": 417
        },
        "id": "UeNq_8lt0BOj",
        "outputId": "046a37b0-a2f3-4e5e-8673-9d13e49eec2e"
      },
      "source": [
        "pd.DataFrame(Y)"
      ],
      "execution_count": 15,
      "outputs": [
        {
          "output_type": "execute_result",
          "data": {
            "text/html": [
              "<div>\n",
              "<style scoped>\n",
              "    .dataframe tbody tr th:only-of-type {\n",
              "        vertical-align: middle;\n",
              "    }\n",
              "\n",
              "    .dataframe tbody tr th {\n",
              "        vertical-align: top;\n",
              "    }\n",
              "\n",
              "    .dataframe thead th {\n",
              "        text-align: right;\n",
              "    }\n",
              "</style>\n",
              "<table border=\"1\" class=\"dataframe\">\n",
              "  <thead>\n",
              "    <tr style=\"text-align: right;\">\n",
              "      <th></th>\n",
              "      <th>0</th>\n",
              "      <th>1</th>\n",
              "      <th>2</th>\n",
              "      <th>3</th>\n",
              "      <th>4</th>\n",
              "      <th>5</th>\n",
              "    </tr>\n",
              "  </thead>\n",
              "  <tbody>\n",
              "    <tr>\n",
              "      <th>0</th>\n",
              "      <td>1.0</td>\n",
              "      <td>0.0</td>\n",
              "      <td>0.0</td>\n",
              "      <td>0.0</td>\n",
              "      <td>0.0</td>\n",
              "      <td>0.0</td>\n",
              "    </tr>\n",
              "    <tr>\n",
              "      <th>1</th>\n",
              "      <td>1.0</td>\n",
              "      <td>0.0</td>\n",
              "      <td>0.0</td>\n",
              "      <td>0.0</td>\n",
              "      <td>0.0</td>\n",
              "      <td>0.0</td>\n",
              "    </tr>\n",
              "    <tr>\n",
              "      <th>2</th>\n",
              "      <td>1.0</td>\n",
              "      <td>0.0</td>\n",
              "      <td>0.0</td>\n",
              "      <td>0.0</td>\n",
              "      <td>0.0</td>\n",
              "      <td>0.0</td>\n",
              "    </tr>\n",
              "    <tr>\n",
              "      <th>3</th>\n",
              "      <td>1.0</td>\n",
              "      <td>0.0</td>\n",
              "      <td>0.0</td>\n",
              "      <td>0.0</td>\n",
              "      <td>0.0</td>\n",
              "      <td>0.0</td>\n",
              "    </tr>\n",
              "    <tr>\n",
              "      <th>4</th>\n",
              "      <td>1.0</td>\n",
              "      <td>0.0</td>\n",
              "      <td>0.0</td>\n",
              "      <td>0.0</td>\n",
              "      <td>0.0</td>\n",
              "      <td>0.0</td>\n",
              "    </tr>\n",
              "    <tr>\n",
              "      <th>...</th>\n",
              "      <td>...</td>\n",
              "      <td>...</td>\n",
              "      <td>...</td>\n",
              "      <td>...</td>\n",
              "      <td>...</td>\n",
              "      <td>...</td>\n",
              "    </tr>\n",
              "    <tr>\n",
              "      <th>668</th>\n",
              "      <td>0.0</td>\n",
              "      <td>0.0</td>\n",
              "      <td>0.0</td>\n",
              "      <td>0.0</td>\n",
              "      <td>0.0</td>\n",
              "      <td>1.0</td>\n",
              "    </tr>\n",
              "    <tr>\n",
              "      <th>669</th>\n",
              "      <td>0.0</td>\n",
              "      <td>0.0</td>\n",
              "      <td>0.0</td>\n",
              "      <td>0.0</td>\n",
              "      <td>0.0</td>\n",
              "      <td>1.0</td>\n",
              "    </tr>\n",
              "    <tr>\n",
              "      <th>670</th>\n",
              "      <td>0.0</td>\n",
              "      <td>0.0</td>\n",
              "      <td>0.0</td>\n",
              "      <td>0.0</td>\n",
              "      <td>0.0</td>\n",
              "      <td>1.0</td>\n",
              "    </tr>\n",
              "    <tr>\n",
              "      <th>671</th>\n",
              "      <td>0.0</td>\n",
              "      <td>0.0</td>\n",
              "      <td>0.0</td>\n",
              "      <td>0.0</td>\n",
              "      <td>0.0</td>\n",
              "      <td>1.0</td>\n",
              "    </tr>\n",
              "    <tr>\n",
              "      <th>672</th>\n",
              "      <td>0.0</td>\n",
              "      <td>0.0</td>\n",
              "      <td>0.0</td>\n",
              "      <td>0.0</td>\n",
              "      <td>0.0</td>\n",
              "      <td>1.0</td>\n",
              "    </tr>\n",
              "  </tbody>\n",
              "</table>\n",
              "<p>673 rows × 6 columns</p>\n",
              "</div>"
            ],
            "text/plain": [
              "       0    1    2    3    4    5\n",
              "0    1.0  0.0  0.0  0.0  0.0  0.0\n",
              "1    1.0  0.0  0.0  0.0  0.0  0.0\n",
              "2    1.0  0.0  0.0  0.0  0.0  0.0\n",
              "3    1.0  0.0  0.0  0.0  0.0  0.0\n",
              "4    1.0  0.0  0.0  0.0  0.0  0.0\n",
              "..   ...  ...  ...  ...  ...  ...\n",
              "668  0.0  0.0  0.0  0.0  0.0  1.0\n",
              "669  0.0  0.0  0.0  0.0  0.0  1.0\n",
              "670  0.0  0.0  0.0  0.0  0.0  1.0\n",
              "671  0.0  0.0  0.0  0.0  0.0  1.0\n",
              "672  0.0  0.0  0.0  0.0  0.0  1.0\n",
              "\n",
              "[673 rows x 6 columns]"
            ]
          },
          "metadata": {
            "tags": []
          },
          "execution_count": 15
        }
      ]
    },
    {
      "cell_type": "code",
      "metadata": {
        "colab": {
          "base_uri": "https://localhost:8080/",
          "height": 265
        },
        "id": "roMaf-IAvqro",
        "outputId": "3f99991a-5c0f-4d60-f383-4732185a698f"
      },
      "source": [
        "# accuracies\n",
        "plt.plot(r.history['accuracy'], label='acc')\n",
        "plt.plot(r.history['val_accuracy'], label='val_acc')\n",
        "plt.legend()\n",
        "plt.show()"
      ],
      "execution_count": 16,
      "outputs": [
        {
          "output_type": "display_data",
          "data": {
            "image/png": "[encoded data removed]",
            "text/plain": [
              "<Figure size 432x288 with 1 Axes>"
            ]
          },
          "metadata": {
            "tags": [],
            "needs_background": "light"
          }
        }
      ]
    }
  ]
}
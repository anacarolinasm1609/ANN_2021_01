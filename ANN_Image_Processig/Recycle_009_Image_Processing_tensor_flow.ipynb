{
  "nbformat": 4,
  "nbformat_minor": 0,
  "metadata": {
    "colab": {
      "name": "Recycle_009_Image_Processing_tensor_flow.ipynb",
      "provenance": [],
      "authorship_tag": "ABX9TyPeq+k5Y9o3wikAtqs9CeL5",
      "include_colab_link": true
    },
    "kernelspec": {
      "name": "python3",
      "display_name": "Python 3"
    },
    "language_info": {
      "name": "python"
    }
  },
  "cells": [
    {
      "cell_type": "markdown",
      "metadata": {
        "id": "view-in-github",
        "colab_type": "text"
      },
      "source": [
        "<a href=\"https://colab.research.google.com/github/ucfilho/ANN_2021_01/blob/main/ANN_Image_Processig/Recycle_009_Image_Processing_tensor_flow.ipynb\" target=\"_parent\"><img src=\"https://colab.research.google.com/assets/colab-badge.svg\" alt=\"Open In Colab\"/></a>"
      ]
    },
    {
      "cell_type": "code",
      "metadata": {
        "id": "hiuSktexsxMX"
      },
      "source": [
        "from matplotlib import pyplot as plt\n",
        "from sklearn import preprocessing\n",
        "from sklearn.model_selection import train_test_split\n",
        "from sklearn.metrics import classification_report\n",
        "import numpy as np\n",
        "import pandas as pd\n",
        "import cv2\n",
        "import random\n",
        "import zipfile \n",
        "from keras.models import Sequential\n",
        "from keras.layers import Dense, Activation, Conv2D, MaxPooling2D, Flatten, Dropout, BatchNormalization"
      ],
      "execution_count": 1,
      "outputs": []
    },
    {
      "cell_type": "code",
      "metadata": {
        "colab": {
          "base_uri": "https://localhost:8080/"
        },
        "id": "HuMy717xtDJB",
        "outputId": "883a278d-4ac5-467b-a717-0557ab8bacd2"
      },
      "source": [
        "!git clone https://github.com/ucfilho/ANN_2021_01/\n",
        "%cd ANN_2021_01"
      ],
      "execution_count": 2,
      "outputs": [
        {
          "output_type": "stream",
          "text": [
            "fatal: destination path 'ANN_2021_01' already exists and is not an empty directory.\n",
            "/content/ANN_2021_01\n"
          ],
          "name": "stdout"
        }
      ]
    },
    {
      "cell_type": "code",
      "metadata": {
        "id": "sf-8J0dotD00"
      },
      "source": [
        "file_name = zipfile.ZipFile('trash.zip', 'r')\n",
        "file_name.extractall()"
      ],
      "execution_count": 3,
      "outputs": []
    },
    {
      "cell_type": "code",
      "metadata": {
        "id": "8-I1ibpHtHpR"
      },
      "source": [
        "# all images are load in variable x...\n",
        "FILE='trash.zip'\n",
        "Img_Size = 28\n",
        "img_name=[]\n",
        "x_gray=[]\n",
        "x_original = []\n",
        "with zipfile.ZipFile(FILE, \"r\") as f:\n",
        "    for name in f.namelist():\n",
        "        img_name.append(name)"
      ],
      "execution_count": 4,
      "outputs": []
    },
    {
      "cell_type": "code",
      "metadata": {
        "id": "xJr_DCOYtK5E"
      },
      "source": [
        "y_names = []\n",
        "for yy in img_name:\n",
        "  name = yy[0]+yy[1]+yy[2]\n",
        "  y_names.append(name)"
      ],
      "execution_count": 5,
      "outputs": []
    },
    {
      "cell_type": "code",
      "metadata": {
        "id": "EZR38AI8tOTB"
      },
      "source": [
        "unique_list = []    \n",
        "for yy in y_names:\n",
        "  if yy not in unique_list:\n",
        "    unique_list.append(yy)"
      ],
      "execution_count": 6,
      "outputs": []
    },
    {
      "cell_type": "code",
      "metadata": {
        "id": "ortNZOU3tTRQ"
      },
      "source": [
        "n = len(unique_list)\n",
        "y = []\n",
        "for yy in y_names:\n",
        "  for i in range(n):\n",
        "    if(yy == unique_list[i]):\n",
        "      y.append(i)"
      ],
      "execution_count": 7,
      "outputs": []
    },
    {
      "cell_type": "code",
      "metadata": {
        "id": "KG48mEHytcBU"
      },
      "source": [
        "DATASET_SIZE = len(y_names)\n",
        "Ind = range(DATASET_SIZE)"
      ],
      "execution_count": 8,
      "outputs": []
    },
    {
      "cell_type": "code",
      "metadata": {
        "id": "H3rsBchytc7s"
      },
      "source": [
        "# Ind_train, Ind_test= train_test_split(Ind,test_size=0.20, shuffle=True, random_state=3)"
      ],
      "execution_count": 9,
      "outputs": []
    },
    {
      "cell_type": "code",
      "metadata": {
        "id": "IP4ExNfptf4b"
      },
      "source": [
        "X = []\n",
        "Y = []\n",
        "for II in Ind:\n",
        "  name = img_name[II]\n",
        "  X.append(cv2.resize(cv2.imread(name,0),(Img_Size,Img_Size)))\n",
        "  Y.append(y[II])"
      ],
      "execution_count": 10,
      "outputs": []
    },
    {
      "cell_type": "code",
      "metadata": {
        "id": "l_t3Zcgqsiwc"
      },
      "source": [
        "# helper\n",
        "def y2indicator(Y):\n",
        "  N = len(Y)\n",
        "  K = len(set(Y))\n",
        "  I = np.zeros((N, K))\n",
        "  I[np.arange(N), Y] = 1\n",
        "  return I\n",
        "\n",
        "X = np.array(X)\n",
        "Y = np.array(Y)\n",
        "\n",
        "X = X.reshape(-1, Img_Size, Img_Size, 1) / 255.0\n",
        "Y = Y.astype(np.int32)\n",
        "\n",
        "# get shapes\n",
        "# N = len(Y)\n",
        "K = len(set(Y))\n",
        "\n",
        "# by default Keras wants one-hot encoded labels\n",
        "# there's another cost function we can use\n",
        "# where we can just pass in the integer labels directly\n",
        "# just like Tensorflow / Theano\n",
        "Y = y2indicator(Y)\n",
        "\n",
        "\n",
        "# the model will be a sequence of layers\n",
        "model = Sequential()\n",
        "\n",
        "\n",
        "# make the CNN\n",
        "# model.add(Input(shape=(28, 28, 1)))\n",
        "model.add(Conv2D(input_shape=(Img_Size, Img_Size, 1), filters=32, kernel_size=(3, 3)))\n",
        "model.add(BatchNormalization())\n",
        "model.add(Activation('relu'))\n",
        "model.add(MaxPooling2D())\n",
        "\n",
        "model.add(Conv2D(filters=64, kernel_size=(3, 3)))\n",
        "model.add(BatchNormalization())\n",
        "model.add(Activation('relu'))\n",
        "model.add(MaxPooling2D())\n",
        "\n",
        "model.add(Conv2D(filters=128, kernel_size=(3, 3)))\n",
        "model.add(BatchNormalization())\n",
        "model.add(Activation('relu'))\n",
        "model.add(MaxPooling2D())\n",
        "\n",
        "model.add(Flatten())\n",
        "model.add(Dense(units=300))\n",
        "model.add(Activation('relu'))\n",
        "model.add(Dropout(0.2))\n",
        "model.add(Dense(units=K))\n",
        "model.add(Activation('softmax'))\n",
        "\n",
        "\n",
        "# list of losses: https://keras.io/losses/\n",
        "# list of optimizers: https://keras.io/optimizers/\n",
        "# list of metrics: https://keras.io/metrics/\n",
        "model.compile(\n",
        "  loss='categorical_crossentropy',\n",
        "  optimizer='adam',\n",
        "  metrics=['accuracy']\n",
        ")\n",
        "\n"
      ],
      "execution_count": 11,
      "outputs": []
    },
    {
      "cell_type": "code",
      "metadata": {
        "colab": {
          "base_uri": "https://localhost:8080/"
        },
        "id": "jdk4mQxIvhRN",
        "outputId": "4d6e1179-d59e-40a7-bf3c-a5c4f871a6e0"
      },
      "source": [
        "# gives us back a <keras.callbacks.History object at 0x112e61a90>\n",
        "r = model.fit(X, Y, validation_split=0.20, epochs=15, batch_size=32)\n",
        "print(\"Returned:\", r)\n"
      ],
      "execution_count": 12,
      "outputs": [
        {
          "output_type": "stream",
          "text": [
            "Epoch 1/15\n",
            "17/17 [==============================] - 20s 91ms/step - loss: 1.6925 - accuracy: 0.2815 - val_loss: 2.0173 - val_accuracy: 0.0519\n",
            "Epoch 2/15\n",
            "17/17 [==============================] - 1s 43ms/step - loss: 1.1076 - accuracy: 0.5739 - val_loss: 2.4069 - val_accuracy: 0.1111\n",
            "Epoch 3/15\n",
            "17/17 [==============================] - 1s 43ms/step - loss: 0.8681 - accuracy: 0.6868 - val_loss: 2.8468 - val_accuracy: 0.1111\n",
            "Epoch 4/15\n",
            "17/17 [==============================] - 1s 44ms/step - loss: 0.6782 - accuracy: 0.7580 - val_loss: 3.0747 - val_accuracy: 0.1111\n",
            "Epoch 5/15\n",
            "17/17 [==============================] - 1s 44ms/step - loss: 0.4711 - accuracy: 0.8540 - val_loss: 3.3308 - val_accuracy: 0.1111\n",
            "Epoch 6/15\n",
            "17/17 [==============================] - 1s 43ms/step - loss: 0.3068 - accuracy: 0.9303 - val_loss: 3.5341 - val_accuracy: 0.1037\n",
            "Epoch 7/15\n",
            "17/17 [==============================] - 1s 44ms/step - loss: 0.2394 - accuracy: 0.9377 - val_loss: 3.8830 - val_accuracy: 0.1111\n",
            "Epoch 8/15\n",
            "17/17 [==============================] - 1s 42ms/step - loss: 0.1887 - accuracy: 0.9493 - val_loss: 4.1406 - val_accuracy: 0.1111\n",
            "Epoch 9/15\n",
            "17/17 [==============================] - 1s 43ms/step - loss: 0.1445 - accuracy: 0.9610 - val_loss: 4.4463 - val_accuracy: 0.1111\n",
            "Epoch 10/15\n",
            "17/17 [==============================] - 1s 45ms/step - loss: 0.1058 - accuracy: 0.9837 - val_loss: 4.5953 - val_accuracy: 0.1111\n",
            "Epoch 11/15\n",
            "17/17 [==============================] - 1s 43ms/step - loss: 0.1016 - accuracy: 0.9591 - val_loss: 4.9361 - val_accuracy: 0.1037\n",
            "Epoch 12/15\n",
            "17/17 [==============================] - 1s 43ms/step - loss: 0.1131 - accuracy: 0.9676 - val_loss: 5.7567 - val_accuracy: 0.1111\n",
            "Epoch 13/15\n",
            "17/17 [==============================] - 1s 43ms/step - loss: 0.1051 - accuracy: 0.9663 - val_loss: 5.4883 - val_accuracy: 0.1111\n",
            "Epoch 14/15\n",
            "17/17 [==============================] - 1s 45ms/step - loss: 0.0676 - accuracy: 0.9797 - val_loss: 5.8147 - val_accuracy: 0.1111\n",
            "Epoch 15/15\n",
            "17/17 [==============================] - 1s 43ms/step - loss: 0.0549 - accuracy: 0.9825 - val_loss: 6.6256 - val_accuracy: 0.1111\n",
            "Returned: <keras.callbacks.History object at 0x7eff54d14810>\n"
          ],
          "name": "stdout"
        }
      ]
    },
    {
      "cell_type": "code",
      "metadata": {
        "colab": {
          "base_uri": "https://localhost:8080/"
        },
        "id": "Rt0SXEiZvdu4",
        "outputId": "6defa830-59a2-41d3-c0b5-d0d8490369d0"
      },
      "source": [
        "\n",
        "# print the available keys\n",
        "# should see: dict_keys(['val_loss', 'acc', 'loss', 'val_acc'])\n",
        "print(r.history.keys())"
      ],
      "execution_count": 13,
      "outputs": [
        {
          "output_type": "stream",
          "text": [
            "dict_keys(['loss', 'accuracy', 'val_loss', 'val_accuracy'])\n"
          ],
          "name": "stdout"
        }
      ]
    },
    {
      "cell_type": "code",
      "metadata": {
        "colab": {
          "base_uri": "https://localhost:8080/",
          "height": 265
        },
        "id": "ClGT5XiAvcim",
        "outputId": "bab3768f-fdbc-410e-fdb6-f46e9aed4206"
      },
      "source": [
        "\n",
        "# plot some data\n",
        "plt.plot(r.history['loss'], label='loss')\n",
        "plt.plot(r.history['val_loss'], label='val_loss')\n",
        "plt.legend()\n",
        "plt.show()\n",
        "\n",
        "\n"
      ],
      "execution_count": 14,
      "outputs": [
        {
          "output_type": "display_data",
          "data": {
            "image/png": "[encoded data removed]",
            "text/plain": [
              "<Figure size 432x288 with 1 Axes>"
            ]
          },
          "metadata": {
            "tags": [],
            "needs_background": "light"
          }
        }
      ]
    },
    {
      "cell_type": "code",
      "metadata": {
        "colab": {
          "base_uri": "https://localhost:8080/",
          "height": 265
        },
        "id": "roMaf-IAvqro",
        "outputId": "14bdd600-9292-4072-c7dc-42876379beca"
      },
      "source": [
        "# accuracies\n",
        "plt.plot(r.history['accuracy'], label='acc')\n",
        "plt.plot(r.history['val_accuracy'], label='val_acc')\n",
        "plt.legend()\n",
        "plt.show()"
      ],
      "execution_count": 15,
      "outputs": [
        {
          "output_type": "display_data",
          "data": {
            "image/png": "[encoded data removed]",
            "text/plain": [
              "<Figure size 432x288 with 1 Axes>"
            ]
          },
          "metadata": {
            "tags": [],
            "needs_background": "light"
          }
        }
      ]
    }
  ]
}
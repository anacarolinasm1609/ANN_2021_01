{
  "nbformat": 4,
  "nbformat_minor": 0,
  "metadata": {
    "colab": {
      "name": "Recycle_005_Image_Processing_some_concepts_before_first_ann.ipynb",
      "provenance": [],
      "authorship_tag": "ABX9TyNftV6JPzXSP0K4sx9fjY22",
      "include_colab_link": true
    },
    "kernelspec": {
      "name": "python3",
      "display_name": "Python 3"
    },
    "language_info": {
      "name": "python"
    }
  },
  "cells": [
    {
      "cell_type": "markdown",
      "metadata": {
        "id": "view-in-github",
        "colab_type": "text"
      },
      "source": [
        "<a href=\"https://colab.research.google.com/github/ucfilho/ANN_2021_01/blob/main/ANN_Image_Processig/Recycle_005_Image_Processing_some_concepts_before_first_ann.ipynb\" target=\"_parent\"><img src=\"https://colab.research.google.com/assets/colab-badge.svg\" alt=\"Open In Colab\"/></a>"
      ]
    },
    {
      "cell_type": "code",
      "metadata": {
        "id": "VumF8Fkd4B2M"
      },
      "source": [
        "from matplotlib import pyplot as plt\n",
        "import numpy as np\n",
        "import pandas as pd\n",
        "import cv2\n",
        "import random\n",
        "from google.colab import files"
      ],
      "execution_count": null,
      "outputs": []
    },
    {
      "cell_type": "code",
      "metadata": {
        "colab": {
          "base_uri": "https://localhost:8080/"
        },
        "id": "G6zkIELM4FGk",
        "outputId": "825b7675-7f09-4d8d-b9df-21ddadb7731a"
      },
      "source": [
        "!git clone https://github.com/ucfilho/ANN_2021_01/\n",
        "%cd ANN_2021_01"
      ],
      "execution_count": null,
      "outputs": [
        {
          "output_type": "stream",
          "text": [
            "fatal: destination path 'ANN_2021_01' already exists and is not an empty directory.\n",
            "/content/ANN_2021_01\n"
          ],
          "name": "stdout"
        }
      ]
    },
    {
      "cell_type": "code",
      "metadata": {
        "colab": {
          "base_uri": "https://localhost:8080/"
        },
        "id": "A9rKIzkSc9Et",
        "outputId": "4dc08cbf-34fa-4ec1-ef0b-afb2ea75b87e"
      },
      "source": [
        "df=pd.read_excel(\"Recycle_jun_10_2021.xlsx\")\n",
        "print(df.head())"
      ],
      "execution_count": null,
      "outputs": [
        {
          "output_type": "stream",
          "text": [
            "   Unnamed: 0    0    1    2    3  ...  4797  4798  4799       type  class\n",
            "0           0  214  211  210  212  ...    94    93    94  cardboard      0\n",
            "1           1  220  220  219  213  ...    74    73    73  cardboard      0\n",
            "2           2  209  207  208  207  ...    43    57    76  cardboard      0\n",
            "3           3  194  194  190  190  ...   212   215   214  cardboard      0\n",
            "4           4  120  119  119  110  ...   132   133   133  cardboard      0\n",
            "\n",
            "[5 rows x 4803 columns]\n"
          ],
          "name": "stdout"
        }
      ]
    },
    {
      "cell_type": "code",
      "metadata": {
        "colab": {
          "base_uri": "https://localhost:8080/"
        },
        "id": "7XpkDNQFl6If",
        "outputId": "6df389b9-d5d0-4b31-df84-9dcd340bc5f5"
      },
      "source": [
        "X =  df.drop(['type','class','Unnamed: 0'], axis=1)\n",
        "print(X.head())"
      ],
      "execution_count": null,
      "outputs": [
        {
          "output_type": "stream",
          "text": [
            "   0     1     2     3     4     5     ...  4794  4795  4796  4797  4798  4799\n",
            "0   214   211   210   212   209   201  ...    94    93    95    94    93    94\n",
            "1   220   220   219   213   215   211  ...    81    80    78    74    73    73\n",
            "2   209   207   208   207   211   208  ...    62    61    76    43    57    76\n",
            "3   194   194   190   190   190   188  ...   211   211   212   212   215   214\n",
            "4   120   119   119   110    99   129  ...   125   132   130   132   133   133\n",
            "\n",
            "[5 rows x 4800 columns]\n"
          ],
          "name": "stdout"
        }
      ]
    },
    {
      "cell_type": "code",
      "metadata": {
        "colab": {
          "base_uri": "https://localhost:8080/"
        },
        "id": "fFgnrRZgndb7",
        "outputId": "bb4e5020-1674-4f52-82a2-0326aa48fc42"
      },
      "source": [
        "y = df['class']\n",
        "print(y)"
      ],
      "execution_count": null,
      "outputs": [
        {
          "output_type": "stream",
          "text": [
            "0      0\n",
            "1      0\n",
            "2      0\n",
            "3      0\n",
            "4      0\n",
            "      ..\n",
            "602    5\n",
            "603    5\n",
            "604    5\n",
            "605    5\n",
            "606    5\n",
            "Name: class, Length: 607, dtype: int64\n"
          ],
          "name": "stdout"
        }
      ]
    }
  ]
}
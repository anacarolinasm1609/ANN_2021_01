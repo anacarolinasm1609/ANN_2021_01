{
  "nbformat": 4,
  "nbformat_minor": 0,
  "metadata": {
    "colab": {
      "name": "Recycle_011_Image_Processing_tensor_flow.ipynb",
      "provenance": [],
      "authorship_tag": "ABX9TyMGQ/Rj5QNpP4O1RsdGt9Nt",
      "include_colab_link": true
    },
    "kernelspec": {
      "name": "python3",
      "display_name": "Python 3"
    },
    "language_info": {
      "name": "python"
    }
  },
  "cells": [
    {
      "cell_type": "markdown",
      "metadata": {
        "id": "view-in-github",
        "colab_type": "text"
      },
      "source": [
        "<a href=\"https://colab.research.google.com/github/ucfilho/ANN_2021_01/blob/main/ANN_Image_Processig/Recycle_011_Image_Processing_tensor_flow.ipynb\" target=\"_parent\"><img src=\"https://colab.research.google.com/assets/colab-badge.svg\" alt=\"Open In Colab\"/></a>"
      ]
    },
    {
      "cell_type": "code",
      "metadata": {
        "id": "hiuSktexsxMX"
      },
      "source": [
        "from matplotlib import pyplot as plt\n",
        "from sklearn import preprocessing\n",
        "from sklearn.model_selection import train_test_split\n",
        "from sklearn.metrics import classification_report\n",
        "import numpy as np\n",
        "import pandas as pd\n",
        "import cv2\n",
        "import random\n",
        "import zipfile \n",
        "from keras.models import Sequential\n",
        "from keras.layers import Dense, Activation, Conv2D, MaxPooling2D, Flatten, Dropout, BatchNormalization"
      ],
      "execution_count": 1,
      "outputs": []
    },
    {
      "cell_type": "code",
      "metadata": {
        "colab": {
          "base_uri": "https://localhost:8080/"
        },
        "id": "HuMy717xtDJB",
        "outputId": "442e794a-cc95-4d14-a56c-543076883973"
      },
      "source": [
        "!git clone https://github.com/ucfilho/ANN_2021_01/\n",
        "%cd ANN_2021_01"
      ],
      "execution_count": 2,
      "outputs": [
        {
          "output_type": "stream",
          "text": [
            "fatal: destination path 'ANN_2021_01' already exists and is not an empty directory.\n",
            "/content/ANN_2021_01\n"
          ],
          "name": "stdout"
        }
      ]
    },
    {
      "cell_type": "code",
      "metadata": {
        "id": "sf-8J0dotD00"
      },
      "source": [
        "file_name = zipfile.ZipFile('trash.zip', 'r')\n",
        "file_name.extractall()"
      ],
      "execution_count": 3,
      "outputs": []
    },
    {
      "cell_type": "code",
      "metadata": {
        "id": "8-I1ibpHtHpR"
      },
      "source": [
        "# all images are load in variable x...\n",
        "FILE='trash.zip'\n",
        "Img_Size = 28\n",
        "img_name=[]\n",
        "x_gray=[]\n",
        "x_original = []\n",
        "with zipfile.ZipFile(FILE, \"r\") as f:\n",
        "    for name in f.namelist():\n",
        "        img_name.append(name)"
      ],
      "execution_count": 4,
      "outputs": []
    },
    {
      "cell_type": "code",
      "metadata": {
        "id": "xJr_DCOYtK5E"
      },
      "source": [
        "y_names = []\n",
        "for yy in img_name:\n",
        "  name = yy[0]+yy[1]+yy[2]\n",
        "  y_names.append(name)"
      ],
      "execution_count": 5,
      "outputs": []
    },
    {
      "cell_type": "code",
      "metadata": {
        "id": "EZR38AI8tOTB"
      },
      "source": [
        "unique_list = []    \n",
        "for yy in y_names:\n",
        "  if yy not in unique_list:\n",
        "    unique_list.append(yy)"
      ],
      "execution_count": 6,
      "outputs": []
    },
    {
      "cell_type": "code",
      "metadata": {
        "id": "ortNZOU3tTRQ"
      },
      "source": [
        "n = len(unique_list)\n",
        "y = []\n",
        "for yy in y_names:\n",
        "  for i in range(n):\n",
        "    if(yy == unique_list[i]):\n",
        "      y.append(i)"
      ],
      "execution_count": 7,
      "outputs": []
    },
    {
      "cell_type": "code",
      "metadata": {
        "id": "KG48mEHytcBU"
      },
      "source": [
        "DATASET_SIZE = len(y_names)\n",
        "Ind = range(DATASET_SIZE)"
      ],
      "execution_count": 8,
      "outputs": []
    },
    {
      "cell_type": "code",
      "metadata": {
        "id": "H3rsBchytc7s"
      },
      "source": [
        "Ind_train, Ind_test= train_test_split(Ind,test_size=0.20, shuffle=True, random_state=3)"
      ],
      "execution_count": 9,
      "outputs": []
    },
    {
      "cell_type": "code",
      "metadata": {
        "id": "IP4ExNfptf4b"
      },
      "source": [
        "X_train = []\n",
        "Y_train = []\n",
        "for II in Ind_train:\n",
        "  name = img_name[II]\n",
        "  X_train.append(cv2.resize(cv2.imread(name),(Img_Size,Img_Size)))\n",
        "  Y_train.append(y[II])"
      ],
      "execution_count": 10,
      "outputs": []
    },
    {
      "cell_type": "code",
      "metadata": {
        "id": "_7tKm1Atkllk"
      },
      "source": [
        "X_test = []\n",
        "Y_test = []\n",
        "for II in Ind_test:\n",
        "  name = img_name[II]\n",
        "  X_test.append(cv2.resize(cv2.imread(name),(Img_Size,Img_Size)))\n",
        "  Y_test.append(y[II])"
      ],
      "execution_count": 11,
      "outputs": []
    },
    {
      "cell_type": "code",
      "metadata": {
        "id": "l_t3Zcgqsiwc"
      },
      "source": [
        "# helper\n",
        "def ynindicator(Y):\n",
        "  N = len(Y)\n",
        "  K = len(set(Y))\n",
        "  I = np.zeros((N, K))\n",
        "  I[np.arange(N), Y] = 1\n",
        "  return I\n",
        "\n",
        "X_train = np.array(X_train)\n",
        "Y_train = np.array(Y_train)\n",
        "K = len(set(Y_train))\n",
        "\n",
        "X_train = X_train.reshape(-1, Img_Size, Img_Size, 3) / 255.0\n",
        "Y_train = Y_train.astype(np.int32)\n",
        "#Y_train = Y_train.reshape(1,-1)\n",
        "Y_train = ynindicator(Y_train)\n",
        "\n",
        "X_test = np.array(X_test )\n",
        "Y_test = np.array(Y_test)\n",
        "X_test = X_test.reshape(-1, Img_Size, Img_Size, 3) / 255.0\n",
        "Y_test = Y_test.astype(np.int32)\n",
        "#Y_test = Y_test.reshape(1,-1)\n",
        "Y_test = ynindicator(Y_test)\n",
        "\n",
        "\n",
        "\n",
        "# the model will be a sequence of layers\n",
        "\n",
        "model = Sequential()\n",
        "\n",
        "\n",
        "# make the CNN\n",
        "# model.add(Input(shape=(28, 28, 1)))\n",
        "model.add(Conv2D(input_shape=(Img_Size, Img_Size, 3), filters=32, kernel_size=(3, 3)))\n",
        "model.add(BatchNormalization())\n",
        "model.add(Activation('relu'))\n",
        "model.add(MaxPooling2D())\n",
        "\n",
        "model.add(Conv2D(filters=64, kernel_size=(3, 3)))\n",
        "model.add(BatchNormalization())\n",
        "model.add(Activation('relu'))\n",
        "model.add(MaxPooling2D())\n",
        "\n",
        "model.add(Conv2D(filters=128, kernel_size=(3, 3)))\n",
        "model.add(BatchNormalization())\n",
        "model.add(Activation('relu'))\n",
        "model.add(MaxPooling2D())\n",
        "\n",
        "model.add(Flatten())\n",
        "model.add(Dense(units=80))\n",
        "model.add(Activation('relu'))\n",
        "model.add(Dropout(0.2))\n",
        "model.add(Dense(units=K))\n",
        "model.add(Activation('softmax'))\n",
        "\n",
        "\n",
        "# list of losses: https://keras.io/losses/\n",
        "# list of optimizers: https://keras.io/optimizers/\n",
        "# list of metrics: https://keras.io/metrics/\n",
        "model.compile(\n",
        "  loss='categorical_crossentropy',\n",
        "  optimizer='adam',\n",
        "  metrics=['accuracy']\n",
        ")\n",
        "\n"
      ],
      "execution_count": 12,
      "outputs": []
    },
    {
      "cell_type": "code",
      "metadata": {
        "colab": {
          "base_uri": "https://localhost:8080/"
        },
        "id": "5prWPT1EOnyT",
        "outputId": "91b81b3e-a40d-40df-8fa5-41b8584fd57c"
      },
      "source": [
        "print(Y_train.shape)\n",
        "print(X_train.shape)"
      ],
      "execution_count": 13,
      "outputs": [
        {
          "output_type": "stream",
          "text": [
            "(538, 6)\n",
            "(538, 28, 28, 3)\n"
          ],
          "name": "stdout"
        }
      ]
    },
    {
      "cell_type": "code",
      "metadata": {
        "colab": {
          "base_uri": "https://localhost:8080/"
        },
        "id": "jdk4mQxIvhRN",
        "outputId": "044f4607-bf78-4211-d84d-2df77107d3d3"
      },
      "source": [
        "# gives us back a <keras.callbacks.History object at 0x112e61a90>\n",
        "r = model.fit(X_train, Y_train, epochs=15, batch_size=32)\n",
        "print(\"Returned:\", r)\n"
      ],
      "execution_count": 14,
      "outputs": [
        {
          "output_type": "stream",
          "text": [
            "Epoch 1/15\n",
            "17/17 [==============================] - 21s 47ms/step - loss: 1.8208 - accuracy: 0.2745\n",
            "Epoch 2/15\n",
            "17/17 [==============================] - 1s 46ms/step - loss: 1.1927 - accuracy: 0.5485\n",
            "Epoch 3/15\n",
            "17/17 [==============================] - 1s 44ms/step - loss: 0.9604 - accuracy: 0.6680\n",
            "Epoch 4/15\n",
            "17/17 [==============================] - 1s 51ms/step - loss: 0.8152 - accuracy: 0.7334\n",
            "Epoch 5/15\n",
            "17/17 [==============================] - 1s 49ms/step - loss: 0.6383 - accuracy: 0.8111\n",
            "Epoch 6/15\n",
            "17/17 [==============================] - 1s 45ms/step - loss: 0.5181 - accuracy: 0.8245\n",
            "Epoch 7/15\n",
            "17/17 [==============================] - 1s 46ms/step - loss: 0.4359 - accuracy: 0.8637\n",
            "Epoch 8/15\n",
            "17/17 [==============================] - 1s 50ms/step - loss: 0.3079 - accuracy: 0.9175\n",
            "Epoch 9/15\n",
            "17/17 [==============================] - 1s 52ms/step - loss: 0.2101 - accuracy: 0.9539\n",
            "Epoch 10/15\n",
            "17/17 [==============================] - 1s 50ms/step - loss: 0.2037 - accuracy: 0.9338\n",
            "Epoch 11/15\n",
            "17/17 [==============================] - 1s 46ms/step - loss: 0.1426 - accuracy: 0.9633\n",
            "Epoch 12/15\n",
            "17/17 [==============================] - 1s 47ms/step - loss: 0.1181 - accuracy: 0.9766\n",
            "Epoch 13/15\n",
            "17/17 [==============================] - 1s 51ms/step - loss: 0.1076 - accuracy: 0.9869\n",
            "Epoch 14/15\n",
            "17/17 [==============================] - 1s 52ms/step - loss: 0.0912 - accuracy: 0.9731\n",
            "Epoch 15/15\n",
            "17/17 [==============================] - 1s 45ms/step - loss: 0.0610 - accuracy: 0.9913\n",
            "Returned: <keras.callbacks.History object at 0x7f733440f210>\n"
          ],
          "name": "stdout"
        }
      ]
    },
    {
      "cell_type": "code",
      "metadata": {
        "colab": {
          "base_uri": "https://localhost:8080/"
        },
        "id": "Rt0SXEiZvdu4",
        "outputId": "d435b606-9898-4ec0-9b6d-14b5fa3fadea"
      },
      "source": [
        "\n",
        "# print the available keys\n",
        "# should see: dict_keys(['val_loss', 'acc', 'loss', 'val_acc'])\n",
        "print(r.history.keys())"
      ],
      "execution_count": 15,
      "outputs": [
        {
          "output_type": "stream",
          "text": [
            "dict_keys(['loss', 'accuracy'])\n"
          ],
          "name": "stdout"
        }
      ]
    },
    {
      "cell_type": "code",
      "metadata": {
        "colab": {
          "base_uri": "https://localhost:8080/",
          "height": 265
        },
        "id": "ClGT5XiAvcim",
        "outputId": "bfdff50a-b576-44bd-d031-631e847ac6cd"
      },
      "source": [
        "\n",
        "# plot some data\n",
        "plt.plot(r.history['loss'], label='loss')\n",
        "#plt.plot(r.history['val_loss'], label='val_loss')\n",
        "plt.legend()\n",
        "plt.show()\n"
      ],
      "execution_count": 16,
      "outputs": [
        {
          "output_type": "display_data",
          "data": {
            "image/png": "[encoded data removed]",
            "text/plain": [
              "<Figure size 432x288 with 1 Axes>"
            ]
          },
          "metadata": {
            "tags": [],
            "needs_background": "light"
          }
        }
      ]
    },
    {
      "cell_type": "code",
      "metadata": {
        "colab": {
          "base_uri": "https://localhost:8080/",
          "height": 265
        },
        "id": "roMaf-IAvqro",
        "outputId": "fa235f75-d923-48f1-ba7e-be52406d418d"
      },
      "source": [
        "# accuracies\n",
        "plt.plot(r.history['accuracy'], label='acc')\n",
        "#plt.plot(r.history['val_accuracy'], label='val_acc')\n",
        "plt.legend()\n",
        "plt.show()"
      ],
      "execution_count": 17,
      "outputs": [
        {
          "output_type": "display_data",
          "data": {
            "image/png": "[encoded data removed]",
            "text/plain": [
              "<Figure size 432x288 with 1 Axes>"
            ]
          },
          "metadata": {
            "tags": [],
            "needs_background": "light"
          }
        }
      ]
    },
    {
      "cell_type": "code",
      "metadata": {
        "colab": {
          "base_uri": "https://localhost:8080/"
        },
        "id": "tgqUk-L2kL3R",
        "outputId": "b23eed57-2efd-45b1-b85f-ffe280a7ed90"
      },
      "source": [
        "ynew = model.predict_classes(X_test)\n",
        "print(ynew)"
      ],
      "execution_count": 18,
      "outputs": [
        {
          "output_type": "stream",
          "text": [
            "/usr/local/lib/python3.7/dist-packages/keras/engine/sequential.py:450: UserWarning: `model.predict_classes()` is deprecated and will be removed after 2021-01-01. Please use instead:* `np.argmax(model.predict(x), axis=-1)`,   if your model does multi-class classification   (e.g. if it uses a `softmax` last-layer activation).* `(model.predict(x) > 0.5).astype(\"int32\")`,   if your model does binary classification   (e.g. if it uses a `sigmoid` last-layer activation).\n",
            "  warnings.warn('`model.predict_classes()` is deprecated and '\n"
          ],
          "name": "stderr"
        },
        {
          "output_type": "stream",
          "text": [
            "[4 0 4 4 4 4 0 4 4 4 4 4 4 4 4 4 0 0 4 0 0 4 0 0 0 4 4 4 4 4 4 0 4 4 4 4 4\n",
            " 4 0 0 4 4 0 0 0 0 4 0 4 0 0 4 4 0 4 4 4 4 0 4 0 4 4 4 4 0 0 4 4 4 4 4 4 0\n",
            " 0 4 4 4 4 4 0 4 4 4 0 0 4 4 0 0 4 0 0 4 4 0 0 0 4 4 0 0 4 4 4 4 0 0 4 4 4\n",
            " 4 4 4 4 0 4 0 4 4 4 4 0 4 4 0 1 4 0 0 4 4 0 4 4]\n"
          ],
          "name": "stdout"
        }
      ]
    },
    {
      "cell_type": "code",
      "metadata": {
        "id": "MEah48_2piJS"
      },
      "source": [
        "y_resp = (model.predict(X_test) > 0.5).astype(\"int32\")\n",
        "#print(y_resp)"
      ],
      "execution_count": 19,
      "outputs": []
    },
    {
      "cell_type": "code",
      "metadata": {
        "id": "ahdlyTPZw7fu"
      },
      "source": [
        "# model.predict(X_test)"
      ],
      "execution_count": 20,
      "outputs": []
    },
    {
      "cell_type": "code",
      "metadata": {
        "id": "LpxchoawxD-U"
      },
      "source": [
        "# (model.predict(X_test)[0] > 0.5).astype(\"int32\")"
      ],
      "execution_count": 21,
      "outputs": []
    },
    {
      "cell_type": "code",
      "metadata": {
        "colab": {
          "base_uri": "https://localhost:8080/"
        },
        "id": "vomVndT8p2jC",
        "outputId": "116720f7-42ba-4d5a-bf5c-eb846ec64f3e"
      },
      "source": [
        "y_class = np.zeros(len(Ind_test),dtype=int)\n",
        "for k in range(len(Ind_test)):\n",
        "  for kk in range(K):\n",
        "    if(Y_test[k,kk] == 1):\n",
        "      y_class[k] = kk\n",
        "print(y_class)\n",
        "y_true = y_class.copy()"
      ],
      "execution_count": 22,
      "outputs": [
        {
          "output_type": "stream",
          "text": [
            "[1 5 4 2 2 4 3 3 2 4 4 3 3 3 5 3 2 0 4 0 0 1 1 5 3 1 0 4 0 4 1 2 2 1 2 4 5\n",
            " 2 5 0 4 3 2 0 2 0 3 0 4 0 2 1 0 0 5 5 3 1 0 2 4 1 1 2 5 0 4 5 4 2 4 2 3 0\n",
            " 0 2 1 4 5 2 3 3 5 1 1 3 1 5 2 3 5 3 1 0 1 5 2 0 4 2 4 0 2 4 1 4 2 1 4 1 1\n",
            " 0 3 1 1 2 4 0 4 0 4 5 0 1 1 3 1 4 2 0 5 3 0 4 4]\n"
          ],
          "name": "stdout"
        }
      ]
    },
    {
      "cell_type": "code",
      "metadata": {
        "id": "jz5jmeuStXFj"
      },
      "source": [
        "#Y_test[-2,:]"
      ],
      "execution_count": 23,
      "outputs": []
    },
    {
      "cell_type": "code",
      "metadata": {
        "id": "syYA36aFvEzJ"
      },
      "source": [
        "y_class = np.zeros(len(Ind_test),dtype=int)\n",
        "for k in range(len(Ind_test)):\n",
        "  for kk in range(K):\n",
        "    if(y_resp[k,kk] == 1):\n",
        "      y_class[k] = kk\n",
        "y_pred = y_class.copy()"
      ],
      "execution_count": 24,
      "outputs": []
    },
    {
      "cell_type": "code",
      "metadata": {
        "colab": {
          "base_uri": "https://localhost:8080/"
        },
        "id": "21ex3uxFurej",
        "outputId": "116a7120-b46b-4304-941b-ab142b177186"
      },
      "source": [
        "target_names = ['cardboard', 'glass', 'metal', 'paper', 'plastic', 'trash']\n",
        "print(classification_report(y_true, y_pred, target_names=target_names))"
      ],
      "execution_count": 25,
      "outputs": [
        {
          "output_type": "stream",
          "text": [
            "              precision    recall  f1-score   support\n",
            "\n",
            "   cardboard       0.36      1.00      0.53        25\n",
            "       glass       0.00      0.00      0.00        25\n",
            "       metal       0.00      0.00      0.00        24\n",
            "       paper       0.00      0.00      0.00        19\n",
            "     plastic       0.33      0.85      0.48        26\n",
            "       trash       0.00      0.00      0.00        16\n",
            "\n",
            "    accuracy                           0.35       135\n",
            "   macro avg       0.12      0.31      0.17       135\n",
            "weighted avg       0.13      0.35      0.19       135\n",
            "\n"
          ],
          "name": "stdout"
        },
        {
          "output_type": "stream",
          "text": [
            "/usr/local/lib/python3.7/dist-packages/sklearn/metrics/_classification.py:1272: UndefinedMetricWarning: Precision and F-score are ill-defined and being set to 0.0 in labels with no predicted samples. Use `zero_division` parameter to control this behavior.\n",
            "  _warn_prf(average, modifier, msg_start, len(result))\n"
          ],
          "name": "stderr"
        }
      ]
    },
    {
      "cell_type": "code",
      "metadata": {
        "colab": {
          "base_uri": "https://localhost:8080/"
        },
        "id": "a7RxuOmTvrCh",
        "outputId": "b8301d1c-40db-4eb5-c88e-a70da30f409f"
      },
      "source": [
        "y_true"
      ],
      "execution_count": 26,
      "outputs": [
        {
          "output_type": "execute_result",
          "data": {
            "text/plain": [
              "array([1, 5, 4, 2, 2, 4, 3, 3, 2, 4, 4, 3, 3, 3, 5, 3, 2, 0, 4, 0, 0, 1,\n",
              "       1, 5, 3, 1, 0, 4, 0, 4, 1, 2, 2, 1, 2, 4, 5, 2, 5, 0, 4, 3, 2, 0,\n",
              "       2, 0, 3, 0, 4, 0, 2, 1, 0, 0, 5, 5, 3, 1, 0, 2, 4, 1, 1, 2, 5, 0,\n",
              "       4, 5, 4, 2, 4, 2, 3, 0, 0, 2, 1, 4, 5, 2, 3, 3, 5, 1, 1, 3, 1, 5,\n",
              "       2, 3, 5, 3, 1, 0, 1, 5, 2, 0, 4, 2, 4, 0, 2, 4, 1, 4, 2, 1, 4, 1,\n",
              "       1, 0, 3, 1, 1, 2, 4, 0, 4, 0, 4, 5, 0, 1, 1, 3, 1, 4, 2, 0, 5, 3,\n",
              "       0, 4, 4])"
            ]
          },
          "metadata": {
            "tags": []
          },
          "execution_count": 26
        }
      ]
    }
  ]
}
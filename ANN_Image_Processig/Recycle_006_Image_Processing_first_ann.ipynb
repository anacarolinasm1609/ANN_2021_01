{
  "nbformat": 4,
  "nbformat_minor": 0,
  "metadata": {
    "colab": {
      "name": "Recycle_006_Image_Processing_first_ann.ipynb",
      "provenance": [],
      "authorship_tag": "ABX9TyP7EKaqMIgsCj/a8k5h9/Ea",
      "include_colab_link": true
    },
    "kernelspec": {
      "name": "python3",
      "display_name": "Python 3"
    },
    "language_info": {
      "name": "python"
    }
  },
  "cells": [
    {
      "cell_type": "markdown",
      "metadata": {
        "id": "view-in-github",
        "colab_type": "text"
      },
      "source": [
        "<a href=\"https://colab.research.google.com/github/ucfilho/ANN_2021_01/blob/main/ANN_Image_Processig/Recycle_006_Image_Processing_first_ann.ipynb\" target=\"_parent\"><img src=\"https://colab.research.google.com/assets/colab-badge.svg\" alt=\"Open In Colab\"/></a>"
      ]
    },
    {
      "cell_type": "code",
      "metadata": {
        "id": "VumF8Fkd4B2M"
      },
      "source": [
        "from matplotlib import pyplot as plt\n",
        "from sklearn.neural_network import MLPClassifier\n",
        "from sklearn import preprocessing\n",
        "from sklearn.model_selection import train_test_split\n",
        "import numpy as np\n",
        "import pandas as pd\n",
        "import cv2\n",
        "import random\n",
        "import zipfile"
      ],
      "execution_count": 1,
      "outputs": []
    },
    {
      "cell_type": "code",
      "metadata": {
        "colab": {
          "base_uri": "https://localhost:8080/"
        },
        "id": "G6zkIELM4FGk",
        "outputId": "e69f0a22-26fe-4ace-fb66-4343b788df0e"
      },
      "source": [
        "!git clone https://github.com/ucfilho/ANN_2021_01/\n",
        "%cd ANN_2021_01"
      ],
      "execution_count": 2,
      "outputs": [
        {
          "output_type": "stream",
          "text": [
            "fatal: destination path 'ANN_2021_01' already exists and is not an empty directory.\n",
            "/content/ANN_2021_01\n"
          ],
          "name": "stdout"
        }
      ]
    },
    {
      "cell_type": "code",
      "metadata": {
        "id": "61YkUwT-4Sli"
      },
      "source": [
        "file_name = zipfile.ZipFile('trash.zip', 'r')\n",
        "file_name.extractall()"
      ],
      "execution_count": 3,
      "outputs": []
    },
    {
      "cell_type": "code",
      "metadata": {
        "id": "PgVpmRi7mRlb"
      },
      "source": [
        "# all images are load in variable x...\n",
        "FILE='trash.zip'\n",
        "Img_Size = 50\n",
        "img_name=[]\n",
        "x_gray=[]\n",
        "x_original = []\n",
        "with zipfile.ZipFile(FILE, \"r\") as f:\n",
        "    for name in f.namelist():\n",
        "        img_name.append(name)\n",
        "        #x_gray.append(cv2.imread(name, 0))\n",
        "        x_gray.append(cv2.resize(cv2.imread(name, 0),(Img_Size,Img_Size)))"
      ],
      "execution_count": 4,
      "outputs": []
    },
    {
      "cell_type": "code",
      "metadata": {
        "id": "Rw0LeVUxb69_"
      },
      "source": [
        "y_names = []\n",
        "for yy in img_name:\n",
        "  name = yy[0]+yy[1]+yy[2]\n",
        "  y_names.append(name)"
      ],
      "execution_count": 5,
      "outputs": []
    },
    {
      "cell_type": "code",
      "metadata": {
        "id": "kHXoHE64b74V"
      },
      "source": [
        "unique_list = []    \n",
        "for yy in y_names:\n",
        "  if yy not in unique_list:\n",
        "    unique_list.append(yy)"
      ],
      "execution_count": 6,
      "outputs": []
    },
    {
      "cell_type": "code",
      "metadata": {
        "id": "BF9OQntxcC1T"
      },
      "source": [
        "n = len(unique_list)\n",
        "y = []\n",
        "for yy in y_names:\n",
        "  for i in range(n):\n",
        "    if(yy == unique_list[i]):\n",
        "      y.append(i)"
      ],
      "execution_count": 7,
      "outputs": []
    },
    {
      "cell_type": "code",
      "metadata": {
        "id": "CkWUcS2mqT9W"
      },
      "source": [
        "x_data = []\n",
        "for xx in x_gray:\n",
        "  x_data.append(xx.ravel())\n",
        "\n",
        "X = pd.DataFrame(x_data)"
      ],
      "execution_count": 8,
      "outputs": []
    },
    {
      "cell_type": "code",
      "metadata": {
        "id": "VICxUJ-rugEF"
      },
      "source": [
        "X_train, X_test, y_train, y_test = train_test_split(X,y,test_size=0.20, shuffle=True, random_state=3)"
      ],
      "execution_count": 9,
      "outputs": []
    },
    {
      "cell_type": "code",
      "metadata": {
        "id": "FZc-xzJXtfVE"
      },
      "source": [
        "scaler_X = preprocessing.MinMaxScaler((-1,1)).fit(X)\n",
        "X_train = scaler_X.transform(X_train)\n",
        "X_test = scaler_X.transform(X_test)"
      ],
      "execution_count": 10,
      "outputs": []
    },
    {
      "cell_type": "code",
      "metadata": {
        "id": "IlvS0BKCvis4"
      },
      "source": [
        "# define a rede neural \n",
        "model = MLPClassifier(solver='lbfgs',activation='tanh',alpha=1e-5,hidden_layer_sizes=(18),\n",
        "                      max_iter=1000,random_state=1)"
      ],
      "execution_count": 11,
      "outputs": []
    },
    {
      "cell_type": "code",
      "metadata": {
        "colab": {
          "base_uri": "https://localhost:8080/"
        },
        "id": "O5JFks4jvqha",
        "outputId": "3754d7b3-1e07-4c31-99a5-9e60afbdcf17"
      },
      "source": [
        "# treina a rede neural\n",
        "model.fit(X_train, y_train)"
      ],
      "execution_count": 12,
      "outputs": [
        {
          "output_type": "execute_result",
          "data": {
            "text/plain": [
              "MLPClassifier(activation='tanh', alpha=1e-05, batch_size='auto', beta_1=0.9,\n",
              "              beta_2=0.999, early_stopping=False, epsilon=1e-08,\n",
              "              hidden_layer_sizes=18, learning_rate='constant',\n",
              "              learning_rate_init=0.001, max_fun=15000, max_iter=1000,\n",
              "              momentum=0.9, n_iter_no_change=10, nesterovs_momentum=True,\n",
              "              power_t=0.5, random_state=1, shuffle=True, solver='lbfgs',\n",
              "              tol=0.0001, validation_fraction=0.1, verbose=False,\n",
              "              warm_start=False)"
            ]
          },
          "metadata": {
            "tags": []
          },
          "execution_count": 12
        }
      ]
    },
    {
      "cell_type": "code",
      "metadata": {
        "id": "LAe9k5PXv3sr"
      },
      "source": [
        "# usa a rede neural treina em calculos para treino e teste\n",
        "y_calc_train=model.predict(X_train)\n",
        "y_calc_test=model.predict(X_test)"
      ],
      "execution_count": 13,
      "outputs": []
    },
    {
      "cell_type": "code",
      "metadata": {
        "colab": {
          "base_uri": "https://localhost:8080/"
        },
        "id": "85MAJRWiwA8j",
        "outputId": "6f29f4e5-8afa-48e8-a090-2401df05bb1a"
      },
      "source": [
        "df = pd.DataFrame({'true':y_train,'calc':y_calc_train})\n",
        "print(pd.crosstab(df['true'],df['calc'])) "
      ],
      "execution_count": 14,
      "outputs": [
        {
          "output_type": "stream",
          "text": [
            "calc   0   1   2   3   4   5\n",
            "true                        \n",
            "0     83   0   0   0   0   0\n",
            "1      0  78   0   0   1   0\n",
            "2      0   0  87   0   1   0\n",
            "3      0   0   0  77   0   0\n",
            "4      0   0   0   0  81   0\n",
            "5      0   0   0   0   0  77\n"
          ],
          "name": "stdout"
        }
      ]
    },
    {
      "cell_type": "code",
      "metadata": {
        "colab": {
          "base_uri": "https://localhost:8080/"
        },
        "id": "iF_RMr19wDQs",
        "outputId": "7cc08aae-3bc1-4c09-adc7-40ce5e6d361a"
      },
      "source": [
        "df = pd.DataFrame({'true':y_test,'calc':y_calc_test})\n",
        "print(pd.crosstab(df['true'],df['calc'])) "
      ],
      "execution_count": 15,
      "outputs": [
        {
          "output_type": "stream",
          "text": [
            "calc  0  1   2   3  4   5\n",
            "true                     \n",
            "0     9  2   6   1  0   2\n",
            "1     2  9   3   3  2   6\n",
            "2     1  1  10   0  1   3\n",
            "3     3  3   7  10  4   0\n",
            "4     0  2   3   1  8   1\n",
            "5     0  1   3   0  2  13\n"
          ],
          "name": "stdout"
        }
      ]
    },
    {
      "cell_type": "code",
      "metadata": {
        "colab": {
          "base_uri": "https://localhost:8080/"
        },
        "id": "O_tqtB5AwtDl",
        "outputId": "9af3d90e-345d-4ce4-cbdd-9dba7ffebf35"
      },
      "source": [
        "unique_list"
      ],
      "execution_count": 16,
      "outputs": [
        {
          "output_type": "execute_result",
          "data": {
            "text/plain": [
              "['car', 'gla', 'met', 'pap', 'pla', 'tra']"
            ]
          },
          "metadata": {
            "tags": []
          },
          "execution_count": 16
        }
      ]
    }
  ]
}
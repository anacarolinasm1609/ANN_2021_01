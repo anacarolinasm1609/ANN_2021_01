{
  "nbformat": 4,
  "nbformat_minor": 0,
  "metadata": {
    "kernelspec": {
      "display_name": "Python 3",
      "language": "python",
      "name": "python3"
    },
    "language_info": {
      "codemirror_mode": {
        "name": "ipython",
        "version": 3
      },
      "file_extension": ".py",
      "mimetype": "text/x-python",
      "name": "python",
      "nbconvert_exporter": "python",
      "pygments_lexer": "ipython3",
      "version": "3.5.4"
    },
    "colab": {
      "name": "ANN_Hydrofoil_abril_14_2021.ipynb",
      "provenance": [],
      "include_colab_link": true
    }
  },
  "cells": [
    {
      "cell_type": "markdown",
      "metadata": {
        "id": "view-in-github",
        "colab_type": "text"
      },
      "source": [
        "<a href=\"https://colab.research.google.com/github/ucfilho/ANN_2021_01/blob/main/ANN_Hydrofoil_abril_14_2021.ipynb\" target=\"_parent\"><img src=\"https://colab.research.google.com/assets/colab-badge.svg\" alt=\"Open In Colab\"/></a>"
      ]
    },
    {
      "cell_type": "code",
      "metadata": {
        "id": "cF6kzanWQZgh"
      },
      "source": [
        "# bibliotecas usadas\n",
        "import numpy as np\n",
        "import pandas as pd\n",
        "import matplotlib.pyplot as plt\n",
        "from sklearn.neural_network import MLPRegressor\n",
        "from sklearn.metrics import mean_squared_error\n",
        "from sklearn import preprocessing\n",
        "from sklearn.metrics import r2_score "
      ],
      "execution_count": 1,
      "outputs": []
    },
    {
      "cell_type": "code",
      "metadata": {
        "id": "Hr4JIAFve5YH"
      },
      "source": [
        ""
      ],
      "execution_count": 1,
      "outputs": []
    },
    {
      "cell_type": "code",
      "metadata": {
        "id": "UW1APYrFQZgl"
      },
      "source": [
        "# para gerar o grafico no browser\n",
        "%matplotlib inline"
      ],
      "execution_count": 2,
      "outputs": []
    },
    {
      "cell_type": "code",
      "metadata": {
        "id": "xDrq_-S8QZgn",
        "colab": {
          "base_uri": "https://localhost:8080/"
        },
        "outputId": "6a056e49-24b3-4e37-baf8-9325ed16b832"
      },
      "source": [
        "!git clone https://github.com/ucfilho/ANN_2021_01/\n",
        "%cd ANN_2021_01"
      ],
      "execution_count": 3,
      "outputs": [
        {
          "output_type": "stream",
          "text": [
            "fatal: destination path 'ANN_2021_01' already exists and is not an empty directory.\n",
            "/content/ANN_2021_01\n"
          ],
          "name": "stdout"
        }
      ]
    },
    {
      "cell_type": "code",
      "metadata": {
        "id": "poo2kvF6QZgo"
      },
      "source": [
        "# leitura dos dados\n",
        "df=pd.read_csv(\"Hydrofoil_ago_29_2018.csv\")\n",
        "#DAT=pd.read_csv(\"Hydrofoil_ago_29_2018.csv\",index_col=\"emit\")"
      ],
      "execution_count": 4,
      "outputs": []
    },
    {
      "cell_type": "code",
      "metadata": {
        "colab": {
          "base_uri": "https://localhost:8080/",
          "height": 136
        },
        "id": "7eQzdB0ucsLP",
        "outputId": "0761047d-91fd-4cc3-e252-1eaefd87e978"
      },
      "source": [
        "df.head(3)"
      ],
      "execution_count": 5,
      "outputs": [
        {
          "output_type": "execute_result",
          "data": {
            "text/html": [
              "<div>\n",
              "<style scoped>\n",
              "    .dataframe tbody tr th:only-of-type {\n",
              "        vertical-align: middle;\n",
              "    }\n",
              "\n",
              "    .dataframe tbody tr th {\n",
              "        vertical-align: top;\n",
              "    }\n",
              "\n",
              "    .dataframe thead th {\n",
              "        text-align: right;\n",
              "    }\n",
              "</style>\n",
              "<table border=\"1\" class=\"dataframe\">\n",
              "  <thead>\n",
              "    <tr style=\"text-align: right;\">\n",
              "      <th></th>\n",
              "      <th>Unnamed: 0</th>\n",
              "      <th>Case</th>\n",
              "      <th>Hydrofoil</th>\n",
              "      <th>Froude</th>\n",
              "      <th>Resistence</th>\n",
              "      <th>Sinkage</th>\n",
              "      <th>Trim</th>\n",
              "      <th>Power</th>\n",
              "    </tr>\n",
              "  </thead>\n",
              "  <tbody>\n",
              "    <tr>\n",
              "      <th>0</th>\n",
              "      <td>1</td>\n",
              "      <td>1</td>\n",
              "      <td>1</td>\n",
              "      <td>0.000000</td>\n",
              "      <td>0.000000</td>\n",
              "      <td>0.000000</td>\n",
              "      <td>0.000000</td>\n",
              "      <td>0.000000</td>\n",
              "    </tr>\n",
              "    <tr>\n",
              "      <th>1</th>\n",
              "      <td>2</td>\n",
              "      <td>2</td>\n",
              "      <td>1</td>\n",
              "      <td>0.103733</td>\n",
              "      <td>2.549729</td>\n",
              "      <td>-0.689028</td>\n",
              "      <td>1.353022</td>\n",
              "      <td>0.950991</td>\n",
              "    </tr>\n",
              "    <tr>\n",
              "      <th>2</th>\n",
              "      <td>3</td>\n",
              "      <td>3</td>\n",
              "      <td>1</td>\n",
              "      <td>0.124480</td>\n",
              "      <td>3.628461</td>\n",
              "      <td>-0.835413</td>\n",
              "      <td>1.346323</td>\n",
              "      <td>1.624000</td>\n",
              "    </tr>\n",
              "  </tbody>\n",
              "</table>\n",
              "</div>"
            ],
            "text/plain": [
              "   Unnamed: 0  Case  Hydrofoil  ...   Sinkage      Trim     Power\n",
              "0           1     1          1  ...  0.000000  0.000000  0.000000\n",
              "1           2     2          1  ... -0.689028  1.353022  0.950991\n",
              "2           3     3          1  ... -0.835413  1.346323  1.624000\n",
              "\n",
              "[3 rows x 8 columns]"
            ]
          },
          "metadata": {
            "tags": []
          },
          "execution_count": 5
        }
      ]
    },
    {
      "cell_type": "code",
      "metadata": {
        "colab": {
          "base_uri": "https://localhost:8080/",
          "height": 136
        },
        "id": "x35V_djsc9LI",
        "outputId": "a07882cb-1ad2-4d2f-9f3a-dc19cdc6a4c4"
      },
      "source": [
        "df.tail(3)"
      ],
      "execution_count": 6,
      "outputs": [
        {
          "output_type": "execute_result",
          "data": {
            "text/html": [
              "<div>\n",
              "<style scoped>\n",
              "    .dataframe tbody tr th:only-of-type {\n",
              "        vertical-align: middle;\n",
              "    }\n",
              "\n",
              "    .dataframe tbody tr th {\n",
              "        vertical-align: top;\n",
              "    }\n",
              "\n",
              "    .dataframe thead th {\n",
              "        text-align: right;\n",
              "    }\n",
              "</style>\n",
              "<table border=\"1\" class=\"dataframe\">\n",
              "  <thead>\n",
              "    <tr style=\"text-align: right;\">\n",
              "      <th></th>\n",
              "      <th>Unnamed: 0</th>\n",
              "      <th>Case</th>\n",
              "      <th>Hydrofoil</th>\n",
              "      <th>Froude</th>\n",
              "      <th>Resistence</th>\n",
              "      <th>Sinkage</th>\n",
              "      <th>Trim</th>\n",
              "      <th>Power</th>\n",
              "    </tr>\n",
              "  </thead>\n",
              "  <tbody>\n",
              "    <tr>\n",
              "      <th>56</th>\n",
              "      <td>57</td>\n",
              "      <td>57</td>\n",
              "      <td>4</td>\n",
              "      <td>2.074661</td>\n",
              "      <td>274.586200</td>\n",
              "      <td>98.242317</td>\n",
              "      <td>2.955929</td>\n",
              "      <td>2048.288760</td>\n",
              "    </tr>\n",
              "    <tr>\n",
              "      <th>57</th>\n",
              "      <td>58</td>\n",
              "      <td>58</td>\n",
              "      <td>4</td>\n",
              "      <td>2.157647</td>\n",
              "      <td>291.257505</td>\n",
              "      <td>98.290939</td>\n",
              "      <td>2.932024</td>\n",
              "      <td>2259.555115</td>\n",
              "    </tr>\n",
              "    <tr>\n",
              "      <th>58</th>\n",
              "      <td>59</td>\n",
              "      <td>59</td>\n",
              "      <td>4</td>\n",
              "      <td>2.240634</td>\n",
              "      <td>286.354180</td>\n",
              "      <td>104.693695</td>\n",
              "      <td>2.979833</td>\n",
              "      <td>2306.958369</td>\n",
              "    </tr>\n",
              "  </tbody>\n",
              "</table>\n",
              "</div>"
            ],
            "text/plain": [
              "    Unnamed: 0  Case  Hydrofoil  ...     Sinkage      Trim        Power\n",
              "56          57    57          4  ...   98.242317  2.955929  2048.288760\n",
              "57          58    58          4  ...   98.290939  2.932024  2259.555115\n",
              "58          59    59          4  ...  104.693695  2.979833  2306.958369\n",
              "\n",
              "[3 rows x 8 columns]"
            ]
          },
          "metadata": {
            "tags": []
          },
          "execution_count": 6
        }
      ]
    },
    {
      "cell_type": "code",
      "metadata": {
        "id": "fwitNT_tQZgo",
        "colab": {
          "base_uri": "https://localhost:8080/",
          "height": 35
        },
        "outputId": "e057dc6d-c89a-4263-da2c-4ae655e7936d"
      },
      "source": [
        "# separa as colunas de interesse (filtrar)\n",
        "'''\n",
        "Index=[2,3,4,5,6,7]\n",
        "Dat_Select=[]\n",
        "Dat_Select=df.iloc[:,Index].copy()\n",
        "'''"
      ],
      "execution_count": 7,
      "outputs": [
        {
          "output_type": "execute_result",
          "data": {
            "application/vnd.google.colaboratory.intrinsic+json": {
              "type": "string"
            },
            "text/plain": [
              "'\\nIndex=[2,3,4,5,6,7]\\nDat_Select=[]\\nDat_Select=df.iloc[:,Index].copy()\\n'"
            ]
          },
          "metadata": {
            "tags": []
          },
          "execution_count": 7
        }
      ]
    },
    {
      "cell_type": "code",
      "metadata": {
        "id": "w1dEftL7brsj"
      },
      "source": [
        "Dat_Select=df.iloc[:,2:]"
      ],
      "execution_count": 8,
      "outputs": []
    },
    {
      "cell_type": "code",
      "metadata": {
        "colab": {
          "base_uri": "https://localhost:8080/",
          "height": 136
        },
        "id": "3ZSJRIGzfBse",
        "outputId": "6f658095-0dde-4618-d5ee-88a43127c5a3"
      },
      "source": [
        "Dat_Select.head(3)"
      ],
      "execution_count": 9,
      "outputs": [
        {
          "output_type": "execute_result",
          "data": {
            "text/html": [
              "<div>\n",
              "<style scoped>\n",
              "    .dataframe tbody tr th:only-of-type {\n",
              "        vertical-align: middle;\n",
              "    }\n",
              "\n",
              "    .dataframe tbody tr th {\n",
              "        vertical-align: top;\n",
              "    }\n",
              "\n",
              "    .dataframe thead th {\n",
              "        text-align: right;\n",
              "    }\n",
              "</style>\n",
              "<table border=\"1\" class=\"dataframe\">\n",
              "  <thead>\n",
              "    <tr style=\"text-align: right;\">\n",
              "      <th></th>\n",
              "      <th>Hydrofoil</th>\n",
              "      <th>Froude</th>\n",
              "      <th>Resistence</th>\n",
              "      <th>Sinkage</th>\n",
              "      <th>Trim</th>\n",
              "      <th>Power</th>\n",
              "    </tr>\n",
              "  </thead>\n",
              "  <tbody>\n",
              "    <tr>\n",
              "      <th>0</th>\n",
              "      <td>1</td>\n",
              "      <td>0.000000</td>\n",
              "      <td>0.000000</td>\n",
              "      <td>0.000000</td>\n",
              "      <td>0.000000</td>\n",
              "      <td>0.000000</td>\n",
              "    </tr>\n",
              "    <tr>\n",
              "      <th>1</th>\n",
              "      <td>1</td>\n",
              "      <td>0.103733</td>\n",
              "      <td>2.549729</td>\n",
              "      <td>-0.689028</td>\n",
              "      <td>1.353022</td>\n",
              "      <td>0.950991</td>\n",
              "    </tr>\n",
              "    <tr>\n",
              "      <th>2</th>\n",
              "      <td>1</td>\n",
              "      <td>0.124480</td>\n",
              "      <td>3.628461</td>\n",
              "      <td>-0.835413</td>\n",
              "      <td>1.346323</td>\n",
              "      <td>1.624000</td>\n",
              "    </tr>\n",
              "  </tbody>\n",
              "</table>\n",
              "</div>"
            ],
            "text/plain": [
              "   Hydrofoil    Froude  Resistence   Sinkage      Trim     Power\n",
              "0          1  0.000000    0.000000  0.000000  0.000000  0.000000\n",
              "1          1  0.103733    2.549729 -0.689028  1.353022  0.950991\n",
              "2          1  0.124480    3.628461 -0.835413  1.346323  1.624000"
            ]
          },
          "metadata": {
            "tags": []
          },
          "execution_count": 9
        }
      ]
    },
    {
      "cell_type": "code",
      "metadata": {
        "id": "FEvCqRGUQZgr"
      },
      "source": [
        "# separa os dados em normatizados e originais\n",
        "DAT_OLD=[]\n",
        "DAT_OLD=Dat_Select.copy()\n"
      ],
      "execution_count": 10,
      "outputs": []
    },
    {
      "cell_type": "code",
      "metadata": {
        "id": "W1D-K3kZfdKC"
      },
      "source": [
        "scaler = preprocessing.MinMaxScaler().fit(Dat_Select)\n",
        "scalerY = preprocessing.MinMaxScaler().fit(Dat_Select['Power'])\n",
        "DAT = scaler.transform(Dat_Select)"
      ],
      "execution_count": 11,
      "outputs": []
    },
    {
      "cell_type": "code",
      "metadata": {
        "id": "ZNpgt0Gpg4I7"
      },
      "source": [
        "DAT = pd.DataFrame(DAT)"
      ],
      "execution_count": 12,
      "outputs": []
    },
    {
      "cell_type": "code",
      "metadata": {
        "colab": {
          "base_uri": "https://localhost:8080/",
          "height": 136
        },
        "id": "aWDu_YkegtpP",
        "outputId": "a169b873-5091-4ae6-9a28-9aac1ace57b0"
      },
      "source": [
        "DAT.tail(3)"
      ],
      "execution_count": 13,
      "outputs": [
        {
          "output_type": "execute_result",
          "data": {
            "text/html": [
              "<div>\n",
              "<style scoped>\n",
              "    .dataframe tbody tr th:only-of-type {\n",
              "        vertical-align: middle;\n",
              "    }\n",
              "\n",
              "    .dataframe tbody tr th {\n",
              "        vertical-align: top;\n",
              "    }\n",
              "\n",
              "    .dataframe thead th {\n",
              "        text-align: right;\n",
              "    }\n",
              "</style>\n",
              "<table border=\"1\" class=\"dataframe\">\n",
              "  <thead>\n",
              "    <tr style=\"text-align: right;\">\n",
              "      <th></th>\n",
              "      <th>0</th>\n",
              "      <th>1</th>\n",
              "      <th>2</th>\n",
              "      <th>3</th>\n",
              "      <th>4</th>\n",
              "      <th>5</th>\n",
              "    </tr>\n",
              "  </thead>\n",
              "  <tbody>\n",
              "    <tr>\n",
              "      <th>56</th>\n",
              "      <td>1.0</td>\n",
              "      <td>0.864304</td>\n",
              "      <td>0.729167</td>\n",
              "      <td>0.941981</td>\n",
              "      <td>0.590432</td>\n",
              "      <td>0.630222</td>\n",
              "    </tr>\n",
              "    <tr>\n",
              "      <th>57</th>\n",
              "      <td>1.0</td>\n",
              "      <td>0.898876</td>\n",
              "      <td>0.773438</td>\n",
              "      <td>0.942418</td>\n",
              "      <td>0.585657</td>\n",
              "      <td>0.695225</td>\n",
              "    </tr>\n",
              "    <tr>\n",
              "      <th>58</th>\n",
              "      <td>1.0</td>\n",
              "      <td>0.933449</td>\n",
              "      <td>0.760417</td>\n",
              "      <td>1.000000</td>\n",
              "      <td>0.595207</td>\n",
              "      <td>0.709810</td>\n",
              "    </tr>\n",
              "  </tbody>\n",
              "</table>\n",
              "</div>"
            ],
            "text/plain": [
              "      0         1         2         3         4         5\n",
              "56  1.0  0.864304  0.729167  0.941981  0.590432  0.630222\n",
              "57  1.0  0.898876  0.773438  0.942418  0.585657  0.695225\n",
              "58  1.0  0.933449  0.760417  1.000000  0.595207  0.709810"
            ]
          },
          "metadata": {
            "tags": []
          },
          "execution_count": 13
        }
      ]
    },
    {
      "cell_type": "code",
      "metadata": {
        "id": "ko4Xo7pvQZgr"
      },
      "source": [
        "# separa os dados em treino e teste\n",
        "train=DAT.sample(frac=0.8,random_state=None) # poderia ser frac=0.5? sim ou nao?\n",
        "test=DAT.drop(train.index)"
      ],
      "execution_count": 14,
      "outputs": []
    },
    {
      "cell_type": "code",
      "metadata": {
        "colab": {
          "base_uri": "https://localhost:8080/",
          "height": 136
        },
        "id": "Mp7eIh_Cjrf7",
        "outputId": "2e967315-7b96-4347-afb1-7e650ac788d6"
      },
      "source": [
        "train.head(3)"
      ],
      "execution_count": 15,
      "outputs": [
        {
          "output_type": "execute_result",
          "data": {
            "text/html": [
              "<div>\n",
              "<style scoped>\n",
              "    .dataframe tbody tr th:only-of-type {\n",
              "        vertical-align: middle;\n",
              "    }\n",
              "\n",
              "    .dataframe tbody tr th {\n",
              "        vertical-align: top;\n",
              "    }\n",
              "\n",
              "    .dataframe thead th {\n",
              "        text-align: right;\n",
              "    }\n",
              "</style>\n",
              "<table border=\"1\" class=\"dataframe\">\n",
              "  <thead>\n",
              "    <tr style=\"text-align: right;\">\n",
              "      <th></th>\n",
              "      <th>0</th>\n",
              "      <th>1</th>\n",
              "      <th>2</th>\n",
              "      <th>3</th>\n",
              "      <th>4</th>\n",
              "      <th>5</th>\n",
              "    </tr>\n",
              "  </thead>\n",
              "  <tbody>\n",
              "    <tr>\n",
              "      <th>9</th>\n",
              "      <td>0.000000</td>\n",
              "      <td>0.432152</td>\n",
              "      <td>0.490625</td>\n",
              "      <td>0.415843</td>\n",
              "      <td>0.898023</td>\n",
              "      <td>0.212025</td>\n",
              "    </tr>\n",
              "    <tr>\n",
              "      <th>22</th>\n",
              "      <td>0.333333</td>\n",
              "      <td>0.432152</td>\n",
              "      <td>0.471354</td>\n",
              "      <td>0.454815</td>\n",
              "      <td>0.803219</td>\n",
              "      <td>0.203697</td>\n",
              "    </tr>\n",
              "    <tr>\n",
              "      <th>45</th>\n",
              "      <td>1.000000</td>\n",
              "      <td>0.000000</td>\n",
              "      <td>0.000000</td>\n",
              "      <td>0.058458</td>\n",
              "      <td>0.000000</td>\n",
              "      <td>0.000000</td>\n",
              "    </tr>\n",
              "  </tbody>\n",
              "</table>\n",
              "</div>"
            ],
            "text/plain": [
              "           0         1         2         3         4         5\n",
              "9   0.000000  0.432152  0.490625  0.415843  0.898023  0.212025\n",
              "22  0.333333  0.432152  0.471354  0.454815  0.803219  0.203697\n",
              "45  1.000000  0.000000  0.000000  0.058458  0.000000  0.000000"
            ]
          },
          "metadata": {
            "tags": []
          },
          "execution_count": 15
        }
      ]
    },
    {
      "cell_type": "code",
      "metadata": {
        "colab": {
          "base_uri": "https://localhost:8080/",
          "height": 136
        },
        "id": "3AtpsE8nkIAg",
        "outputId": "a9407856-daba-4405-8f68-ccaee7a2d8a4"
      },
      "source": [
        "test.head(3)"
      ],
      "execution_count": 16,
      "outputs": [
        {
          "output_type": "execute_result",
          "data": {
            "text/html": [
              "<div>\n",
              "<style scoped>\n",
              "    .dataframe tbody tr th:only-of-type {\n",
              "        vertical-align: middle;\n",
              "    }\n",
              "\n",
              "    .dataframe tbody tr th {\n",
              "        vertical-align: top;\n",
              "    }\n",
              "\n",
              "    .dataframe thead th {\n",
              "        text-align: right;\n",
              "    }\n",
              "</style>\n",
              "<table border=\"1\" class=\"dataframe\">\n",
              "  <thead>\n",
              "    <tr style=\"text-align: right;\">\n",
              "      <th></th>\n",
              "      <th>0</th>\n",
              "      <th>1</th>\n",
              "      <th>2</th>\n",
              "      <th>3</th>\n",
              "      <th>4</th>\n",
              "      <th>5</th>\n",
              "    </tr>\n",
              "  </thead>\n",
              "  <tbody>\n",
              "    <tr>\n",
              "      <th>5</th>\n",
              "      <td>0.0</td>\n",
              "      <td>0.086430</td>\n",
              "      <td>0.027526</td>\n",
              "      <td>0.044908</td>\n",
              "      <td>0.273461</td>\n",
              "      <td>0.002379</td>\n",
              "    </tr>\n",
              "    <tr>\n",
              "      <th>7</th>\n",
              "      <td>0.0</td>\n",
              "      <td>0.259291</td>\n",
              "      <td>0.344010</td>\n",
              "      <td>0.144012</td>\n",
              "      <td>0.880757</td>\n",
              "      <td>0.089199</td>\n",
              "    </tr>\n",
              "    <tr>\n",
              "      <th>8</th>\n",
              "      <td>0.0</td>\n",
              "      <td>0.345722</td>\n",
              "      <td>0.408333</td>\n",
              "      <td>0.283530</td>\n",
              "      <td>0.854928</td>\n",
              "      <td>0.141170</td>\n",
              "    </tr>\n",
              "  </tbody>\n",
              "</table>\n",
              "</div>"
            ],
            "text/plain": [
              "     0         1         2         3         4         5\n",
              "5  0.0  0.086430  0.027526  0.044908  0.273461  0.002379\n",
              "7  0.0  0.259291  0.344010  0.144012  0.880757  0.089199\n",
              "8  0.0  0.345722  0.408333  0.283530  0.854928  0.141170"
            ]
          },
          "metadata": {
            "tags": []
          },
          "execution_count": 16
        }
      ]
    },
    {
      "cell_type": "code",
      "metadata": {
        "id": "02ArvMOIQZgs"
      },
      "source": [
        "# obtem as variaveis independentes (treino e teste)\n",
        "x_train=train.iloc[:,[0,1]]\n",
        "x_test=test.iloc[:,[0,1]]\n",
        "X_OLD=DAT_OLD.iloc[:,[0,1]]"
      ],
      "execution_count": 17,
      "outputs": []
    },
    {
      "cell_type": "code",
      "metadata": {
        "id": "QQQyRXq4QZgs"
      },
      "source": [
        "# obtem a dependente potência (treino e teste)\n",
        "Index=[5]\n",
        "y_train=train.iloc[:,Index]\n",
        "y_test=test.iloc[:,Index]\n",
        "Y_OLD=DAT_OLD.iloc[:,Index]"
      ],
      "execution_count": 18,
      "outputs": []
    },
    {
      "cell_type": "code",
      "metadata": {
        "id": "BpNn_IogQZgt"
      },
      "source": [
        "# define a rede neural \n",
        "model = MLPRegressor(solver='lbfgs',activation='tanh',alpha=1e-5,hidden_layer_sizes=(9, 8),random_state=1)"
      ],
      "execution_count": 19,
      "outputs": []
    },
    {
      "cell_type": "code",
      "metadata": {
        "id": "Y8BteMytQZgu",
        "colab": {
          "base_uri": "https://localhost:8080/"
        },
        "outputId": "9b4c4a69-73c1-437f-e2c6-9769bceb1c13"
      },
      "source": [
        "# treina a rede neural\n",
        "model.fit(x_train, y_train)"
      ],
      "execution_count": 20,
      "outputs": [
        {
          "output_type": "stream",
          "text": [
            "/usr/local/lib/python3.7/dist-packages/sklearn/neural_network/_multilayer_perceptron.py:1342: DataConversionWarning: A column-vector y was passed when a 1d array was expected. Please change the shape of y to (n_samples, ), for example using ravel().\n",
            "  y = column_or_1d(y, warn=True)\n"
          ],
          "name": "stderr"
        },
        {
          "output_type": "execute_result",
          "data": {
            "text/plain": [
              "MLPRegressor(activation='tanh', alpha=1e-05, batch_size='auto', beta_1=0.9,\n",
              "             beta_2=0.999, early_stopping=False, epsilon=1e-08,\n",
              "             hidden_layer_sizes=(9, 8), learning_rate='constant',\n",
              "             learning_rate_init=0.001, max_fun=15000, max_iter=200,\n",
              "             momentum=0.9, n_iter_no_change=10, nesterovs_momentum=True,\n",
              "             power_t=0.5, random_state=1, shuffle=True, solver='lbfgs',\n",
              "             tol=0.0001, validation_fraction=0.1, verbose=False,\n",
              "             warm_start=False)"
            ]
          },
          "metadata": {
            "tags": []
          },
          "execution_count": 20
        }
      ]
    },
    {
      "cell_type": "code",
      "metadata": {
        "id": "smaQ8uSGQZgv"
      },
      "source": [
        "# usa a rede neural treina em calculos para treino e teste\n",
        "y_calc_train=model.predict(x_train)\n",
        "y_calc_test=model.predict(x_test)"
      ],
      "execution_count": 21,
      "outputs": []
    },
    {
      "cell_type": "code",
      "metadata": {
        "id": "goF4lWLlQZgv"
      },
      "source": [
        "# transforma a saida da rede em dataframe \n",
        "y_calc_train=pd.DataFrame(y_calc_train)\n",
        "y_calc_test=pd.DataFrame(y_calc_test)\n",
        "col_names=list(y_train)\n",
        "y_calc_train.columns = col_names\n",
        "y_calc_test.columns = col_names"
      ],
      "execution_count": 22,
      "outputs": []
    },
    {
      "cell_type": "code",
      "metadata": {
        "id": "aVJXbUosQZgw",
        "colab": {
          "base_uri": "https://localhost:8080/",
          "height": 195
        },
        "outputId": "c2b670f2-31b0-4998-b663-8f7a5c5fec8f"
      },
      "source": [
        "# transforma dos dados calculados na forma original (nao normatizado)\n",
        "y_calc_train=scalerY.inverse_transform(y_calc_train)\n",
        "y_calc_test=scalerY.inverse_transform(y_calc_test)"
      ],
      "execution_count": 23,
      "outputs": [
        {
          "output_type": "error",
          "ename": "NameError",
          "evalue": "ignored",
          "traceback": [
            "\u001b[0;31m---------------------------------------------------------------------------\u001b[0m",
            "\u001b[0;31mNameError\u001b[0m                                 Traceback (most recent call last)",
            "\u001b[0;32m<ipython-input-23-0c8bb15a6934>\u001b[0m in \u001b[0;36m<module>\u001b[0;34m()\u001b[0m\n\u001b[1;32m      1\u001b[0m \u001b[0;31m# transforma dos dados calculados na forma original (nao normatizado)\u001b[0m\u001b[0;34m\u001b[0m\u001b[0;34m\u001b[0m\u001b[0;34m\u001b[0m\u001b[0m\n\u001b[0;32m----> 2\u001b[0;31m \u001b[0my_calc_train\u001b[0m\u001b[0;34m=\u001b[0m\u001b[0mOriginal\u001b[0m\u001b[0;34m(\u001b[0m\u001b[0my_calc_train\u001b[0m\u001b[0;34m,\u001b[0m\u001b[0mY_OLD\u001b[0m\u001b[0;34m)\u001b[0m\u001b[0;34m\u001b[0m\u001b[0;34m\u001b[0m\u001b[0m\n\u001b[0m\u001b[1;32m      3\u001b[0m \u001b[0my_calc_test\u001b[0m\u001b[0;34m=\u001b[0m\u001b[0mOriginal\u001b[0m\u001b[0;34m(\u001b[0m\u001b[0my_calc_test\u001b[0m\u001b[0;34m,\u001b[0m\u001b[0mY_OLD\u001b[0m\u001b[0;34m)\u001b[0m\u001b[0;34m\u001b[0m\u001b[0;34m\u001b[0m\u001b[0m\n",
            "\u001b[0;31mNameError\u001b[0m: name 'Original' is not defined"
          ]
        }
      ]
    },
    {
      "cell_type": "code",
      "metadata": {
        "id": "RwacCDHpQZgx"
      },
      "source": [
        "# recupera os dados originais \n",
        "test=[]\n",
        "train=[]\n",
        "train=Original(y_train,Y_OLD)\n",
        "test=Original(y_test,Y_OLD)"
      ],
      "execution_count": null,
      "outputs": []
    },
    {
      "cell_type": "code",
      "metadata": {
        "id": "90NHomn5q9Eh"
      },
      "source": [
        "train"
      ],
      "execution_count": null,
      "outputs": []
    },
    {
      "cell_type": "code",
      "metadata": {
        "id": "R7063DtLQZgx"
      },
      "source": [
        "# escolhe uma das resposta para fazer o grafico (resistencia-treino)\n",
        "resist_obs_train=[]\n",
        "resist_calc_train=[]\n",
        "resist_calc_train=y_calc_train['Power'].copy()\n",
        "resist_obs_train=train['Power'].copy()"
      ],
      "execution_count": null,
      "outputs": []
    },
    {
      "cell_type": "code",
      "metadata": {
        "id": "TDa9JkZjQZgy"
      },
      "source": [
        "# escolhe uma das resposta para fazer o grafico (resistencia-teste)\n",
        "resist_obs_test=[]\n",
        "resist_calc_test=[]\n",
        "resist_calc_test=y_calc_test['Power'].copy()\n",
        "resist_obs_test=test['Power'].copy()"
      ],
      "execution_count": null,
      "outputs": []
    },
    {
      "cell_type": "code",
      "metadata": {
        "id": "RZrkRZ3GQZgz"
      },
      "source": [
        "# expressa os dois dados em figura\n",
        "fig = plt.figure()\n",
        "ax1 = fig.add_subplot(111)\n",
        "\n",
        "ax1.scatter(resist_obs_test,resist_calc_test, s=10, c='b', marker=\"s\", label='teste')\n",
        "ax1.scatter(resist_obs_train,resist_calc_train, s=10, c='r', marker=\"o\", label='treino')\n",
        "plt.legend(loc='upper left')\n",
        "plt.ylabel('Power Calc')\n",
        "plt.xlabel('Power Obs')\n",
        "plt.show()"
      ],
      "execution_count": null,
      "outputs": []
    },
    {
      "cell_type": "code",
      "metadata": {
        "id": "aj_XteG2QZg0"
      },
      "source": [
        "mse=mean_squared_error(resist_obs_test,resist_calc_test)\n",
        "print(\"MSE teste=\",mse)\n",
        "R2=r2_score(resist_obs_test,resist_calc_test)\n",
        "print(\"R^2 teste=\",R2)"
      ],
      "execution_count": null,
      "outputs": []
    },
    {
      "cell_type": "code",
      "metadata": {
        "id": "efLwFnUqQZg1"
      },
      "source": [
        "mse=mean_squared_error(resist_obs_train,resist_calc_train)\n",
        "print(\"MSE treino=\",mse)\n",
        "R2=r2_score(resist_obs_train,resist_calc_train)\n",
        "print(\"R^2 treino=\",R2)"
      ],
      "execution_count": null,
      "outputs": []
    }
  ]
}
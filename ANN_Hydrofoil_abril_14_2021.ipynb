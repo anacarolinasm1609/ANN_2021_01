{
  "nbformat": 4,
  "nbformat_minor": 0,
  "metadata": {
    "kernelspec": {
      "display_name": "Python 3",
      "language": "python",
      "name": "python3"
    },
    "language_info": {
      "codemirror_mode": {
        "name": "ipython",
        "version": 3
      },
      "file_extension": ".py",
      "mimetype": "text/x-python",
      "name": "python",
      "nbconvert_exporter": "python",
      "pygments_lexer": "ipython3",
      "version": "3.5.4"
    },
    "colab": {
      "name": "ANN_Hydrofoil_abril_14_2021.ipynb",
      "provenance": [],
      "include_colab_link": true
    }
  },
  "cells": [
    {
      "cell_type": "markdown",
      "metadata": {
        "id": "view-in-github",
        "colab_type": "text"
      },
      "source": [
        "<a href=\"https://colab.research.google.com/github/ucfilho/ANN_2021_01/blob/main/ANN_Hydrofoil_abril_14_2021.ipynb\" target=\"_parent\"><img src=\"https://colab.research.google.com/assets/colab-badge.svg\" alt=\"Open In Colab\"/></a>"
      ]
    },
    {
      "cell_type": "code",
      "metadata": {
        "id": "cF6kzanWQZgh"
      },
      "source": [
        "# bibliotecas usadas\n",
        "import numpy as np\n",
        "import pandas as pd\n",
        "import matplotlib.pyplot as plt\n",
        "from sklearn.neural_network import MLPRegressor\n",
        "from sklearn.model_selection import train_test_split\n",
        "from sklearn.metrics import mean_squared_error\n",
        "from sklearn import preprocessing\n",
        "from sklearn.metrics import r2_score "
      ],
      "execution_count": 1,
      "outputs": []
    },
    {
      "cell_type": "code",
      "metadata": {
        "id": "UW1APYrFQZgl"
      },
      "source": [
        "# para gerar o grafico no browser\n",
        "%matplotlib inline"
      ],
      "execution_count": 2,
      "outputs": []
    },
    {
      "cell_type": "code",
      "metadata": {
        "id": "xDrq_-S8QZgn",
        "colab": {
          "base_uri": "https://localhost:8080/"
        },
        "outputId": "a1d50681-84b1-49e8-ab6b-fa3abc690fa7"
      },
      "source": [
        "!git clone https://github.com/ucfilho/ANN_2021_01/\n",
        "%cd ANN_2021_01"
      ],
      "execution_count": 3,
      "outputs": [
        {
          "output_type": "stream",
          "text": [
            "fatal: destination path 'ANN_2021_01' already exists and is not an empty directory.\n",
            "/content/ANN_2021_01\n"
          ],
          "name": "stdout"
        }
      ]
    },
    {
      "cell_type": "code",
      "metadata": {
        "id": "poo2kvF6QZgo"
      },
      "source": [
        "# leitura dos dados\n",
        "df=pd.read_csv(\"Hydrofoil_ago_29_2018.csv\")\n",
        "#DAT=pd.read_csv(\"Hydrofoil_ago_29_2018.csv\",index_col=\"emit\")"
      ],
      "execution_count": 4,
      "outputs": []
    },
    {
      "cell_type": "code",
      "metadata": {
        "colab": {
          "base_uri": "https://localhost:8080/",
          "height": 141
        },
        "id": "7eQzdB0ucsLP",
        "outputId": "b6d191a1-e318-4c9d-b63b-44dcc721b8f4"
      },
      "source": [
        "df.head(3)"
      ],
      "execution_count": 5,
      "outputs": [
        {
          "output_type": "execute_result",
          "data": {
            "text/html": [
              "<div>\n",
              "<style scoped>\n",
              "    .dataframe tbody tr th:only-of-type {\n",
              "        vertical-align: middle;\n",
              "    }\n",
              "\n",
              "    .dataframe tbody tr th {\n",
              "        vertical-align: top;\n",
              "    }\n",
              "\n",
              "    .dataframe thead th {\n",
              "        text-align: right;\n",
              "    }\n",
              "</style>\n",
              "<table border=\"1\" class=\"dataframe\">\n",
              "  <thead>\n",
              "    <tr style=\"text-align: right;\">\n",
              "      <th></th>\n",
              "      <th>Unnamed: 0</th>\n",
              "      <th>Case</th>\n",
              "      <th>Hydrofoil</th>\n",
              "      <th>Froude</th>\n",
              "      <th>Resistence</th>\n",
              "      <th>Sinkage</th>\n",
              "      <th>Trim</th>\n",
              "      <th>Power</th>\n",
              "    </tr>\n",
              "  </thead>\n",
              "  <tbody>\n",
              "    <tr>\n",
              "      <th>0</th>\n",
              "      <td>1</td>\n",
              "      <td>1</td>\n",
              "      <td>1</td>\n",
              "      <td>0.000000</td>\n",
              "      <td>0.000000</td>\n",
              "      <td>0.000000</td>\n",
              "      <td>0.000000</td>\n",
              "      <td>0.000000</td>\n",
              "    </tr>\n",
              "    <tr>\n",
              "      <th>1</th>\n",
              "      <td>2</td>\n",
              "      <td>2</td>\n",
              "      <td>1</td>\n",
              "      <td>0.103733</td>\n",
              "      <td>2.549729</td>\n",
              "      <td>-0.689028</td>\n",
              "      <td>1.353022</td>\n",
              "      <td>0.950991</td>\n",
              "    </tr>\n",
              "    <tr>\n",
              "      <th>2</th>\n",
              "      <td>3</td>\n",
              "      <td>3</td>\n",
              "      <td>1</td>\n",
              "      <td>0.124480</td>\n",
              "      <td>3.628461</td>\n",
              "      <td>-0.835413</td>\n",
              "      <td>1.346323</td>\n",
              "      <td>1.624000</td>\n",
              "    </tr>\n",
              "  </tbody>\n",
              "</table>\n",
              "</div>"
            ],
            "text/plain": [
              "   Unnamed: 0  Case  Hydrofoil  ...   Sinkage      Trim     Power\n",
              "0           1     1          1  ...  0.000000  0.000000  0.000000\n",
              "1           2     2          1  ... -0.689028  1.353022  0.950991\n",
              "2           3     3          1  ... -0.835413  1.346323  1.624000\n",
              "\n",
              "[3 rows x 8 columns]"
            ]
          },
          "metadata": {
            "tags": []
          },
          "execution_count": 5
        }
      ]
    },
    {
      "cell_type": "code",
      "metadata": {
        "colab": {
          "base_uri": "https://localhost:8080/",
          "height": 141
        },
        "id": "x35V_djsc9LI",
        "outputId": "e7f15859-6806-463e-9e0f-cace85bc47e5"
      },
      "source": [
        "df.tail(3)"
      ],
      "execution_count": 6,
      "outputs": [
        {
          "output_type": "execute_result",
          "data": {
            "text/html": [
              "<div>\n",
              "<style scoped>\n",
              "    .dataframe tbody tr th:only-of-type {\n",
              "        vertical-align: middle;\n",
              "    }\n",
              "\n",
              "    .dataframe tbody tr th {\n",
              "        vertical-align: top;\n",
              "    }\n",
              "\n",
              "    .dataframe thead th {\n",
              "        text-align: right;\n",
              "    }\n",
              "</style>\n",
              "<table border=\"1\" class=\"dataframe\">\n",
              "  <thead>\n",
              "    <tr style=\"text-align: right;\">\n",
              "      <th></th>\n",
              "      <th>Unnamed: 0</th>\n",
              "      <th>Case</th>\n",
              "      <th>Hydrofoil</th>\n",
              "      <th>Froude</th>\n",
              "      <th>Resistence</th>\n",
              "      <th>Sinkage</th>\n",
              "      <th>Trim</th>\n",
              "      <th>Power</th>\n",
              "    </tr>\n",
              "  </thead>\n",
              "  <tbody>\n",
              "    <tr>\n",
              "      <th>56</th>\n",
              "      <td>57</td>\n",
              "      <td>57</td>\n",
              "      <td>4</td>\n",
              "      <td>2.074661</td>\n",
              "      <td>274.586200</td>\n",
              "      <td>98.242317</td>\n",
              "      <td>2.955929</td>\n",
              "      <td>2048.288760</td>\n",
              "    </tr>\n",
              "    <tr>\n",
              "      <th>57</th>\n",
              "      <td>58</td>\n",
              "      <td>58</td>\n",
              "      <td>4</td>\n",
              "      <td>2.157647</td>\n",
              "      <td>291.257505</td>\n",
              "      <td>98.290939</td>\n",
              "      <td>2.932024</td>\n",
              "      <td>2259.555115</td>\n",
              "    </tr>\n",
              "    <tr>\n",
              "      <th>58</th>\n",
              "      <td>59</td>\n",
              "      <td>59</td>\n",
              "      <td>4</td>\n",
              "      <td>2.240634</td>\n",
              "      <td>286.354180</td>\n",
              "      <td>104.693695</td>\n",
              "      <td>2.979833</td>\n",
              "      <td>2306.958369</td>\n",
              "    </tr>\n",
              "  </tbody>\n",
              "</table>\n",
              "</div>"
            ],
            "text/plain": [
              "    Unnamed: 0  Case  Hydrofoil  ...     Sinkage      Trim        Power\n",
              "56          57    57          4  ...   98.242317  2.955929  2048.288760\n",
              "57          58    58          4  ...   98.290939  2.932024  2259.555115\n",
              "58          59    59          4  ...  104.693695  2.979833  2306.958369\n",
              "\n",
              "[3 rows x 8 columns]"
            ]
          },
          "metadata": {
            "tags": []
          },
          "execution_count": 6
        }
      ]
    },
    {
      "cell_type": "code",
      "metadata": {
        "id": "w1dEftL7brsj"
      },
      "source": [
        "Dat_Select=df.iloc[:,2:]"
      ],
      "execution_count": 7,
      "outputs": []
    },
    {
      "cell_type": "code",
      "metadata": {
        "colab": {
          "base_uri": "https://localhost:8080/",
          "height": 141
        },
        "id": "3ZSJRIGzfBse",
        "outputId": "571bbb84-a003-4eec-cffd-a2617147224b"
      },
      "source": [
        "Dat_Select.head(3)"
      ],
      "execution_count": 8,
      "outputs": [
        {
          "output_type": "execute_result",
          "data": {
            "text/html": [
              "<div>\n",
              "<style scoped>\n",
              "    .dataframe tbody tr th:only-of-type {\n",
              "        vertical-align: middle;\n",
              "    }\n",
              "\n",
              "    .dataframe tbody tr th {\n",
              "        vertical-align: top;\n",
              "    }\n",
              "\n",
              "    .dataframe thead th {\n",
              "        text-align: right;\n",
              "    }\n",
              "</style>\n",
              "<table border=\"1\" class=\"dataframe\">\n",
              "  <thead>\n",
              "    <tr style=\"text-align: right;\">\n",
              "      <th></th>\n",
              "      <th>Hydrofoil</th>\n",
              "      <th>Froude</th>\n",
              "      <th>Resistence</th>\n",
              "      <th>Sinkage</th>\n",
              "      <th>Trim</th>\n",
              "      <th>Power</th>\n",
              "    </tr>\n",
              "  </thead>\n",
              "  <tbody>\n",
              "    <tr>\n",
              "      <th>0</th>\n",
              "      <td>1</td>\n",
              "      <td>0.000000</td>\n",
              "      <td>0.000000</td>\n",
              "      <td>0.000000</td>\n",
              "      <td>0.000000</td>\n",
              "      <td>0.000000</td>\n",
              "    </tr>\n",
              "    <tr>\n",
              "      <th>1</th>\n",
              "      <td>1</td>\n",
              "      <td>0.103733</td>\n",
              "      <td>2.549729</td>\n",
              "      <td>-0.689028</td>\n",
              "      <td>1.353022</td>\n",
              "      <td>0.950991</td>\n",
              "    </tr>\n",
              "    <tr>\n",
              "      <th>2</th>\n",
              "      <td>1</td>\n",
              "      <td>0.124480</td>\n",
              "      <td>3.628461</td>\n",
              "      <td>-0.835413</td>\n",
              "      <td>1.346323</td>\n",
              "      <td>1.624000</td>\n",
              "    </tr>\n",
              "  </tbody>\n",
              "</table>\n",
              "</div>"
            ],
            "text/plain": [
              "   Hydrofoil    Froude  Resistence   Sinkage      Trim     Power\n",
              "0          1  0.000000    0.000000  0.000000  0.000000  0.000000\n",
              "1          1  0.103733    2.549729 -0.689028  1.353022  0.950991\n",
              "2          1  0.124480    3.628461 -0.835413  1.346323  1.624000"
            ]
          },
          "metadata": {
            "tags": []
          },
          "execution_count": 8
        }
      ]
    },
    {
      "cell_type": "code",
      "metadata": {
        "id": "FEvCqRGUQZgr"
      },
      "source": [
        "# separa os dados em normatizados e originais\n",
        "DAT_OLD=[]\n",
        "DAT_OLD=Dat_Select.copy()\n",
        "\n",
        "X = Dat_Select[['Hydrofoil','Froude']]\n",
        "y = np.array(Dat_Select[['Power']]).reshape(-1,1)\n"
      ],
      "execution_count": 9,
      "outputs": []
    },
    {
      "cell_type": "code",
      "metadata": {
        "id": "W1D-K3kZfdKC"
      },
      "source": [
        "scaler = preprocessing.MinMaxScaler((-1,1)).fit(X)\n",
        "scalerY = preprocessing.MinMaxScaler((-1,1)).fit(y)"
      ],
      "execution_count": 10,
      "outputs": []
    },
    {
      "cell_type": "code",
      "metadata": {
        "id": "uSbyan6jglYS",
        "outputId": "f1318930-e4c5-40aa-9588-cfea9a586261",
        "colab": {
          "base_uri": "https://localhost:8080/"
        }
      },
      "source": [
        "print(y)"
      ],
      "execution_count": 11,
      "outputs": [
        {
          "output_type": "stream",
          "text": [
            "[[0.00000000e+00]\n",
            " [9.50991210e-01]\n",
            " [1.62400037e+00]\n",
            " [3.80396484e+00]\n",
            " [5.51721208e+00]\n",
            " [7.73229007e+00]\n",
            " [9.99272302e+01]\n",
            " [2.89906013e+02]\n",
            " [4.58816682e+02]\n",
            " [6.89102861e+02]\n",
            " [1.00512456e+03]\n",
            " [1.31039273e+03]\n",
            " [1.56840396e+03]\n",
            " [1.90929774e+03]\n",
            " [2.12982528e+03]\n",
            " [2.28384197e+03]\n",
            " [3.23995097e+03]\n",
            " [0.00000000e+00]\n",
            " [8.30288480e+00]\n",
            " [1.03877501e+02]\n",
            " [3.06146017e+02]\n",
            " [4.60864971e+02]\n",
            " [6.62036188e+02]\n",
            " [8.88811015e+02]\n",
            " [1.11119665e+03]\n",
            " [1.43965439e+03]\n",
            " [1.82370853e+03]\n",
            " [2.26561951e+03]\n",
            " [2.38479334e+03]\n",
            " [2.88369796e+03]\n",
            " [3.25010756e+03]\n",
            " [0.00000000e+00]\n",
            " [8.12000187e+00]\n",
            " [1.05340565e+02]\n",
            " [3.09437909e+02]\n",
            " [4.60864971e+02]\n",
            " [6.47405554e+02]\n",
            " [8.26045596e+02]\n",
            " [1.02414438e+03]\n",
            " [1.33431382e+03]\n",
            " [1.69532471e+03]\n",
            " [2.08694290e+03]\n",
            " [2.20922573e+03]\n",
            " [2.35085027e+03]\n",
            " [2.68618440e+03]\n",
            " [0.00000000e+00]\n",
            " [8.41261455e+00]\n",
            " [1.06803628e+02]\n",
            " [3.03951421e+02]\n",
            " [4.43308210e+02]\n",
            " [6.15949691e+02]\n",
            " [7.81275856e+02]\n",
            " [9.67816439e+02]\n",
            " [1.25706407e+03]\n",
            " [1.57352469e+03]\n",
            " [1.97258986e+03]\n",
            " [2.04828876e+03]\n",
            " [2.25955511e+03]\n",
            " [2.30695837e+03]]\n"
          ],
          "name": "stdout"
        }
      ]
    },
    {
      "cell_type": "code",
      "metadata": {
        "id": "Zr2r265HeweS",
        "outputId": "811d6ccb-4a8a-4561-e43f-9f0ea27e7474",
        "colab": {
          "base_uri": "https://localhost:8080/"
        }
      },
      "source": [
        "print(X)"
      ],
      "execution_count": 12,
      "outputs": [
        {
          "output_type": "stream",
          "text": [
            "    Hydrofoil    Froude\n",
            "0           1  0.000000\n",
            "1           1  0.103733\n",
            "2           1  0.124480\n",
            "3           1  0.165973\n",
            "4           1  0.186719\n",
            "5           1  0.207466\n",
            "6           1  0.414932\n",
            "7           1  0.622398\n",
            "8           1  0.829864\n",
            "9           1  1.037330\n",
            "10          1  1.244797\n",
            "11          1  1.452263\n",
            "12          1  1.659729\n",
            "13          1  1.867195\n",
            "14          1  2.026944\n",
            "15          1  2.074661\n",
            "16          1  2.400383\n",
            "17          2  0.000000\n",
            "18          2  0.207466\n",
            "19          2  0.414932\n",
            "20          2  0.622398\n",
            "21          2  0.829864\n",
            "22          2  1.037330\n",
            "23          2  1.244797\n",
            "24          2  1.452263\n",
            "25          2  1.659729\n",
            "26          2  1.867195\n",
            "27          2  2.026944\n",
            "28          2  2.074661\n",
            "29          2  2.240634\n",
            "30          2  2.400383\n",
            "31          3  0.000000\n",
            "32          3  0.207466\n",
            "33          3  0.414932\n",
            "34          3  0.622398\n",
            "35          3  0.829864\n",
            "36          3  1.037330\n",
            "37          3  1.244797\n",
            "38          3  1.452263\n",
            "39          3  1.659729\n",
            "40          3  1.867195\n",
            "41          3  2.026944\n",
            "42          3  2.074661\n",
            "43          3  2.157647\n",
            "44          3  2.240634\n",
            "45          4  0.000000\n",
            "46          4  0.207466\n",
            "47          4  0.414932\n",
            "48          4  0.622398\n",
            "49          4  0.829864\n",
            "50          4  1.037330\n",
            "51          4  1.244797\n",
            "52          4  1.452263\n",
            "53          4  1.659729\n",
            "54          4  1.867195\n",
            "55          4  2.026944\n",
            "56          4  2.074661\n",
            "57          4  2.157647\n",
            "58          4  2.240634\n"
          ],
          "name": "stdout"
        }
      ]
    },
    {
      "cell_type": "code",
      "metadata": {
        "id": "9_In7Roxklf-"
      },
      "source": [
        "X_train, X_test, y_train, y_test = train_test_split(X,y,test_size=0.20, shuffle=True, random_state=42)"
      ],
      "execution_count": 13,
      "outputs": []
    },
    {
      "cell_type": "code",
      "metadata": {
        "id": "a7xdJHoKhCUA"
      },
      "source": [
        "X_train = scaler.transform(X_train)\n",
        "X_test = scaler.transform(X_test)\n",
        "y_train = scalerY.transform(y_train)\n",
        "y_test = scalerY.transform(y_test)"
      ],
      "execution_count": 14,
      "outputs": []
    },
    {
      "cell_type": "code",
      "metadata": {
        "id": "CFUmjtqudltI",
        "outputId": "f0f7686b-7a42-4915-ef22-d5c94ac49ff6",
        "colab": {
          "base_uri": "https://localhost:8080/",
          "height": 53
        }
      },
      "source": [
        "'''\n",
        "print(X_train.head(2))\n",
        "print('===============')\n",
        "print(y_train.head(2))\n",
        "print('=============')\n",
        "print(X_test.head(2))\n",
        "print('===============')\n",
        "print(y_test.head(2))\n",
        "'''"
      ],
      "execution_count": 15,
      "outputs": [
        {
          "output_type": "execute_result",
          "data": {
            "application/vnd.google.colaboratory.intrinsic+json": {
              "type": "string"
            },
            "text/plain": [
              "\"\\nprint(X_train.head(2))\\nprint('===============')\\nprint(y_train.head(2))\\nprint('=============')\\nprint(X_test.head(2))\\nprint('===============')\\nprint(y_test.head(2))\\n\""
            ]
          },
          "metadata": {
            "tags": []
          },
          "execution_count": 15
        }
      ]
    },
    {
      "cell_type": "code",
      "metadata": {
        "id": "BpNn_IogQZgt"
      },
      "source": [
        "# define a rede neural \n",
        "model = MLPRegressor(solver='adam',activation='tanh',alpha=1e-5,hidden_layer_sizes=(9, 8),random_state=1)"
      ],
      "execution_count": 16,
      "outputs": []
    },
    {
      "cell_type": "code",
      "metadata": {
        "id": "Y8BteMytQZgu",
        "colab": {
          "base_uri": "https://localhost:8080/"
        },
        "outputId": "0e1a9c24-6093-42d4-d04d-7bce8826e4f0"
      },
      "source": [
        "# treina a rede neural\n",
        "model.fit(X_train, y_train)"
      ],
      "execution_count": 17,
      "outputs": [
        {
          "output_type": "stream",
          "text": [
            "/usr/local/lib/python3.7/dist-packages/sklearn/neural_network/_multilayer_perceptron.py:1342: DataConversionWarning: A column-vector y was passed when a 1d array was expected. Please change the shape of y to (n_samples, ), for example using ravel().\n",
            "  y = column_or_1d(y, warn=True)\n"
          ],
          "name": "stderr"
        },
        {
          "output_type": "execute_result",
          "data": {
            "text/plain": [
              "MLPRegressor(activation='tanh', alpha=1e-05, batch_size='auto', beta_1=0.9,\n",
              "             beta_2=0.999, early_stopping=False, epsilon=1e-08,\n",
              "             hidden_layer_sizes=(9, 8), learning_rate='constant',\n",
              "             learning_rate_init=0.001, max_fun=15000, max_iter=200,\n",
              "             momentum=0.9, n_iter_no_change=10, nesterovs_momentum=True,\n",
              "             power_t=0.5, random_state=1, shuffle=True, solver='adam',\n",
              "             tol=0.0001, validation_fraction=0.1, verbose=False,\n",
              "             warm_start=False)"
            ]
          },
          "metadata": {
            "tags": []
          },
          "execution_count": 17
        }
      ]
    },
    {
      "cell_type": "code",
      "metadata": {
        "id": "smaQ8uSGQZgv"
      },
      "source": [
        "# usa a rede neural treina em calculos para treino e teste\n",
        "y_calc_train=model.predict(X_train)\n",
        "y_calc_test=model.predict(X_test)"
      ],
      "execution_count": 18,
      "outputs": []
    },
    {
      "cell_type": "code",
      "metadata": {
        "id": "HtQy4misRBbY",
        "colab": {
          "base_uri": "https://localhost:8080/"
        },
        "outputId": "6555f027-d861-48fa-da29-369091698852"
      },
      "source": [
        "y_train"
      ],
      "execution_count": 19,
      "outputs": [
        {
          "output_type": "execute_result",
          "data": {
            "text/plain": [
              "array([[-0.60160977],\n",
              "       [-1.        ],\n",
              "       [-0.71766062],\n",
              "       [-1.        ],\n",
              "       [-0.93850835],\n",
              "       [-0.9966049 ],\n",
              "       [-0.03170916],\n",
              "       [-0.9360775 ],\n",
              "       [ 1.        ],\n",
              "       [-0.62096658],\n",
              "       [ 0.65298185],\n",
              "       [ 0.21386128],\n",
              "       [ 0.4053947 ],\n",
              "       [-0.57595073],\n",
              "       [ 0.39418125],\n",
              "       [ 0.12224503],\n",
              "       [ 0.99375   ],\n",
              "       [-0.31620931],\n",
              "       [-0.93517718],\n",
              "       [ 0.26044368],\n",
              "       [ 0.28423005],\n",
              "       [-0.19363116],\n",
              "       [-0.99500324],\n",
              "       [-0.40444036],\n",
              "       [ 0.04324222],\n",
              "       [-0.49168107],\n",
              "       [ 0.77452463],\n",
              "       [ 0.44662921],\n",
              "       [-0.99941479],\n",
              "       [-0.71640017],\n",
              "       [-0.99900065],\n",
              "       [-0.99482318],\n",
              "       [-0.17891098],\n",
              "       [-0.71640017],\n",
              "       [-0.45305748],\n",
              "       [-0.81295916],\n",
              "       [-0.38148228],\n",
              "       [-0.5926066 ],\n",
              "       [-0.9948907 ],\n",
              "       [ 0.41961971],\n",
              "       [-0.81160869],\n",
              "       [-0.8216022 ],\n",
              "       [ 0.35947854],\n",
              "       [ 0.31061834],\n",
              "       [ 0.46751657],\n",
              "       [-0.51923077],\n",
              "       [-0.36977816]])"
            ]
          },
          "metadata": {
            "tags": []
          },
          "execution_count": 19
        }
      ]
    },
    {
      "cell_type": "code",
      "metadata": {
        "id": "aVJXbUosQZgw"
      },
      "source": [
        "# transforma dos dados calculados na forma original (nao normatizado)\n",
        "y_obs_train=scalerY.inverse_transform(np.array(y_train).reshape(-1,1))\n",
        "y_obs_test=scalerY.inverse_transform(np.array(y_test).reshape(-1,1))\n",
        "y_cal_train=scalerY.inverse_transform(y_calc_train.reshape(-1,1))\n",
        "y_cal_test=scalerY.inverse_transform(y_calc_test.reshape(-1,1))"
      ],
      "execution_count": 20,
      "outputs": []
    },
    {
      "cell_type": "code",
      "metadata": {
        "id": "L5u6NVfbSOmC",
        "colab": {
          "base_uri": "https://localhost:8080/"
        },
        "outputId": "300d800b-1869-4db1-9078-b8d52f8fe2ac"
      },
      "source": [
        "y_calc_train"
      ],
      "execution_count": 21,
      "outputs": [
        {
          "output_type": "execute_result",
          "data": {
            "text/plain": [
              "array([-0.59033876, -1.33324087, -0.5119517 , -1.18567001, -0.74655217,\n",
              "       -0.86939259,  0.14112297, -0.93848435,  0.60451641, -0.56607745,\n",
              "        0.45901217,  0.27337716,  0.33384106, -0.38767848,  0.29480302,\n",
              "        0.16027471,  0.59109409, -0.18418788, -1.07184246,  0.31227643,\n",
              "        0.27836713, -0.12056912, -1.20891006, -0.21197401,  0.13943161,\n",
              "       -0.41196503,  0.47344488,  0.38967889, -0.91314533, -0.65968886,\n",
              "       -0.90225099, -1.20357858, -0.04415702, -0.76123381, -0.34961324,\n",
              "       -0.9030819 , -0.25751659, -0.50840131, -1.06597425,  0.44502267,\n",
              "       -0.80307921, -0.63129257,  0.31928211,  0.29691921,  0.33490347,\n",
              "       -0.3899764 , -0.22891362])"
            ]
          },
          "metadata": {
            "tags": []
          },
          "execution_count": 21
        }
      ]
    },
    {
      "cell_type": "code",
      "metadata": {
        "id": "RZrkRZ3GQZgz",
        "colab": {
          "base_uri": "https://localhost:8080/",
          "height": 279
        },
        "outputId": "9d63c818-05be-4b1f-d66b-7709cc81f4ce"
      },
      "source": [
        "# expressa os dois dados em figura\n",
        "fig = plt.figure()\n",
        "ax1 = fig.add_subplot(111)\n",
        "ax1.scatter(y_obs_test,y_calc_test, s=10, c='b', marker=\"s\", label='teste')\n",
        "ax1.scatter(y_obs_train,y_calc_train, s=10, c='r', marker=\"o\", label='treino')\n",
        "plt.legend(loc='upper left')\n",
        "plt.ylabel('Power Calc')\n",
        "plt.xlabel('Power Obs')\n",
        "plt.show()"
      ],
      "execution_count": 22,
      "outputs": [
        {
          "output_type": "display_data",
          "data": {
            "image/png": "[encoded data removed]",
            "text/plain": [
              "<Figure size 432x288 with 1 Axes>"
            ]
          },
          "metadata": {
            "tags": [],
            "needs_background": "light"
          }
        }
      ]
    },
    {
      "cell_type": "code",
      "metadata": {
        "id": "wcJdcwKbOPZK",
        "colab": {
          "base_uri": "https://localhost:8080/"
        },
        "outputId": "af928950-eacb-4588-e345-829a0ed6068c"
      },
      "source": [
        "y_cal_test"
      ],
      "execution_count": 23,
      "outputs": [
        {
          "output_type": "execute_result",
          "data": {
            "text/plain": [
              "array([[  53.32476775],\n",
              "       [ 230.13915559],\n",
              "       [ 126.26774083],\n",
              "       [1910.26450601],\n",
              "       [-544.42995703],\n",
              "       [1569.38254967],\n",
              "       [2241.22579701],\n",
              "       [1603.0185278 ],\n",
              "       [ -95.94084438],\n",
              "       [1663.67349287],\n",
              "       [ 425.86725671],\n",
              "       [ 194.39734146]])"
            ]
          },
          "metadata": {
            "tags": []
          },
          "execution_count": 23
        }
      ]
    },
    {
      "cell_type": "code",
      "metadata": {
        "id": "aj_XteG2QZg0",
        "colab": {
          "base_uri": "https://localhost:8080/"
        },
        "outputId": "49372f91-0697-4bd5-b35e-08ed4b7e8713"
      },
      "source": [
        "mse=mean_squared_error(y_obs_test,y_calc_test)\n",
        "print(\"MSE teste=\",mse)\n",
        "R2=r2_score(y_obs_test,y_calc_test)\n",
        "print(\"R^2 teste=\",R2)"
      ],
      "execution_count": 24,
      "outputs": [
        {
          "output_type": "stream",
          "text": [
            "MSE teste= 1263884.4455475493\n",
            "R^2 teste= -0.9072412342660199\n"
          ],
          "name": "stdout"
        }
      ]
    },
    {
      "cell_type": "code",
      "metadata": {
        "id": "efLwFnUqQZg1",
        "colab": {
          "base_uri": "https://localhost:8080/"
        },
        "outputId": "ac7494ed-1d66-4d79-fadd-034a2fdbc9d2"
      },
      "source": [
        "mse=mean_squared_error(y_obs_train,y_calc_train)\n",
        "print(\"MSE treino=\",mse)\n",
        "R2=r2_score(y_obs_train,y_calc_train)\n",
        "print(\"R^2 treino=\",R2)"
      ],
      "execution_count": 25,
      "outputs": [
        {
          "output_type": "stream",
          "text": [
            "MSE treino= 2264959.0720634507\n",
            "R^2 treino= -1.3568612830831182\n"
          ],
          "name": "stdout"
        }
      ]
    }
  ]
}
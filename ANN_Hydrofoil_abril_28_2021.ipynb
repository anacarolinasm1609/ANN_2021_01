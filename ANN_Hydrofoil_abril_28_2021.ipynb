{
  "nbformat": 4,
  "nbformat_minor": 0,
  "metadata": {
    "kernelspec": {
      "display_name": "Python 3",
      "language": "python",
      "name": "python3"
    },
    "language_info": {
      "codemirror_mode": {
        "name": "ipython",
        "version": 3
      },
      "file_extension": ".py",
      "mimetype": "text/x-python",
      "name": "python",
      "nbconvert_exporter": "python",
      "pygments_lexer": "ipython3",
      "version": "3.5.4"
    },
    "colab": {
      "name": "ANN_Hydrofoil_abril_28_2021.ipynb",
      "provenance": [],
      "include_colab_link": true
    }
  },
  "cells": [
    {
      "cell_type": "markdown",
      "metadata": {
        "id": "view-in-github",
        "colab_type": "text"
      },
      "source": [
        "<a href=\"https://colab.research.google.com/github/ucfilho/ANN_2021_01/blob/main/ANN_Hydrofoil_abril_28_2021.ipynb\" target=\"_parent\"><img src=\"https://colab.research.google.com/assets/colab-badge.svg\" alt=\"Open In Colab\"/></a>"
      ]
    },
    {
      "cell_type": "code",
      "metadata": {
        "id": "cF6kzanWQZgh"
      },
      "source": [
        "# bibliotecas usadas\n",
        "import numpy as np\n",
        "import pandas as pd\n",
        "import matplotlib.pyplot as plt\n",
        "from sklearn.neural_network import MLPRegressor\n",
        "from sklearn.model_selection import train_test_split\n",
        "from sklearn.metrics import mean_squared_error\n",
        "from sklearn import preprocessing\n",
        "from sklearn.metrics import r2_score "
      ],
      "execution_count": 1,
      "outputs": []
    },
    {
      "cell_type": "code",
      "metadata": {
        "id": "UW1APYrFQZgl"
      },
      "source": [
        "# para gerar o grafico no browser\n",
        "%matplotlib inline"
      ],
      "execution_count": 2,
      "outputs": []
    },
    {
      "cell_type": "code",
      "metadata": {
        "id": "xDrq_-S8QZgn",
        "colab": {
          "base_uri": "https://localhost:8080/"
        },
        "outputId": "4d7d3041-6716-4e19-d407-9f9da9993245"
      },
      "source": [
        "!git clone https://github.com/ucfilho/ANN_2021_01/\n",
        "%cd ANN_2021_01"
      ],
      "execution_count": 3,
      "outputs": [
        {
          "output_type": "stream",
          "text": [
            "Cloning into 'ANN_2021_01'...\n",
            "remote: Enumerating objects: 124, done.\u001b[K\n",
            "remote: Counting objects: 100% (124/124), done.\u001b[K\n",
            "remote: Compressing objects: 100% (118/118), done.\u001b[K\n",
            "remote: Total 124 (delta 63), reused 0 (delta 0), pack-reused 0\u001b[K\n",
            "Receiving objects: 100% (124/124), 176.96 KiB | 6.81 MiB/s, done.\n",
            "Resolving deltas: 100% (63/63), done.\n",
            "/content/ANN_2021_01\n"
          ],
          "name": "stdout"
        }
      ]
    },
    {
      "cell_type": "code",
      "metadata": {
        "id": "poo2kvF6QZgo"
      },
      "source": [
        "# leitura dos dados\n",
        "df=pd.read_csv(\"Hydrofoil_ago_29_2018.csv\")"
      ],
      "execution_count": 4,
      "outputs": []
    },
    {
      "cell_type": "code",
      "metadata": {
        "colab": {
          "base_uri": "https://localhost:8080/",
          "height": 136
        },
        "id": "7eQzdB0ucsLP",
        "outputId": "0910dcbf-2e7a-4d83-d922-08aff8c08c34"
      },
      "source": [
        "df.head(3)"
      ],
      "execution_count": 5,
      "outputs": [
        {
          "output_type": "execute_result",
          "data": {
            "text/html": [
              "<div>\n",
              "<style scoped>\n",
              "    .dataframe tbody tr th:only-of-type {\n",
              "        vertical-align: middle;\n",
              "    }\n",
              "\n",
              "    .dataframe tbody tr th {\n",
              "        vertical-align: top;\n",
              "    }\n",
              "\n",
              "    .dataframe thead th {\n",
              "        text-align: right;\n",
              "    }\n",
              "</style>\n",
              "<table border=\"1\" class=\"dataframe\">\n",
              "  <thead>\n",
              "    <tr style=\"text-align: right;\">\n",
              "      <th></th>\n",
              "      <th>Unnamed: 0</th>\n",
              "      <th>Case</th>\n",
              "      <th>Hydrofoil</th>\n",
              "      <th>Froude</th>\n",
              "      <th>Resistence</th>\n",
              "      <th>Sinkage</th>\n",
              "      <th>Trim</th>\n",
              "      <th>Power</th>\n",
              "    </tr>\n",
              "  </thead>\n",
              "  <tbody>\n",
              "    <tr>\n",
              "      <th>0</th>\n",
              "      <td>1</td>\n",
              "      <td>1</td>\n",
              "      <td>1</td>\n",
              "      <td>0.000000</td>\n",
              "      <td>0.000000</td>\n",
              "      <td>0.000000</td>\n",
              "      <td>0.000000</td>\n",
              "      <td>0.000000</td>\n",
              "    </tr>\n",
              "    <tr>\n",
              "      <th>1</th>\n",
              "      <td>2</td>\n",
              "      <td>2</td>\n",
              "      <td>1</td>\n",
              "      <td>0.103733</td>\n",
              "      <td>2.549729</td>\n",
              "      <td>-0.689028</td>\n",
              "      <td>1.353022</td>\n",
              "      <td>0.950991</td>\n",
              "    </tr>\n",
              "    <tr>\n",
              "      <th>2</th>\n",
              "      <td>3</td>\n",
              "      <td>3</td>\n",
              "      <td>1</td>\n",
              "      <td>0.124480</td>\n",
              "      <td>3.628461</td>\n",
              "      <td>-0.835413</td>\n",
              "      <td>1.346323</td>\n",
              "      <td>1.624000</td>\n",
              "    </tr>\n",
              "  </tbody>\n",
              "</table>\n",
              "</div>"
            ],
            "text/plain": [
              "   Unnamed: 0  Case  Hydrofoil  ...   Sinkage      Trim     Power\n",
              "0           1     1          1  ...  0.000000  0.000000  0.000000\n",
              "1           2     2          1  ... -0.689028  1.353022  0.950991\n",
              "2           3     3          1  ... -0.835413  1.346323  1.624000\n",
              "\n",
              "[3 rows x 8 columns]"
            ]
          },
          "metadata": {
            "tags": []
          },
          "execution_count": 5
        }
      ]
    },
    {
      "cell_type": "code",
      "metadata": {
        "colab": {
          "base_uri": "https://localhost:8080/",
          "height": 136
        },
        "id": "x35V_djsc9LI",
        "outputId": "45856395-fa12-42ce-ecb8-34c59986dcb9"
      },
      "source": [
        "df.tail(3)"
      ],
      "execution_count": 6,
      "outputs": [
        {
          "output_type": "execute_result",
          "data": {
            "text/html": [
              "<div>\n",
              "<style scoped>\n",
              "    .dataframe tbody tr th:only-of-type {\n",
              "        vertical-align: middle;\n",
              "    }\n",
              "\n",
              "    .dataframe tbody tr th {\n",
              "        vertical-align: top;\n",
              "    }\n",
              "\n",
              "    .dataframe thead th {\n",
              "        text-align: right;\n",
              "    }\n",
              "</style>\n",
              "<table border=\"1\" class=\"dataframe\">\n",
              "  <thead>\n",
              "    <tr style=\"text-align: right;\">\n",
              "      <th></th>\n",
              "      <th>Unnamed: 0</th>\n",
              "      <th>Case</th>\n",
              "      <th>Hydrofoil</th>\n",
              "      <th>Froude</th>\n",
              "      <th>Resistence</th>\n",
              "      <th>Sinkage</th>\n",
              "      <th>Trim</th>\n",
              "      <th>Power</th>\n",
              "    </tr>\n",
              "  </thead>\n",
              "  <tbody>\n",
              "    <tr>\n",
              "      <th>56</th>\n",
              "      <td>57</td>\n",
              "      <td>57</td>\n",
              "      <td>4</td>\n",
              "      <td>2.074661</td>\n",
              "      <td>274.586200</td>\n",
              "      <td>98.242317</td>\n",
              "      <td>2.955929</td>\n",
              "      <td>2048.288760</td>\n",
              "    </tr>\n",
              "    <tr>\n",
              "      <th>57</th>\n",
              "      <td>58</td>\n",
              "      <td>58</td>\n",
              "      <td>4</td>\n",
              "      <td>2.157647</td>\n",
              "      <td>291.257505</td>\n",
              "      <td>98.290939</td>\n",
              "      <td>2.932024</td>\n",
              "      <td>2259.555115</td>\n",
              "    </tr>\n",
              "    <tr>\n",
              "      <th>58</th>\n",
              "      <td>59</td>\n",
              "      <td>59</td>\n",
              "      <td>4</td>\n",
              "      <td>2.240634</td>\n",
              "      <td>286.354180</td>\n",
              "      <td>104.693695</td>\n",
              "      <td>2.979833</td>\n",
              "      <td>2306.958369</td>\n",
              "    </tr>\n",
              "  </tbody>\n",
              "</table>\n",
              "</div>"
            ],
            "text/plain": [
              "    Unnamed: 0  Case  Hydrofoil  ...     Sinkage      Trim        Power\n",
              "56          57    57          4  ...   98.242317  2.955929  2048.288760\n",
              "57          58    58          4  ...   98.290939  2.932024  2259.555115\n",
              "58          59    59          4  ...  104.693695  2.979833  2306.958369\n",
              "\n",
              "[3 rows x 8 columns]"
            ]
          },
          "metadata": {
            "tags": []
          },
          "execution_count": 6
        }
      ]
    },
    {
      "cell_type": "code",
      "metadata": {
        "id": "w1dEftL7brsj"
      },
      "source": [
        "Dat_Select=df.iloc[:,2:]"
      ],
      "execution_count": 7,
      "outputs": []
    },
    {
      "cell_type": "code",
      "metadata": {
        "colab": {
          "base_uri": "https://localhost:8080/",
          "height": 136
        },
        "id": "3ZSJRIGzfBse",
        "outputId": "51e04bf2-777e-48d7-8a63-505792ca85f7"
      },
      "source": [
        "Dat_Select.head(3)"
      ],
      "execution_count": 8,
      "outputs": [
        {
          "output_type": "execute_result",
          "data": {
            "text/html": [
              "<div>\n",
              "<style scoped>\n",
              "    .dataframe tbody tr th:only-of-type {\n",
              "        vertical-align: middle;\n",
              "    }\n",
              "\n",
              "    .dataframe tbody tr th {\n",
              "        vertical-align: top;\n",
              "    }\n",
              "\n",
              "    .dataframe thead th {\n",
              "        text-align: right;\n",
              "    }\n",
              "</style>\n",
              "<table border=\"1\" class=\"dataframe\">\n",
              "  <thead>\n",
              "    <tr style=\"text-align: right;\">\n",
              "      <th></th>\n",
              "      <th>Hydrofoil</th>\n",
              "      <th>Froude</th>\n",
              "      <th>Resistence</th>\n",
              "      <th>Sinkage</th>\n",
              "      <th>Trim</th>\n",
              "      <th>Power</th>\n",
              "    </tr>\n",
              "  </thead>\n",
              "  <tbody>\n",
              "    <tr>\n",
              "      <th>0</th>\n",
              "      <td>1</td>\n",
              "      <td>0.000000</td>\n",
              "      <td>0.000000</td>\n",
              "      <td>0.000000</td>\n",
              "      <td>0.000000</td>\n",
              "      <td>0.000000</td>\n",
              "    </tr>\n",
              "    <tr>\n",
              "      <th>1</th>\n",
              "      <td>1</td>\n",
              "      <td>0.103733</td>\n",
              "      <td>2.549729</td>\n",
              "      <td>-0.689028</td>\n",
              "      <td>1.353022</td>\n",
              "      <td>0.950991</td>\n",
              "    </tr>\n",
              "    <tr>\n",
              "      <th>2</th>\n",
              "      <td>1</td>\n",
              "      <td>0.124480</td>\n",
              "      <td>3.628461</td>\n",
              "      <td>-0.835413</td>\n",
              "      <td>1.346323</td>\n",
              "      <td>1.624000</td>\n",
              "    </tr>\n",
              "  </tbody>\n",
              "</table>\n",
              "</div>"
            ],
            "text/plain": [
              "   Hydrofoil    Froude  Resistence   Sinkage      Trim     Power\n",
              "0          1  0.000000    0.000000  0.000000  0.000000  0.000000\n",
              "1          1  0.103733    2.549729 -0.689028  1.353022  0.950991\n",
              "2          1  0.124480    3.628461 -0.835413  1.346323  1.624000"
            ]
          },
          "metadata": {
            "tags": []
          },
          "execution_count": 8
        }
      ]
    },
    {
      "cell_type": "code",
      "metadata": {
        "id": "FEvCqRGUQZgr"
      },
      "source": [
        "# separa os dados em normatizados e originais\n",
        "X = Dat_Select[['Hydrofoil','Froude']]\n",
        "y = np.array(Dat_Select[['Power']]).reshape(-1,1)"
      ],
      "execution_count": 9,
      "outputs": []
    },
    {
      "cell_type": "code",
      "metadata": {
        "id": "9_In7Roxklf-"
      },
      "source": [
        "X_train, X_test, y_train, y_test = train_test_split(X,y,test_size=0.20, shuffle=True, random_state=42)"
      ],
      "execution_count": 10,
      "outputs": []
    },
    {
      "cell_type": "code",
      "metadata": {
        "id": "W1D-K3kZfdKC"
      },
      "source": [
        "scaler_X = preprocessing.MinMaxScaler((-1,1)).fit(X)\n",
        "scaler_Y = preprocessing.MinMaxScaler((-1,1)).fit(y)"
      ],
      "execution_count": 11,
      "outputs": []
    },
    {
      "cell_type": "code",
      "metadata": {
        "id": "a7xdJHoKhCUA"
      },
      "source": [
        "X_train = scaler_X.transform(X_train)\n",
        "X_test = scaler_X.transform(X_test)\n",
        "y_train = scaler_Y.transform(y_train)\n",
        "y_test = scaler_Y.transform(y_test)"
      ],
      "execution_count": 12,
      "outputs": []
    },
    {
      "cell_type": "code",
      "metadata": {
        "id": "BpNn_IogQZgt",
        "colab": {
          "base_uri": "https://localhost:8080/"
        },
        "outputId": "abf55dad-380d-4190-dd09-6508b49f9740"
      },
      "source": [
        "# define a rede neural \n",
        "model = MLPRegressor(solver='lbfgs',activation='tanh',alpha=1e-5,hidden_layer_sizes=(9, 8),\n",
        "                     random_state=1)\n",
        "# treina a rede neural\n",
        "model.fit(X_train, y_train)\n",
        "# usa a rede neural treina em calculos para treino e teste\n",
        "y_calc_train=model.predict(X_train)\n",
        "y_calc_test=model.predict(X_test)\n",
        "# transforma dos dados calculados na forma original (nao normatizado)\n",
        "y_obs_train=scaler_Y.inverse_transform(np.array(y_train).reshape(-1,1))\n",
        "y_obs_test=scaler_Y.inverse_transform(np.array(y_test).reshape(-1,1))\n",
        "y_calc_train=scaler_Y.inverse_transform(y_calc_train.reshape(-1,1))\n",
        "y_calc_test=scaler_Y.inverse_transform(y_calc_test.reshape(-1,1))\n",
        "mse=mean_squared_error(y_obs_test,y_calc_test)\n",
        "print(\"MSE teste=\",mse)\n",
        "R2=r2_score(y_obs_test,y_calc_test)\n",
        "print(\"R^2 teste=\",R2)\n",
        "mse=mean_squared_error(y_obs_train,y_calc_train)\n",
        "print(\"MSE treino=\",mse)\n",
        "R2=r2_score(y_obs_train,y_calc_train)\n",
        "print(\"R^2 treino=\",R2)"
      ],
      "execution_count": 13,
      "outputs": [
        {
          "output_type": "stream",
          "text": [
            "MSE teste= 2071.442972912793\n",
            "R^2 teste= 0.9968741276417415\n",
            "MSE treino= 2208.631446140372\n",
            "R^2 treino= 0.9977017518734828\n"
          ],
          "name": "stdout"
        },
        {
          "output_type": "stream",
          "text": [
            "/usr/local/lib/python3.7/dist-packages/sklearn/neural_network/_multilayer_perceptron.py:1342: DataConversionWarning: A column-vector y was passed when a 1d array was expected. Please change the shape of y to (n_samples, ), for example using ravel().\n",
            "  y = column_or_1d(y, warn=True)\n"
          ],
          "name": "stderr"
        }
      ]
    }
  ]
}
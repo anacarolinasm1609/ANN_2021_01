{
  "nbformat": 4,
  "nbformat_minor": 0,
  "metadata": {
    "colab": {
      "name": "Projeto 1 RN.ipynb",
      "provenance": [],
      "include_colab_link": true
    },
    "kernelspec": {
      "name": "python3",
      "display_name": "Python 3"
    },
    "language_info": {
      "name": "python"
    }
  },
  "cells": [
    {
      "cell_type": "markdown",
      "metadata": {
        "id": "view-in-github",
        "colab_type": "text"
      },
      "source": [
        "<a href=\"https://colab.research.google.com/github/ucfilho/ANN_2021_01/blob/main/DataSet_Reading_ANN/Projeto_1_RN.ipynb\" target=\"_parent\"><img src=\"https://colab.research.google.com/assets/colab-badge.svg\" alt=\"Open In Colab\"/></a>"
      ]
    },
    {
      "cell_type": "code",
      "metadata": {
        "id": "1Dnn5My4tqNF"
      },
      "source": [
        "# Projeto 1: Disciplina de Redes Neurais\n",
        "# Tema: Modelagem de Rede Neural Artificial para Adsorção de Corantes de solução aquosa usando carbono de casca de arroz\n",
        "# Aluna: Fernanda Silva Pimenta\n",
        "# Data: 12/05/2021\n",
        "#\n",
        "# Inicialmente é necessário definir as bibliotecas que serão utilizadas para a execução do código corretamente:\n",
        "import numpy as np\n",
        "# numpy é a biblioteca numérica do Phyton\n",
        "import pandas as pd\n",
        "# pandas é a biblioteca responsável pela manipulação de arquivos\n",
        "import matplotlib.pyplot as plt\n",
        "# matplotlib.pyplot é a biblioteca usada para fazer gráficos no Phyton\n",
        "from sklearn.neural_network import MLPRegressor\n",
        "# sklearn.neural_network é a biblioteca usada para fazer classificação e regressão, neste caso, ela faz a regressão (MLPRegressor)\n",
        "from sklearn.metrics import mean_squared_error\n",
        "# Essa biblioteca é usada para fazer a soma dos quadrados dos desvios\n",
        "from sklearn.metrics import r2_score \n",
        "# Essa biblioteca foi criada para avaliar se o ajuste está bom através do coeficiente de determinação\n",
        "from google.colab import files\n",
        "# Essa biblioteca é usada para carregar arquivos no Phyton\n"
      ],
      "execution_count": 1,
      "outputs": []
    },
    {
      "cell_type": "code",
      "metadata": {
        "id": "5qZF3TZHz3G0"
      },
      "source": [
        "%matplotlib inline\n",
        "# Esse comando indica a construção de gráficos no browser, entretanto, mesmo sem essa linha o Phyton geraria o gráfico normalmente"
      ],
      "execution_count": 2,
      "outputs": []
    },
    {
      "cell_type": "code",
      "metadata": {
        "id": "Bp-Tx3yfkUhT",
        "outputId": "60cd5213-4ded-40cf-ff29-2a9a0082c5f6",
        "colab": {
          "base_uri": "https://localhost:8080/"
        }
      },
      "source": [
        "!git clone https://github.com/Fernanda101704/Basededados\n",
        "%cd Basededados"
      ],
      "execution_count": 3,
      "outputs": [
        {
          "output_type": "stream",
          "text": [
            "fatal: destination path 'Basededados' already exists and is not an empty directory.\n",
            "/content/Basededados\n"
          ],
          "name": "stdout"
        }
      ]
    },
    {
      "cell_type": "code",
      "metadata": {
        "id": "mO582cA2kg9y",
        "outputId": "9b83f4c3-c2eb-43f8-ccec-2f2470881f7c",
        "colab": {
          "base_uri": "https://localhost:8080/"
        }
      },
      "source": [
        "# leitura dos dados\n",
        "df=pd.read_csv(\"Dados projeto 1 RN.csv\",delimiter=';')\n",
        "print(df.head())"
      ],
      "execution_count": 4,
      "outputs": [
        {
          "output_type": "stream",
          "text": [
            "  Abs    IC    AA         AD    PRA\n",
            "0  BR  1000   2.0       39.0  78.00\n",
            "1  BR  1000   4.0       21.5  86.00\n",
            "2  BR  1000   6.0  1491667.0  89.50\n",
            "3  BR  1000   8.0   115625.0  92.50\n",
            "4  BR  1000  10.0     9375.0  93.75\n"
          ],
          "name": "stdout"
        }
      ]
    }
  ]
}